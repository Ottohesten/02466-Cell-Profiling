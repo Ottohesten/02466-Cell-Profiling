{
 "cells": [
  {
   "cell_type": "code",
   "execution_count": 74,
   "metadata": {},
   "outputs": [],
   "source": [
    "import numpy as np\n",
    "import pandas as pd\n",
    "import matplotlib.pyplot as plt\n",
    "import plotly.express as px\n",
    "\n",
    "FIGURE_DIR = \"figures/\""
   ]
  },
  {
   "cell_type": "code",
   "execution_count": 75,
   "metadata": {},
   "outputs": [],
   "source": [
    "TRAIN_DATA_DIR = \"train_data/\"\n",
    "filenames = [\n",
    "    \"VAE_CELL_CNN_latent2_mean_loss_data.csv\",\n",
    "    \"VAE_CELL_CNN_latent8_mean_loss_data.csv\",\n",
    "    \"VAE_CELL_CNN_latent16_mean_loss_data.csv\",\n",
    "    \"VAE_CELL_CNN_latent32_mean_loss_data.csv\",\n",
    "    \"VAE_CELL_CNN_latent64_mean_loss_data.csv\",\n",
    "    \"VAE_CELL_CNN_latent128_mean_loss_data.csv\",\n",
    "    \"VAE_CELL_CNN_latent256_mean_loss_data.csv\",\n",
    "]\n",
    "\n",
    "dfs = [pd.read_csv(TRAIN_DATA_DIR + filename) for filename in filenames]\n",
    "\n"
   ]
  },
  {
   "cell_type": "code",
   "execution_count": 76,
   "metadata": {},
   "outputs": [
    {
     "name": "stderr",
     "output_type": "stream",
     "text": [
      "C:\\Users\\Otto\\AppData\\Local\\Temp\\ipykernel_10868\\4086857407.py:10: FutureWarning:\n",
      "\n",
      "The behavior of DataFrame concatenation with empty or all-NA entries is deprecated. In a future version, this will no longer exclude empty or all-NA columns when determining the result dtypes. To retain the old behavior, exclude the relevant entries before the concat operation.\n",
      "\n"
     ]
    }
   ],
   "source": [
    "def extract_latent_dim(filename):\n",
    "    return filename.split(\"_\")[3].split(\"latent\")[1]\n",
    "\n",
    "# combine all the dataframes\n",
    "df_overall = pd.DataFrame(columns=[\"latent_dim\"] + dfs[0].columns.tolist())\n",
    "for filename, df in zip(filenames, dfs):\n",
    "    \n",
    "    latent_dim = extract_latent_dim(filename)\n",
    "    df[\"latent_dim\"] = latent_dim\n",
    "    df_overall = pd.concat([df_overall, df])\n",
    "\n"
   ]
  },
  {
   "cell_type": "code",
   "execution_count": 77,
   "metadata": {},
   "outputs": [
    {
     "data": {
      "text/html": [
       "<div>\n",
       "<style scoped>\n",
       "    .dataframe tbody tr th:only-of-type {\n",
       "        vertical-align: middle;\n",
       "    }\n",
       "\n",
       "    .dataframe tbody tr th {\n",
       "        vertical-align: top;\n",
       "    }\n",
       "\n",
       "    .dataframe thead th {\n",
       "        text-align: right;\n",
       "    }\n",
       "</style>\n",
       "<table border=\"1\" class=\"dataframe\">\n",
       "  <thead>\n",
       "    <tr style=\"text-align: right;\">\n",
       "      <th></th>\n",
       "      <th>latent_dim</th>\n",
       "      <th>train_loss</th>\n",
       "      <th>train_mse_loss</th>\n",
       "      <th>train_kld_loss</th>\n",
       "      <th>val_loss</th>\n",
       "      <th>val_mse_loss</th>\n",
       "      <th>val_kld_loss</th>\n",
       "      <th>test_loss</th>\n",
       "      <th>test_mse_loss</th>\n",
       "      <th>test_kld_loss</th>\n",
       "    </tr>\n",
       "  </thead>\n",
       "  <tbody>\n",
       "    <tr>\n",
       "      <th>0</th>\n",
       "      <td>2</td>\n",
       "      <td>217.022</td>\n",
       "      <td>209.691</td>\n",
       "      <td>7.331</td>\n",
       "      <td>197.489</td>\n",
       "      <td>190.514</td>\n",
       "      <td>6.975</td>\n",
       "      <td>184.232</td>\n",
       "      <td>177.776</td>\n",
       "      <td>6.456</td>\n",
       "    </tr>\n",
       "    <tr>\n",
       "      <th>1</th>\n",
       "      <td>2</td>\n",
       "      <td>195.241</td>\n",
       "      <td>188.399</td>\n",
       "      <td>6.842</td>\n",
       "      <td>193.323</td>\n",
       "      <td>186.466</td>\n",
       "      <td>6.858</td>\n",
       "      <td>184.232</td>\n",
       "      <td>177.776</td>\n",
       "      <td>6.456</td>\n",
       "    </tr>\n",
       "    <tr>\n",
       "      <th>2</th>\n",
       "      <td>2</td>\n",
       "      <td>192.215</td>\n",
       "      <td>185.774</td>\n",
       "      <td>6.441</td>\n",
       "      <td>190.925</td>\n",
       "      <td>184.502</td>\n",
       "      <td>6.422</td>\n",
       "      <td>184.232</td>\n",
       "      <td>177.776</td>\n",
       "      <td>6.456</td>\n",
       "    </tr>\n",
       "    <tr>\n",
       "      <th>3</th>\n",
       "      <td>2</td>\n",
       "      <td>190.937</td>\n",
       "      <td>184.701</td>\n",
       "      <td>6.236</td>\n",
       "      <td>190.577</td>\n",
       "      <td>184.456</td>\n",
       "      <td>6.121</td>\n",
       "      <td>184.232</td>\n",
       "      <td>177.776</td>\n",
       "      <td>6.456</td>\n",
       "    </tr>\n",
       "    <tr>\n",
       "      <th>4</th>\n",
       "      <td>2</td>\n",
       "      <td>192.659</td>\n",
       "      <td>186.240</td>\n",
       "      <td>6.420</td>\n",
       "      <td>191.326</td>\n",
       "      <td>184.803</td>\n",
       "      <td>6.523</td>\n",
       "      <td>184.232</td>\n",
       "      <td>177.776</td>\n",
       "      <td>6.456</td>\n",
       "    </tr>\n",
       "    <tr>\n",
       "      <th>...</th>\n",
       "      <td>...</td>\n",
       "      <td>...</td>\n",
       "      <td>...</td>\n",
       "      <td>...</td>\n",
       "      <td>...</td>\n",
       "      <td>...</td>\n",
       "      <td>...</td>\n",
       "      <td>...</td>\n",
       "      <td>...</td>\n",
       "      <td>...</td>\n",
       "    </tr>\n",
       "    <tr>\n",
       "      <th>45</th>\n",
       "      <td>256</td>\n",
       "      <td>87.635</td>\n",
       "      <td>54.181</td>\n",
       "      <td>33.454</td>\n",
       "      <td>88.280</td>\n",
       "      <td>54.740</td>\n",
       "      <td>33.541</td>\n",
       "      <td>88.177</td>\n",
       "      <td>54.581</td>\n",
       "      <td>33.596</td>\n",
       "    </tr>\n",
       "    <tr>\n",
       "      <th>46</th>\n",
       "      <td>256</td>\n",
       "      <td>87.598</td>\n",
       "      <td>54.141</td>\n",
       "      <td>33.458</td>\n",
       "      <td>88.030</td>\n",
       "      <td>54.538</td>\n",
       "      <td>33.492</td>\n",
       "      <td>88.177</td>\n",
       "      <td>54.581</td>\n",
       "      <td>33.596</td>\n",
       "    </tr>\n",
       "    <tr>\n",
       "      <th>47</th>\n",
       "      <td>256</td>\n",
       "      <td>87.581</td>\n",
       "      <td>54.131</td>\n",
       "      <td>33.450</td>\n",
       "      <td>88.353</td>\n",
       "      <td>54.308</td>\n",
       "      <td>34.045</td>\n",
       "      <td>88.177</td>\n",
       "      <td>54.581</td>\n",
       "      <td>33.596</td>\n",
       "    </tr>\n",
       "    <tr>\n",
       "      <th>48</th>\n",
       "      <td>256</td>\n",
       "      <td>87.544</td>\n",
       "      <td>54.087</td>\n",
       "      <td>33.457</td>\n",
       "      <td>88.211</td>\n",
       "      <td>54.735</td>\n",
       "      <td>33.476</td>\n",
       "      <td>88.177</td>\n",
       "      <td>54.581</td>\n",
       "      <td>33.596</td>\n",
       "    </tr>\n",
       "    <tr>\n",
       "      <th>49</th>\n",
       "      <td>256</td>\n",
       "      <td>87.545</td>\n",
       "      <td>54.090</td>\n",
       "      <td>33.455</td>\n",
       "      <td>88.062</td>\n",
       "      <td>54.504</td>\n",
       "      <td>33.558</td>\n",
       "      <td>88.177</td>\n",
       "      <td>54.581</td>\n",
       "      <td>33.596</td>\n",
       "    </tr>\n",
       "  </tbody>\n",
       "</table>\n",
       "<p>350 rows × 10 columns</p>\n",
       "</div>"
      ],
      "text/plain": [
       "   latent_dim  train_loss  train_mse_loss  train_kld_loss  val_loss  \\\n",
       "0           2     217.022         209.691           7.331   197.489   \n",
       "1           2     195.241         188.399           6.842   193.323   \n",
       "2           2     192.215         185.774           6.441   190.925   \n",
       "3           2     190.937         184.701           6.236   190.577   \n",
       "4           2     192.659         186.240           6.420   191.326   \n",
       "..        ...         ...             ...             ...       ...   \n",
       "45        256      87.635          54.181          33.454    88.280   \n",
       "46        256      87.598          54.141          33.458    88.030   \n",
       "47        256      87.581          54.131          33.450    88.353   \n",
       "48        256      87.544          54.087          33.457    88.211   \n",
       "49        256      87.545          54.090          33.455    88.062   \n",
       "\n",
       "    val_mse_loss  val_kld_loss  test_loss  test_mse_loss  test_kld_loss  \n",
       "0        190.514         6.975    184.232        177.776          6.456  \n",
       "1        186.466         6.858    184.232        177.776          6.456  \n",
       "2        184.502         6.422    184.232        177.776          6.456  \n",
       "3        184.456         6.121    184.232        177.776          6.456  \n",
       "4        184.803         6.523    184.232        177.776          6.456  \n",
       "..           ...           ...        ...            ...            ...  \n",
       "45        54.740        33.541     88.177         54.581         33.596  \n",
       "46        54.538        33.492     88.177         54.581         33.596  \n",
       "47        54.308        34.045     88.177         54.581         33.596  \n",
       "48        54.735        33.476     88.177         54.581         33.596  \n",
       "49        54.504        33.558     88.177         54.581         33.596  \n",
       "\n",
       "[350 rows x 10 columns]"
      ]
     },
     "execution_count": 77,
     "metadata": {},
     "output_type": "execute_result"
    }
   ],
   "source": [
    "def prepare_df(df):\n",
    "    df.columns = df.columns.str.replace(\"_\", \" \")\n",
    "    # df.columns = df.columns.str.replace(\"loss\", \"\")\n",
    "    df.columns = df.columns.str.strip()\n",
    "    return df\n",
    "# round to 2 decimal places\n",
    "df_overall = df_overall.round(3)\n",
    "df_overall\n",
    "\n"
   ]
  },
  {
   "cell_type": "code",
   "execution_count": 78,
   "metadata": {},
   "outputs": [
    {
     "data": {
      "application/vnd.plotly.v1+json": {
       "config": {
        "plotlyServerURL": "https://plot.ly"
       },
       "data": [
        {
         "hovertemplate": "latent_dim=2<br>index=%{x}<br>train_loss=%{y}<extra></extra>",
         "legendgroup": "2",
         "line": {
          "color": "#636efa",
          "dash": "solid"
         },
         "marker": {
          "symbol": "circle"
         },
         "mode": "lines",
         "name": "2",
         "orientation": "v",
         "showlegend": true,
         "type": "scatter",
         "x": [
          0,
          1,
          2,
          3,
          4,
          5,
          6,
          7,
          8,
          9,
          10,
          11,
          12,
          13,
          14,
          15,
          16,
          17,
          18,
          19,
          20,
          21,
          22,
          23,
          24,
          25,
          26,
          27,
          28,
          29,
          30,
          31,
          32,
          33,
          34,
          35,
          36,
          37,
          38,
          39,
          40,
          41,
          42,
          43,
          44,
          45,
          46,
          47,
          48,
          49
         ],
         "xaxis": "x",
         "y": [
          217.022,
          195.241,
          192.215,
          190.937,
          192.659,
          191.684,
          190.716,
          189.938,
          189.134,
          188.493,
          188.154,
          187.751,
          187.214,
          187.115,
          186.794,
          186.27,
          186.273,
          185.685,
          185.554,
          185.69,
          185.038,
          184.998,
          185.256,
          185.429,
          185.359,
          185.183,
          184.801,
          184.627,
          184.272,
          184.442,
          184.226,
          184.354,
          184.601,
          184.169,
          184.059,
          184.299,
          184.598,
          183.727,
          184.336,
          184.211,
          183.521,
          183.559,
          183.77,
          183.54,
          183.868,
          183.429,
          183.703,
          183.516,
          183.565,
          183.696
         ],
         "yaxis": "y"
        },
        {
         "hovertemplate": "latent_dim=8<br>index=%{x}<br>train_loss=%{y}<extra></extra>",
         "legendgroup": "8",
         "line": {
          "color": "#EF553B",
          "dash": "solid"
         },
         "marker": {
          "symbol": "circle"
         },
         "mode": "lines",
         "name": "8",
         "orientation": "v",
         "showlegend": true,
         "type": "scatter",
         "x": [
          0,
          1,
          2,
          3,
          4,
          5,
          6,
          7,
          8,
          9,
          10,
          11,
          12,
          13,
          14,
          15,
          16,
          17,
          18,
          19,
          20,
          21,
          22,
          23,
          24,
          25,
          26,
          27,
          28,
          29,
          30,
          31,
          32,
          33,
          34,
          35,
          36,
          37,
          38,
          39,
          40,
          41,
          42,
          43,
          44,
          45,
          46,
          47,
          48,
          49
         ],
         "xaxis": "x",
         "y": [
          155.801,
          125.991,
          123.21,
          121.734,
          120.751,
          120.038,
          119.493,
          119.035,
          118.697,
          118.398,
          118.108,
          117.882,
          117.673,
          117.508,
          117.377,
          117.221,
          117.079,
          116.963,
          116.811,
          116.736,
          116.62,
          116.538,
          116.493,
          116.399,
          116.321,
          116.227,
          116.124,
          116.07,
          116.07,
          115.98,
          115.917,
          115.852,
          115.797,
          115.743,
          115.684,
          115.621,
          115.544,
          115.535,
          115.491,
          115.402,
          115.391,
          115.353,
          115.363,
          115.287,
          115.257,
          115.232,
          115.161,
          115.131,
          115.098,
          115.046
         ],
         "yaxis": "y"
        },
        {
         "hovertemplate": "latent_dim=16<br>index=%{x}<br>train_loss=%{y}<extra></extra>",
         "legendgroup": "16",
         "line": {
          "color": "#00cc96",
          "dash": "solid"
         },
         "marker": {
          "symbol": "circle"
         },
         "mode": "lines",
         "name": "16",
         "orientation": "v",
         "showlegend": true,
         "type": "scatter",
         "x": [
          0,
          1,
          2,
          3,
          4,
          5,
          6,
          7,
          8,
          9,
          10,
          11,
          12,
          13,
          14,
          15,
          16,
          17,
          18,
          19,
          20,
          21,
          22,
          23,
          24,
          25,
          26,
          27,
          28,
          29,
          30,
          31,
          32,
          33,
          34,
          35,
          36,
          37,
          38,
          39,
          40,
          41,
          42,
          43,
          44,
          45,
          46,
          47,
          48,
          49
         ],
         "xaxis": "x",
         "y": [
          140.348,
          106.907,
          103.528,
          101.701,
          100.57,
          99.778,
          99.203,
          98.744,
          98.416,
          98.07,
          97.827,
          97.595,
          97.375,
          97.187,
          97.024,
          96.888,
          96.716,
          96.621,
          96.499,
          96.396,
          96.281,
          96.199,
          96.11,
          96.041,
          95.956,
          95.88,
          95.803,
          95.748,
          95.691,
          95.623,
          95.582,
          95.554,
          95.48,
          95.414,
          95.376,
          95.327,
          95.277,
          95.237,
          95.208,
          95.163,
          95.12,
          95.076,
          95.056,
          95.007,
          94.992,
          94.965,
          94.912,
          94.895,
          94.847,
          94.84
         ],
         "yaxis": "y"
        },
        {
         "hovertemplate": "latent_dim=32<br>index=%{x}<br>train_loss=%{y}<extra></extra>",
         "legendgroup": "32",
         "line": {
          "color": "#ab63fa",
          "dash": "solid"
         },
         "marker": {
          "symbol": "circle"
         },
         "mode": "lines",
         "name": "32",
         "orientation": "v",
         "showlegend": true,
         "type": "scatter",
         "x": [
          0,
          1,
          2,
          3,
          4,
          5,
          6,
          7,
          8,
          9,
          10,
          11,
          12,
          13,
          14,
          15,
          16,
          17,
          18,
          19,
          20,
          21,
          22,
          23,
          24,
          25,
          26,
          27,
          28,
          29,
          30,
          31,
          32,
          33,
          34,
          35,
          36,
          37,
          38,
          39,
          40,
          41,
          42,
          43,
          44,
          45,
          46,
          47,
          48,
          49
         ],
         "xaxis": "x",
         "y": [
          136.128,
          98.578,
          95.41,
          93.78,
          92.747,
          92.064,
          91.514,
          91.114,
          90.771,
          90.5,
          90.237,
          90.067,
          89.874,
          89.719,
          89.585,
          89.467,
          89.338,
          89.242,
          89.134,
          89.06,
          88.951,
          88.922,
          88.835,
          88.757,
          88.701,
          88.647,
          88.62,
          88.541,
          88.502,
          88.453,
          88.405,
          88.366,
          88.337,
          88.297,
          88.249,
          88.222,
          88.188,
          88.161,
          88.124,
          88.098,
          88.053,
          88.049,
          88.027,
          87.988,
          87.965,
          87.926,
          87.929,
          87.882,
          87.871,
          87.858
         ],
         "yaxis": "y"
        },
        {
         "hovertemplate": "latent_dim=64<br>index=%{x}<br>train_loss=%{y}<extra></extra>",
         "legendgroup": "64",
         "line": {
          "color": "#FFA15A",
          "dash": "solid"
         },
         "marker": {
          "symbol": "circle"
         },
         "mode": "lines",
         "name": "64",
         "orientation": "v",
         "showlegend": true,
         "type": "scatter",
         "x": [
          0,
          1,
          2,
          3,
          4,
          5,
          6,
          7,
          8,
          9,
          10,
          11,
          12,
          13,
          14,
          15,
          16,
          17,
          18,
          19,
          20,
          21,
          22,
          23,
          24,
          25,
          26,
          27,
          28,
          29,
          30,
          31,
          32,
          33,
          34,
          35,
          36,
          37,
          38,
          39,
          40,
          41,
          42,
          43,
          44,
          45,
          46,
          47,
          48,
          49
         ],
         "xaxis": "x",
         "y": [
          136.164,
          97.56,
          94.416,
          92.89,
          91.957,
          91.237,
          90.702,
          90.322,
          89.93,
          89.658,
          89.404,
          89.186,
          89.013,
          88.854,
          88.718,
          88.606,
          88.483,
          88.385,
          88.304,
          88.22,
          88.108,
          88.072,
          87.997,
          87.917,
          87.864,
          87.826,
          87.778,
          87.7,
          87.671,
          87.617,
          87.571,
          87.539,
          87.5,
          87.454,
          87.42,
          87.384,
          87.337,
          87.304,
          87.294,
          87.259,
          87.236,
          87.195,
          87.179,
          87.142,
          87.138,
          87.114,
          87.066,
          87.063,
          87.027,
          87.029
         ],
         "yaxis": "y"
        },
        {
         "hovertemplate": "latent_dim=128<br>index=%{x}<br>train_loss=%{y}<extra></extra>",
         "legendgroup": "128",
         "line": {
          "color": "#19d3f3",
          "dash": "solid"
         },
         "marker": {
          "symbol": "circle"
         },
         "mode": "lines",
         "name": "128",
         "orientation": "v",
         "showlegend": true,
         "type": "scatter",
         "x": [
          0,
          1,
          2,
          3,
          4,
          5,
          6,
          7,
          8,
          9,
          10,
          11,
          12,
          13,
          14,
          15,
          16,
          17,
          18,
          19,
          20,
          21,
          22,
          23,
          24,
          25,
          26,
          27,
          28,
          29,
          30,
          31,
          32,
          33,
          34,
          35,
          36,
          37,
          38,
          39,
          40,
          41,
          42,
          43,
          44,
          45,
          46,
          47,
          48,
          49
         ],
         "xaxis": "x",
         "y": [
          134.584,
          98.324,
          94.849,
          93.326,
          92.479,
          91.798,
          91.295,
          90.873,
          90.574,
          90.328,
          90.073,
          89.938,
          89.71,
          89.609,
          89.486,
          89.348,
          89.242,
          89.104,
          89.072,
          88.955,
          88.909,
          88.87,
          88.771,
          88.757,
          88.715,
          88.642,
          88.571,
          88.557,
          88.504,
          88.5,
          88.429,
          88.385,
          88.335,
          88.347,
          88.299,
          88.257,
          88.222,
          88.193,
          88.161,
          88.148,
          88.139,
          88.122,
          88.103,
          88.057,
          88.061,
          88.056,
          88.014,
          87.985,
          88.018,
          87.947
         ],
         "yaxis": "y"
        },
        {
         "hovertemplate": "latent_dim=256<br>index=%{x}<br>train_loss=%{y}<extra></extra>",
         "legendgroup": "256",
         "line": {
          "color": "#FF6692",
          "dash": "solid"
         },
         "marker": {
          "symbol": "circle"
         },
         "mode": "lines",
         "name": "256",
         "orientation": "v",
         "showlegend": true,
         "type": "scatter",
         "x": [
          0,
          1,
          2,
          3,
          4,
          5,
          6,
          7,
          8,
          9,
          10,
          11,
          12,
          13,
          14,
          15,
          16,
          17,
          18,
          19,
          20,
          21,
          22,
          23,
          24,
          25,
          26,
          27,
          28,
          29,
          30,
          31,
          32,
          33,
          34,
          35,
          36,
          37,
          38,
          39,
          40,
          41,
          42,
          43,
          44,
          45,
          46,
          47,
          48,
          49
         ],
         "xaxis": "x",
         "y": [
          139.503,
          98.782,
          95.134,
          93.423,
          92.41,
          91.733,
          91.218,
          90.841,
          90.493,
          90.265,
          90.048,
          89.853,
          89.664,
          89.49,
          89.387,
          89.243,
          89.168,
          89.058,
          88.975,
          88.877,
          88.753,
          88.681,
          88.621,
          88.546,
          88.476,
          88.431,
          88.349,
          88.312,
          88.261,
          88.195,
          88.158,
          88.106,
          88.045,
          88.05,
          87.988,
          87.932,
          87.951,
          87.878,
          87.837,
          87.776,
          87.791,
          87.744,
          87.695,
          87.68,
          87.653,
          87.635,
          87.598,
          87.581,
          87.544,
          87.545
         ],
         "yaxis": "y"
        }
       ],
       "layout": {
        "legend": {
         "title": {
          "text": "latent_dim"
         },
         "tracegroupgap": 0
        },
        "margin": {
         "t": 60
        },
        "template": {
         "data": {
          "bar": [
           {
            "error_x": {
             "color": "#2a3f5f"
            },
            "error_y": {
             "color": "#2a3f5f"
            },
            "marker": {
             "line": {
              "color": "#E5ECF6",
              "width": 0.5
             },
             "pattern": {
              "fillmode": "overlay",
              "size": 10,
              "solidity": 0.2
             }
            },
            "type": "bar"
           }
          ],
          "barpolar": [
           {
            "marker": {
             "line": {
              "color": "#E5ECF6",
              "width": 0.5
             },
             "pattern": {
              "fillmode": "overlay",
              "size": 10,
              "solidity": 0.2
             }
            },
            "type": "barpolar"
           }
          ],
          "carpet": [
           {
            "aaxis": {
             "endlinecolor": "#2a3f5f",
             "gridcolor": "white",
             "linecolor": "white",
             "minorgridcolor": "white",
             "startlinecolor": "#2a3f5f"
            },
            "baxis": {
             "endlinecolor": "#2a3f5f",
             "gridcolor": "white",
             "linecolor": "white",
             "minorgridcolor": "white",
             "startlinecolor": "#2a3f5f"
            },
            "type": "carpet"
           }
          ],
          "choropleth": [
           {
            "colorbar": {
             "outlinewidth": 0,
             "ticks": ""
            },
            "type": "choropleth"
           }
          ],
          "contour": [
           {
            "colorbar": {
             "outlinewidth": 0,
             "ticks": ""
            },
            "colorscale": [
             [
              0,
              "#0d0887"
             ],
             [
              0.1111111111111111,
              "#46039f"
             ],
             [
              0.2222222222222222,
              "#7201a8"
             ],
             [
              0.3333333333333333,
              "#9c179e"
             ],
             [
              0.4444444444444444,
              "#bd3786"
             ],
             [
              0.5555555555555556,
              "#d8576b"
             ],
             [
              0.6666666666666666,
              "#ed7953"
             ],
             [
              0.7777777777777778,
              "#fb9f3a"
             ],
             [
              0.8888888888888888,
              "#fdca26"
             ],
             [
              1,
              "#f0f921"
             ]
            ],
            "type": "contour"
           }
          ],
          "contourcarpet": [
           {
            "colorbar": {
             "outlinewidth": 0,
             "ticks": ""
            },
            "type": "contourcarpet"
           }
          ],
          "heatmap": [
           {
            "colorbar": {
             "outlinewidth": 0,
             "ticks": ""
            },
            "colorscale": [
             [
              0,
              "#0d0887"
             ],
             [
              0.1111111111111111,
              "#46039f"
             ],
             [
              0.2222222222222222,
              "#7201a8"
             ],
             [
              0.3333333333333333,
              "#9c179e"
             ],
             [
              0.4444444444444444,
              "#bd3786"
             ],
             [
              0.5555555555555556,
              "#d8576b"
             ],
             [
              0.6666666666666666,
              "#ed7953"
             ],
             [
              0.7777777777777778,
              "#fb9f3a"
             ],
             [
              0.8888888888888888,
              "#fdca26"
             ],
             [
              1,
              "#f0f921"
             ]
            ],
            "type": "heatmap"
           }
          ],
          "heatmapgl": [
           {
            "colorbar": {
             "outlinewidth": 0,
             "ticks": ""
            },
            "colorscale": [
             [
              0,
              "#0d0887"
             ],
             [
              0.1111111111111111,
              "#46039f"
             ],
             [
              0.2222222222222222,
              "#7201a8"
             ],
             [
              0.3333333333333333,
              "#9c179e"
             ],
             [
              0.4444444444444444,
              "#bd3786"
             ],
             [
              0.5555555555555556,
              "#d8576b"
             ],
             [
              0.6666666666666666,
              "#ed7953"
             ],
             [
              0.7777777777777778,
              "#fb9f3a"
             ],
             [
              0.8888888888888888,
              "#fdca26"
             ],
             [
              1,
              "#f0f921"
             ]
            ],
            "type": "heatmapgl"
           }
          ],
          "histogram": [
           {
            "marker": {
             "pattern": {
              "fillmode": "overlay",
              "size": 10,
              "solidity": 0.2
             }
            },
            "type": "histogram"
           }
          ],
          "histogram2d": [
           {
            "colorbar": {
             "outlinewidth": 0,
             "ticks": ""
            },
            "colorscale": [
             [
              0,
              "#0d0887"
             ],
             [
              0.1111111111111111,
              "#46039f"
             ],
             [
              0.2222222222222222,
              "#7201a8"
             ],
             [
              0.3333333333333333,
              "#9c179e"
             ],
             [
              0.4444444444444444,
              "#bd3786"
             ],
             [
              0.5555555555555556,
              "#d8576b"
             ],
             [
              0.6666666666666666,
              "#ed7953"
             ],
             [
              0.7777777777777778,
              "#fb9f3a"
             ],
             [
              0.8888888888888888,
              "#fdca26"
             ],
             [
              1,
              "#f0f921"
             ]
            ],
            "type": "histogram2d"
           }
          ],
          "histogram2dcontour": [
           {
            "colorbar": {
             "outlinewidth": 0,
             "ticks": ""
            },
            "colorscale": [
             [
              0,
              "#0d0887"
             ],
             [
              0.1111111111111111,
              "#46039f"
             ],
             [
              0.2222222222222222,
              "#7201a8"
             ],
             [
              0.3333333333333333,
              "#9c179e"
             ],
             [
              0.4444444444444444,
              "#bd3786"
             ],
             [
              0.5555555555555556,
              "#d8576b"
             ],
             [
              0.6666666666666666,
              "#ed7953"
             ],
             [
              0.7777777777777778,
              "#fb9f3a"
             ],
             [
              0.8888888888888888,
              "#fdca26"
             ],
             [
              1,
              "#f0f921"
             ]
            ],
            "type": "histogram2dcontour"
           }
          ],
          "mesh3d": [
           {
            "colorbar": {
             "outlinewidth": 0,
             "ticks": ""
            },
            "type": "mesh3d"
           }
          ],
          "parcoords": [
           {
            "line": {
             "colorbar": {
              "outlinewidth": 0,
              "ticks": ""
             }
            },
            "type": "parcoords"
           }
          ],
          "pie": [
           {
            "automargin": true,
            "type": "pie"
           }
          ],
          "scatter": [
           {
            "fillpattern": {
             "fillmode": "overlay",
             "size": 10,
             "solidity": 0.2
            },
            "type": "scatter"
           }
          ],
          "scatter3d": [
           {
            "line": {
             "colorbar": {
              "outlinewidth": 0,
              "ticks": ""
             }
            },
            "marker": {
             "colorbar": {
              "outlinewidth": 0,
              "ticks": ""
             }
            },
            "type": "scatter3d"
           }
          ],
          "scattercarpet": [
           {
            "marker": {
             "colorbar": {
              "outlinewidth": 0,
              "ticks": ""
             }
            },
            "type": "scattercarpet"
           }
          ],
          "scattergeo": [
           {
            "marker": {
             "colorbar": {
              "outlinewidth": 0,
              "ticks": ""
             }
            },
            "type": "scattergeo"
           }
          ],
          "scattergl": [
           {
            "marker": {
             "colorbar": {
              "outlinewidth": 0,
              "ticks": ""
             }
            },
            "type": "scattergl"
           }
          ],
          "scattermapbox": [
           {
            "marker": {
             "colorbar": {
              "outlinewidth": 0,
              "ticks": ""
             }
            },
            "type": "scattermapbox"
           }
          ],
          "scatterpolar": [
           {
            "marker": {
             "colorbar": {
              "outlinewidth": 0,
              "ticks": ""
             }
            },
            "type": "scatterpolar"
           }
          ],
          "scatterpolargl": [
           {
            "marker": {
             "colorbar": {
              "outlinewidth": 0,
              "ticks": ""
             }
            },
            "type": "scatterpolargl"
           }
          ],
          "scatterternary": [
           {
            "marker": {
             "colorbar": {
              "outlinewidth": 0,
              "ticks": ""
             }
            },
            "type": "scatterternary"
           }
          ],
          "surface": [
           {
            "colorbar": {
             "outlinewidth": 0,
             "ticks": ""
            },
            "colorscale": [
             [
              0,
              "#0d0887"
             ],
             [
              0.1111111111111111,
              "#46039f"
             ],
             [
              0.2222222222222222,
              "#7201a8"
             ],
             [
              0.3333333333333333,
              "#9c179e"
             ],
             [
              0.4444444444444444,
              "#bd3786"
             ],
             [
              0.5555555555555556,
              "#d8576b"
             ],
             [
              0.6666666666666666,
              "#ed7953"
             ],
             [
              0.7777777777777778,
              "#fb9f3a"
             ],
             [
              0.8888888888888888,
              "#fdca26"
             ],
             [
              1,
              "#f0f921"
             ]
            ],
            "type": "surface"
           }
          ],
          "table": [
           {
            "cells": {
             "fill": {
              "color": "#EBF0F8"
             },
             "line": {
              "color": "white"
             }
            },
            "header": {
             "fill": {
              "color": "#C8D4E3"
             },
             "line": {
              "color": "white"
             }
            },
            "type": "table"
           }
          ]
         },
         "layout": {
          "annotationdefaults": {
           "arrowcolor": "#2a3f5f",
           "arrowhead": 0,
           "arrowwidth": 1
          },
          "autotypenumbers": "strict",
          "coloraxis": {
           "colorbar": {
            "outlinewidth": 0,
            "ticks": ""
           }
          },
          "colorscale": {
           "diverging": [
            [
             0,
             "#8e0152"
            ],
            [
             0.1,
             "#c51b7d"
            ],
            [
             0.2,
             "#de77ae"
            ],
            [
             0.3,
             "#f1b6da"
            ],
            [
             0.4,
             "#fde0ef"
            ],
            [
             0.5,
             "#f7f7f7"
            ],
            [
             0.6,
             "#e6f5d0"
            ],
            [
             0.7,
             "#b8e186"
            ],
            [
             0.8,
             "#7fbc41"
            ],
            [
             0.9,
             "#4d9221"
            ],
            [
             1,
             "#276419"
            ]
           ],
           "sequential": [
            [
             0,
             "#0d0887"
            ],
            [
             0.1111111111111111,
             "#46039f"
            ],
            [
             0.2222222222222222,
             "#7201a8"
            ],
            [
             0.3333333333333333,
             "#9c179e"
            ],
            [
             0.4444444444444444,
             "#bd3786"
            ],
            [
             0.5555555555555556,
             "#d8576b"
            ],
            [
             0.6666666666666666,
             "#ed7953"
            ],
            [
             0.7777777777777778,
             "#fb9f3a"
            ],
            [
             0.8888888888888888,
             "#fdca26"
            ],
            [
             1,
             "#f0f921"
            ]
           ],
           "sequentialminus": [
            [
             0,
             "#0d0887"
            ],
            [
             0.1111111111111111,
             "#46039f"
            ],
            [
             0.2222222222222222,
             "#7201a8"
            ],
            [
             0.3333333333333333,
             "#9c179e"
            ],
            [
             0.4444444444444444,
             "#bd3786"
            ],
            [
             0.5555555555555556,
             "#d8576b"
            ],
            [
             0.6666666666666666,
             "#ed7953"
            ],
            [
             0.7777777777777778,
             "#fb9f3a"
            ],
            [
             0.8888888888888888,
             "#fdca26"
            ],
            [
             1,
             "#f0f921"
            ]
           ]
          },
          "colorway": [
           "#636efa",
           "#EF553B",
           "#00cc96",
           "#ab63fa",
           "#FFA15A",
           "#19d3f3",
           "#FF6692",
           "#B6E880",
           "#FF97FF",
           "#FECB52"
          ],
          "font": {
           "color": "#2a3f5f"
          },
          "geo": {
           "bgcolor": "white",
           "lakecolor": "white",
           "landcolor": "#E5ECF6",
           "showlakes": true,
           "showland": true,
           "subunitcolor": "white"
          },
          "hoverlabel": {
           "align": "left"
          },
          "hovermode": "closest",
          "mapbox": {
           "style": "light"
          },
          "paper_bgcolor": "white",
          "plot_bgcolor": "#E5ECF6",
          "polar": {
           "angularaxis": {
            "gridcolor": "white",
            "linecolor": "white",
            "ticks": ""
           },
           "bgcolor": "#E5ECF6",
           "radialaxis": {
            "gridcolor": "white",
            "linecolor": "white",
            "ticks": ""
           }
          },
          "scene": {
           "xaxis": {
            "backgroundcolor": "#E5ECF6",
            "gridcolor": "white",
            "gridwidth": 2,
            "linecolor": "white",
            "showbackground": true,
            "ticks": "",
            "zerolinecolor": "white"
           },
           "yaxis": {
            "backgroundcolor": "#E5ECF6",
            "gridcolor": "white",
            "gridwidth": 2,
            "linecolor": "white",
            "showbackground": true,
            "ticks": "",
            "zerolinecolor": "white"
           },
           "zaxis": {
            "backgroundcolor": "#E5ECF6",
            "gridcolor": "white",
            "gridwidth": 2,
            "linecolor": "white",
            "showbackground": true,
            "ticks": "",
            "zerolinecolor": "white"
           }
          },
          "shapedefaults": {
           "line": {
            "color": "#2a3f5f"
           }
          },
          "ternary": {
           "aaxis": {
            "gridcolor": "white",
            "linecolor": "white",
            "ticks": ""
           },
           "baxis": {
            "gridcolor": "white",
            "linecolor": "white",
            "ticks": ""
           },
           "bgcolor": "#E5ECF6",
           "caxis": {
            "gridcolor": "white",
            "linecolor": "white",
            "ticks": ""
           }
          },
          "title": {
           "x": 0.05
          },
          "xaxis": {
           "automargin": true,
           "gridcolor": "white",
           "linecolor": "white",
           "ticks": "",
           "title": {
            "standoff": 15
           },
           "zerolinecolor": "white",
           "zerolinewidth": 2
          },
          "yaxis": {
           "automargin": true,
           "gridcolor": "white",
           "linecolor": "white",
           "ticks": "",
           "title": {
            "standoff": 15
           },
           "zerolinecolor": "white",
           "zerolinewidth": 2
          }
         }
        },
        "title": {
         "text": "Training Loss vs Epochs"
        },
        "xaxis": {
         "anchor": "y",
         "domain": [
          0,
          1
         ],
         "title": {
          "text": "Epochs"
         }
        },
        "yaxis": {
         "anchor": "x",
         "domain": [
          0,
          1
         ],
         "title": {
          "text": "Training Loss"
         }
        }
       }
      }
     },
     "metadata": {},
     "output_type": "display_data"
    }
   ],
   "source": [
    "# there are 50 epochs\n",
    "# use index as x-axis\n",
    "fig = px.line(df_overall, x=df_overall.index, y=\"train_loss\", color=\"latent_dim\")\n",
    "fig.update_layout(\n",
    "    title=\"Training Loss vs Epochs\",\n",
    "    xaxis_title=\"Epochs\",\n",
    "    yaxis_title=\"Training Loss\",\n",
    ")\n",
    "fig.show()\n"
   ]
  },
  {
   "cell_type": "code",
   "execution_count": 79,
   "metadata": {},
   "outputs": [],
   "source": [
    "# extract all the \"last\" rows\n",
    "df_last = df_overall.groupby(\"latent_dim\").tail(1)\n",
    "prepare_df(df_last).to_latex(index=False, escape=False, buf=FIGURE_DIR + \"final_loss_table.tex\", float_format=\"%.2f\")\n",
    "# df_last\n",
    "\n",
    "\n",
    "\n",
    "# fig = px.bar(df_last, x=\"name\", y=\"train_loss\")\n",
    "# fig.update_layout(\n",
    "#     title=\"Final Training Loss\",\n",
    "#     xaxis_title=\"Latent Dimension\",\n",
    "#     yaxis_title=\"Training Loss\",\n",
    "# )\n",
    "# fig.show()"
   ]
  },
  {
   "cell_type": "markdown",
   "metadata": {},
   "source": [
    "# Compare models reconstruction on some samples"
   ]
  },
  {
   "cell_type": "code",
   "execution_count": 80,
   "metadata": {},
   "outputs": [],
   "source": [
    "import torch\n",
    "from torch.utils.data import DataLoader\n",
    "from torchvision import transforms\n",
    "from dataset_tools import OwnDataset, make_train_test_val_split\n",
    "import matplotlib\n",
    "\n",
    "cuda = torch.cuda.is_available()"
   ]
  },
  {
   "cell_type": "code",
   "execution_count": 81,
   "metadata": {},
   "outputs": [
    {
     "name": "stdout",
     "output_type": "stream",
     "text": [
      "488396 4883 1526 1221\n"
     ]
    }
   ],
   "source": [
    "tf = transforms.Compose([\n",
    "    transforms.ToPILImage(),\n",
    "    transforms.ToTensor(),\n",
    "    # transforms.Lambda(lambda x: x.view(-1)) # notice that we dont flatten when we are going to use CNN\n",
    "])\n",
    "\n",
    "# dataset = OwnDataset(transform=tf)\n",
    "dataset = OwnDataset(transform=tf, path=r\"C:\\Users\\Otto\\Desktop\\Fagprojekt_data\\labelled_data\")\n",
    "\n",
    "batch_size = 64\n",
    "train_subset, test_subset, val_subset = make_train_test_val_split(dataset)\n",
    "\n",
    "\n",
    "train_loader = DataLoader(train_subset, batch_size=batch_size, shuffle=True, pin_memory=cuda, drop_last=True)\n",
    "test_loader = DataLoader(test_subset, batch_size=batch_size, shuffle=True, pin_memory=cuda, drop_last=True)\n",
    "val_loader = DataLoader(val_subset, batch_size=batch_size, shuffle=True, pin_memory=cuda, drop_last=True)\n",
    "\n",
    "print(len(dataset), len(train_loader), len(test_loader), len(val_loader))\n",
    "\n"
   ]
  },
  {
   "cell_type": "markdown",
   "metadata": {},
   "source": [
    "## Load the models we want to compare"
   ]
  },
  {
   "cell_type": "code",
   "execution_count": 86,
   "metadata": {},
   "outputs": [],
   "source": [
    "# there are 3 different unsupervised models to choose from on the cell dataset\n",
    "from models import VAE_CELL_CNN, VAE_LAFARGE, CELL_CNN_AutoEncoder\n",
    "from loss_functions import loss_function\n",
    "# import mse loss\n",
    "\n",
    "\n",
    "# now we load the saved models into the model class\n",
    "MODEL_DIR = \"trained_models/\"\n",
    "\n",
    "vae_cnn_own = VAE_CELL_CNN(input_dim=(3,68,68), hidden_dim=512, latent_dim=256)\n",
    "vae_cnn_own.load_state_dict(torch.load(MODEL_DIR + f\"{vae_cnn_own.__class__.__name__}_latent{vae_cnn_own.latent_dim}_b1_mean_hpc_best_model.pth\"))\n",
    "# vae_lafarge = VAE_LAFARGE(input_dim=(3,68,68), hidden_dim=512, latent_dim=256)\n",
    "# vae_lafarge.load_state_dict(torch.load(MODEL_DIR + f\"{vae_lafarge.__class__.__name__}_latent{vae_lafarge.latent_dim}_best_model.pth\"))\n",
    "\n",
    "ae_cnn_own = CELL_CNN_AutoEncoder(latent_dim=256)\n",
    "ae_cnn_own.load_state_dict(torch.load(MODEL_DIR + f\"{ae_cnn_own.__class__.__name__}_latent{ae_cnn_own.latent_dim}_best_model.pth\"))\n",
    "\n",
    "\n",
    "vae_cnn_own_b0 = VAE_CELL_CNN(input_dim=(3,68,68), hidden_dim=512, latent_dim=256)\n",
    "vae_cnn_own_b0.load_state_dict(torch.load(MODEL_DIR + f\"{vae_cnn_own_b0.__class__.__name__}_latent{vae_cnn_own_b0.latent_dim}_b0_best_model.pth\"))\n",
    "\n",
    "\n",
    "\n",
    "\n",
    "# models = [vae_cnn_own]\n",
    "models = [vae_cnn_own, ae_cnn_own, vae_cnn_own_b0]\n",
    "# models = [ae_cnn_own]\n",
    "\n"
   ]
  },
  {
   "cell_type": "markdown",
   "metadata": {},
   "source": [
    "## Evaluate performance on test set given by the loss"
   ]
  },
  {
   "cell_type": "code",
   "execution_count": 87,
   "metadata": {},
   "outputs": [
    {
     "data": {
      "image/png": "[encoded data removed]",
      "text/plain": [
       "<Figure size 1500x500 with 4 Axes>"
      ]
     },
     "metadata": {},
     "output_type": "display_data"
    }
   ],
   "source": [
    "# Given an input image, create a reconstruction of the image using each model\n",
    "\n",
    "\n",
    "def reconstruct_image(model, image):\n",
    "    with torch.no_grad():\n",
    "        model.eval()\n",
    "        image = image.unsqueeze(0)\n",
    "        output = model(image)\n",
    "        if isinstance(output, dict):\n",
    "            x_hat = output[\"x_hat\"]\n",
    "        else:\n",
    "            x_hat = output\n",
    "        return x_hat.squeeze(0)\n",
    "    \n",
    "x, y = next(iter(train_loader))\n",
    "\n",
    "\n",
    "# plot the original image and the reconstructed image\n",
    "# reconstruct_image(vae_cnn_own, x[0]).shape\n",
    "reconstruct_image(ae_cnn_own, x[0]).shape\n",
    "\n",
    "\n",
    "\n",
    "\n",
    "def plot_reconstructions(models, image):\n",
    "    fig, ax = plt.subplots(1, len(models)+1, figsize=(15, 5))\n",
    "    ax[0].imshow(image.permute(1, 2, 0))\n",
    "    ax[0].set_title(\"Original Image\")\n",
    "    ax[0].set_axis_off()\n",
    "    for i, model in enumerate(models):\n",
    "        x_hat = reconstruct_image(model, image)\n",
    "        ax[i+1].imshow(x_hat.permute(1, 2, 0))\n",
    "        ax[i+1].set_title(model.__class__.__name__)\n",
    "        ax[i+1].set_axis_off()\n",
    "    plt.axis(\"off\")\n",
    "    plt.show()\n",
    "\n",
    "plot_reconstructions(models, x[0])\n",
    "\n"
   ]
  },
  {
   "cell_type": "markdown",
   "metadata": {},
   "source": [
    "# Classification data analysis"
   ]
  },
  {
   "cell_type": "markdown",
   "metadata": {},
   "source": [
    "## Gather all the train and test accuracies in joint table"
   ]
  },
  {
   "cell_type": "code",
   "execution_count": 28,
   "metadata": {},
   "outputs": [],
   "source": [
    "TRAIN_DATA_DIR = \"train_data/\"\n",
    "filenames = [\"LatentClassifier_2_latent2_mean_data.csv\", 'LatentClassifier_2_latent256_mean_data.csv']\n",
    "\n",
    "# dfs = [pd.read_csv(TRAIN_DATA_DIR + filename) for filename in filenames]"
   ]
  }
 ],
 "metadata": {
  "kernelspec": {
   "display_name": "Python 3",
   "language": "python",
   "name": "python3"
  },
  "language_info": {
   "codemirror_mode": {
    "name": "ipython",
    "version": 3
   },
   "file_extension": ".py",
   "mimetype": "text/x-python",
   "name": "python",
   "nbconvert_exporter": "python",
   "pygments_lexer": "ipython3",
   "version": "3.9.13"
  }
 },
 "nbformat": 4,
 "nbformat_minor": 2
}
