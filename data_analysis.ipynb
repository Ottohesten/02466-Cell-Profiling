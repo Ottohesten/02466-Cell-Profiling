{
 "cells": [
  {
   "cell_type": "code",
   "execution_count": 186,
   "metadata": {},
   "outputs": [],
   "source": [
    "import numpy as np\n",
    "import pandas as pd\n",
    "import matplotlib.pyplot as plt\n",
    "import plotly.express as px\n",
    "import plotly.graph_objects as go\n",
    "from plotly.subplots import make_subplots\n",
    "\n",
    "FIGURE_DIR = \"figures/\"\n",
    "TRAIN_DATA_DIR = \"train_data/\"\n",
    "\n",
    "def prepare_df(df):\n",
    "    df.columns = df.columns.str.replace(\"_\", \" \")\n",
    "    # df.columns = df.columns.str.replace(\"loss\", \"\")\n",
    "    df.columns = df.columns.str.strip()\n",
    "    return df\n",
    "\n",
    "def extract_latent_dim(filename):\n",
    "    try:\n",
    "        return filename.split(\"_\")[3].split(\"latent\")[1]\n",
    "    except IndexError:\n",
    "        return None\n",
    "    "
   ]
  },
  {
   "cell_type": "markdown",
   "metadata": {},
   "source": [
    "## Load all VAE and AE training data"
   ]
  },
  {
   "cell_type": "code",
   "execution_count": 116,
   "metadata": {},
   "outputs": [],
   "source": [
    "filenames = [\n",
    "    \"VAE_CELL_CNN_latent2_mean_loss_data.csv\",\n",
    "    \"VAE_CELL_CNN_latent8_mean_loss_data.csv\",\n",
    "    \"VAE_CELL_CNN_latent16_mean_loss_data.csv\",\n",
    "    \"VAE_CELL_CNN_latent32_mean_loss_data.csv\",\n",
    "    \"VAE_CELL_CNN_latent64_mean_loss_data.csv\",\n",
    "    \"VAE_CELL_CNN_latent128_mean_loss_data.csv\",\n",
    "    \"VAE_CELL_CNN_latent256_mean_loss_data.csv\",\n",
    "    # \"CELL_CNN_AutoEncoder_latent256_mean_loss_data.csv\",\n",
    "]\n",
    "\n",
    "# filenames_ae_b0 = [\n",
    "#     \"CELL_CNN_AutoEncoder_latent256_mean_loss_data.csv\",\n",
    "#     \"\"\n",
    "# ]\n",
    "\n",
    "dfs = [pd.read_csv(TRAIN_DATA_DIR + filename) for filename in filenames]\n",
    "\n"
   ]
  },
  {
   "cell_type": "code",
   "execution_count": 117,
   "metadata": {},
   "outputs": [
    {
     "name": "stderr",
     "output_type": "stream",
     "text": [
      "C:\\Users\\Otto\\AppData\\Local\\Temp\\ipykernel_19236\\2344924638.py:7: FutureWarning:\n",
      "\n",
      "The behavior of DataFrame concatenation with empty or all-NA entries is deprecated. In a future version, this will no longer exclude empty or all-NA columns when determining the result dtypes. To retain the old behavior, exclude the relevant entries before the concat operation.\n",
      "\n"
     ]
    }
   ],
   "source": [
    "# combine all the dataframes\n",
    "df_overall = pd.DataFrame(columns=[\"latent_dim\"] + dfs[0].columns.tolist())\n",
    "for filename, df in zip(filenames, dfs):\n",
    "    \n",
    "    latent_dim = extract_latent_dim(filename)\n",
    "    df[\"latent_dim\"] = latent_dim\n",
    "    df_overall = pd.concat([df_overall, df])\n",
    "\n"
   ]
  },
  {
   "cell_type": "code",
   "execution_count": 118,
   "metadata": {},
   "outputs": [
    {
     "data": {
      "text/html": [
       "<div>\n",
       "<style scoped>\n",
       "    .dataframe tbody tr th:only-of-type {\n",
       "        vertical-align: middle;\n",
       "    }\n",
       "\n",
       "    .dataframe tbody tr th {\n",
       "        vertical-align: top;\n",
       "    }\n",
       "\n",
       "    .dataframe thead th {\n",
       "        text-align: right;\n",
       "    }\n",
       "</style>\n",
       "<table border=\"1\" class=\"dataframe\">\n",
       "  <thead>\n",
       "    <tr style=\"text-align: right;\">\n",
       "      <th></th>\n",
       "      <th>latent_dim</th>\n",
       "      <th>train_loss</th>\n",
       "      <th>train_mse_loss</th>\n",
       "      <th>train_kld_loss</th>\n",
       "      <th>val_loss</th>\n",
       "      <th>val_mse_loss</th>\n",
       "      <th>val_kld_loss</th>\n",
       "      <th>test_loss</th>\n",
       "      <th>test_mse_loss</th>\n",
       "      <th>test_kld_loss</th>\n",
       "    </tr>\n",
       "  </thead>\n",
       "  <tbody>\n",
       "    <tr>\n",
       "      <th>0</th>\n",
       "      <td>2</td>\n",
       "      <td>217.022</td>\n",
       "      <td>209.691</td>\n",
       "      <td>7.331</td>\n",
       "      <td>197.489</td>\n",
       "      <td>190.514</td>\n",
       "      <td>6.975</td>\n",
       "      <td>184.232</td>\n",
       "      <td>177.776</td>\n",
       "      <td>6.456</td>\n",
       "    </tr>\n",
       "    <tr>\n",
       "      <th>1</th>\n",
       "      <td>2</td>\n",
       "      <td>195.241</td>\n",
       "      <td>188.399</td>\n",
       "      <td>6.842</td>\n",
       "      <td>193.323</td>\n",
       "      <td>186.466</td>\n",
       "      <td>6.858</td>\n",
       "      <td>184.232</td>\n",
       "      <td>177.776</td>\n",
       "      <td>6.456</td>\n",
       "    </tr>\n",
       "    <tr>\n",
       "      <th>2</th>\n",
       "      <td>2</td>\n",
       "      <td>192.215</td>\n",
       "      <td>185.774</td>\n",
       "      <td>6.441</td>\n",
       "      <td>190.925</td>\n",
       "      <td>184.502</td>\n",
       "      <td>6.422</td>\n",
       "      <td>184.232</td>\n",
       "      <td>177.776</td>\n",
       "      <td>6.456</td>\n",
       "    </tr>\n",
       "    <tr>\n",
       "      <th>3</th>\n",
       "      <td>2</td>\n",
       "      <td>190.937</td>\n",
       "      <td>184.701</td>\n",
       "      <td>6.236</td>\n",
       "      <td>190.577</td>\n",
       "      <td>184.456</td>\n",
       "      <td>6.121</td>\n",
       "      <td>184.232</td>\n",
       "      <td>177.776</td>\n",
       "      <td>6.456</td>\n",
       "    </tr>\n",
       "    <tr>\n",
       "      <th>4</th>\n",
       "      <td>2</td>\n",
       "      <td>192.659</td>\n",
       "      <td>186.240</td>\n",
       "      <td>6.420</td>\n",
       "      <td>191.326</td>\n",
       "      <td>184.803</td>\n",
       "      <td>6.523</td>\n",
       "      <td>184.232</td>\n",
       "      <td>177.776</td>\n",
       "      <td>6.456</td>\n",
       "    </tr>\n",
       "    <tr>\n",
       "      <th>...</th>\n",
       "      <td>...</td>\n",
       "      <td>...</td>\n",
       "      <td>...</td>\n",
       "      <td>...</td>\n",
       "      <td>...</td>\n",
       "      <td>...</td>\n",
       "      <td>...</td>\n",
       "      <td>...</td>\n",
       "      <td>...</td>\n",
       "      <td>...</td>\n",
       "    </tr>\n",
       "    <tr>\n",
       "      <th>45</th>\n",
       "      <td>256</td>\n",
       "      <td>87.635</td>\n",
       "      <td>54.181</td>\n",
       "      <td>33.454</td>\n",
       "      <td>88.280</td>\n",
       "      <td>54.740</td>\n",
       "      <td>33.541</td>\n",
       "      <td>88.177</td>\n",
       "      <td>54.581</td>\n",
       "      <td>33.596</td>\n",
       "    </tr>\n",
       "    <tr>\n",
       "      <th>46</th>\n",
       "      <td>256</td>\n",
       "      <td>87.598</td>\n",
       "      <td>54.141</td>\n",
       "      <td>33.458</td>\n",
       "      <td>88.030</td>\n",
       "      <td>54.538</td>\n",
       "      <td>33.492</td>\n",
       "      <td>88.177</td>\n",
       "      <td>54.581</td>\n",
       "      <td>33.596</td>\n",
       "    </tr>\n",
       "    <tr>\n",
       "      <th>47</th>\n",
       "      <td>256</td>\n",
       "      <td>87.581</td>\n",
       "      <td>54.131</td>\n",
       "      <td>33.450</td>\n",
       "      <td>88.353</td>\n",
       "      <td>54.308</td>\n",
       "      <td>34.045</td>\n",
       "      <td>88.177</td>\n",
       "      <td>54.581</td>\n",
       "      <td>33.596</td>\n",
       "    </tr>\n",
       "    <tr>\n",
       "      <th>48</th>\n",
       "      <td>256</td>\n",
       "      <td>87.544</td>\n",
       "      <td>54.087</td>\n",
       "      <td>33.457</td>\n",
       "      <td>88.211</td>\n",
       "      <td>54.735</td>\n",
       "      <td>33.476</td>\n",
       "      <td>88.177</td>\n",
       "      <td>54.581</td>\n",
       "      <td>33.596</td>\n",
       "    </tr>\n",
       "    <tr>\n",
       "      <th>49</th>\n",
       "      <td>256</td>\n",
       "      <td>87.545</td>\n",
       "      <td>54.090</td>\n",
       "      <td>33.455</td>\n",
       "      <td>88.062</td>\n",
       "      <td>54.504</td>\n",
       "      <td>33.558</td>\n",
       "      <td>88.177</td>\n",
       "      <td>54.581</td>\n",
       "      <td>33.596</td>\n",
       "    </tr>\n",
       "  </tbody>\n",
       "</table>\n",
       "<p>350 rows × 10 columns</p>\n",
       "</div>"
      ],
      "text/plain": [
       "   latent_dim  train_loss  train_mse_loss  train_kld_loss  val_loss  \\\n",
       "0           2     217.022         209.691           7.331   197.489   \n",
       "1           2     195.241         188.399           6.842   193.323   \n",
       "2           2     192.215         185.774           6.441   190.925   \n",
       "3           2     190.937         184.701           6.236   190.577   \n",
       "4           2     192.659         186.240           6.420   191.326   \n",
       "..        ...         ...             ...             ...       ...   \n",
       "45        256      87.635          54.181          33.454    88.280   \n",
       "46        256      87.598          54.141          33.458    88.030   \n",
       "47        256      87.581          54.131          33.450    88.353   \n",
       "48        256      87.544          54.087          33.457    88.211   \n",
       "49        256      87.545          54.090          33.455    88.062   \n",
       "\n",
       "    val_mse_loss  val_kld_loss  test_loss  test_mse_loss  test_kld_loss  \n",
       "0        190.514         6.975    184.232        177.776          6.456  \n",
       "1        186.466         6.858    184.232        177.776          6.456  \n",
       "2        184.502         6.422    184.232        177.776          6.456  \n",
       "3        184.456         6.121    184.232        177.776          6.456  \n",
       "4        184.803         6.523    184.232        177.776          6.456  \n",
       "..           ...           ...        ...            ...            ...  \n",
       "45        54.740        33.541     88.177         54.581         33.596  \n",
       "46        54.538        33.492     88.177         54.581         33.596  \n",
       "47        54.308        34.045     88.177         54.581         33.596  \n",
       "48        54.735        33.476     88.177         54.581         33.596  \n",
       "49        54.504        33.558     88.177         54.581         33.596  \n",
       "\n",
       "[350 rows x 10 columns]"
      ]
     },
     "execution_count": 118,
     "metadata": {},
     "output_type": "execute_result"
    }
   ],
   "source": [
    "\n",
    "# round to 2 decimal places\n",
    "df_overall = df_overall.round(3)\n",
    "df_overall\n",
    "\n"
   ]
  },
  {
   "cell_type": "markdown",
   "metadata": {},
   "source": [
    "### Plot of all latent dimensions training loss"
   ]
  },
  {
   "cell_type": "code",
   "execution_count": 119,
   "metadata": {},
   "outputs": [
    {
     "data": {
      "application/vnd.plotly.v1+json": {
       "config": {
        "plotlyServerURL": "https://plot.ly"
       },
       "data": [
        {
         "hovertemplate": "latent_dim=2<br>index=%{x}<br>train_loss=%{y}<extra></extra>",
         "legendgroup": "2",
         "line": {
          "color": "#636efa",
          "dash": "solid"
         },
         "marker": {
          "symbol": "circle"
         },
         "mode": "lines",
         "name": "2",
         "orientation": "v",
         "showlegend": true,
         "type": "scatter",
         "x": [
          0,
          1,
          2,
          3,
          4,
          5,
          6,
          7,
          8,
          9,
          10,
          11,
          12,
          13,
          14,
          15,
          16,
          17,
          18,
          19,
          20,
          21,
          22,
          23,
          24,
          25,
          26,
          27,
          28,
          29,
          30,
          31,
          32,
          33,
          34,
          35,
          36,
          37,
          38,
          39,
          40,
          41,
          42,
          43,
          44,
          45,
          46,
          47,
          48,
          49
         ],
         "xaxis": "x",
         "y": [
          217.022,
          195.241,
          192.215,
          190.937,
          192.659,
          191.684,
          190.716,
          189.938,
          189.134,
          188.493,
          188.154,
          187.751,
          187.214,
          187.115,
          186.794,
          186.27,
          186.273,
          185.685,
          185.554,
          185.69,
          185.038,
          184.998,
          185.256,
          185.429,
          185.359,
          185.183,
          184.801,
          184.627,
          184.272,
          184.442,
          184.226,
          184.354,
          184.601,
          184.169,
          184.059,
          184.299,
          184.598,
          183.727,
          184.336,
          184.211,
          183.521,
          183.559,
          183.77,
          183.54,
          183.868,
          183.429,
          183.703,
          183.516,
          183.565,
          183.696
         ],
         "yaxis": "y"
        },
        {
         "hovertemplate": "latent_dim=8<br>index=%{x}<br>train_loss=%{y}<extra></extra>",
         "legendgroup": "8",
         "line": {
          "color": "#EF553B",
          "dash": "solid"
         },
         "marker": {
          "symbol": "circle"
         },
         "mode": "lines",
         "name": "8",
         "orientation": "v",
         "showlegend": true,
         "type": "scatter",
         "x": [
          0,
          1,
          2,
          3,
          4,
          5,
          6,
          7,
          8,
          9,
          10,
          11,
          12,
          13,
          14,
          15,
          16,
          17,
          18,
          19,
          20,
          21,
          22,
          23,
          24,
          25,
          26,
          27,
          28,
          29,
          30,
          31,
          32,
          33,
          34,
          35,
          36,
          37,
          38,
          39,
          40,
          41,
          42,
          43,
          44,
          45,
          46,
          47,
          48,
          49
         ],
         "xaxis": "x",
         "y": [
          155.801,
          125.991,
          123.21,
          121.734,
          120.751,
          120.038,
          119.493,
          119.035,
          118.697,
          118.398,
          118.108,
          117.882,
          117.673,
          117.508,
          117.377,
          117.221,
          117.079,
          116.963,
          116.811,
          116.736,
          116.62,
          116.538,
          116.493,
          116.399,
          116.321,
          116.227,
          116.124,
          116.07,
          116.07,
          115.98,
          115.917,
          115.852,
          115.797,
          115.743,
          115.684,
          115.621,
          115.544,
          115.535,
          115.491,
          115.402,
          115.391,
          115.353,
          115.363,
          115.287,
          115.257,
          115.232,
          115.161,
          115.131,
          115.098,
          115.046
         ],
         "yaxis": "y"
        },
        {
         "hovertemplate": "latent_dim=16<br>index=%{x}<br>train_loss=%{y}<extra></extra>",
         "legendgroup": "16",
         "line": {
          "color": "#00cc96",
          "dash": "solid"
         },
         "marker": {
          "symbol": "circle"
         },
         "mode": "lines",
         "name": "16",
         "orientation": "v",
         "showlegend": true,
         "type": "scatter",
         "x": [
          0,
          1,
          2,
          3,
          4,
          5,
          6,
          7,
          8,
          9,
          10,
          11,
          12,
          13,
          14,
          15,
          16,
          17,
          18,
          19,
          20,
          21,
          22,
          23,
          24,
          25,
          26,
          27,
          28,
          29,
          30,
          31,
          32,
          33,
          34,
          35,
          36,
          37,
          38,
          39,
          40,
          41,
          42,
          43,
          44,
          45,
          46,
          47,
          48,
          49
         ],
         "xaxis": "x",
         "y": [
          140.348,
          106.907,
          103.528,
          101.701,
          100.57,
          99.778,
          99.203,
          98.744,
          98.416,
          98.07,
          97.827,
          97.595,
          97.375,
          97.187,
          97.024,
          96.888,
          96.716,
          96.621,
          96.499,
          96.396,
          96.281,
          96.199,
          96.11,
          96.041,
          95.956,
          95.88,
          95.803,
          95.748,
          95.691,
          95.623,
          95.582,
          95.554,
          95.48,
          95.414,
          95.376,
          95.327,
          95.277,
          95.237,
          95.208,
          95.163,
          95.12,
          95.076,
          95.056,
          95.007,
          94.992,
          94.965,
          94.912,
          94.895,
          94.847,
          94.84
         ],
         "yaxis": "y"
        },
        {
         "hovertemplate": "latent_dim=32<br>index=%{x}<br>train_loss=%{y}<extra></extra>",
         "legendgroup": "32",
         "line": {
          "color": "#ab63fa",
          "dash": "solid"
         },
         "marker": {
          "symbol": "circle"
         },
         "mode": "lines",
         "name": "32",
         "orientation": "v",
         "showlegend": true,
         "type": "scatter",
         "x": [
          0,
          1,
          2,
          3,
          4,
          5,
          6,
          7,
          8,
          9,
          10,
          11,
          12,
          13,
          14,
          15,
          16,
          17,
          18,
          19,
          20,
          21,
          22,
          23,
          24,
          25,
          26,
          27,
          28,
          29,
          30,
          31,
          32,
          33,
          34,
          35,
          36,
          37,
          38,
          39,
          40,
          41,
          42,
          43,
          44,
          45,
          46,
          47,
          48,
          49
         ],
         "xaxis": "x",
         "y": [
          136.128,
          98.578,
          95.41,
          93.78,
          92.747,
          92.064,
          91.514,
          91.114,
          90.771,
          90.5,
          90.237,
          90.067,
          89.874,
          89.719,
          89.585,
          89.467,
          89.338,
          89.242,
          89.134,
          89.06,
          88.951,
          88.922,
          88.835,
          88.757,
          88.701,
          88.647,
          88.62,
          88.541,
          88.502,
          88.453,
          88.405,
          88.366,
          88.337,
          88.297,
          88.249,
          88.222,
          88.188,
          88.161,
          88.124,
          88.098,
          88.053,
          88.049,
          88.027,
          87.988,
          87.965,
          87.926,
          87.929,
          87.882,
          87.871,
          87.858
         ],
         "yaxis": "y"
        },
        {
         "hovertemplate": "latent_dim=64<br>index=%{x}<br>train_loss=%{y}<extra></extra>",
         "legendgroup": "64",
         "line": {
          "color": "#FFA15A",
          "dash": "solid"
         },
         "marker": {
          "symbol": "circle"
         },
         "mode": "lines",
         "name": "64",
         "orientation": "v",
         "showlegend": true,
         "type": "scatter",
         "x": [
          0,
          1,
          2,
          3,
          4,
          5,
          6,
          7,
          8,
          9,
          10,
          11,
          12,
          13,
          14,
          15,
          16,
          17,
          18,
          19,
          20,
          21,
          22,
          23,
          24,
          25,
          26,
          27,
          28,
          29,
          30,
          31,
          32,
          33,
          34,
          35,
          36,
          37,
          38,
          39,
          40,
          41,
          42,
          43,
          44,
          45,
          46,
          47,
          48,
          49
         ],
         "xaxis": "x",
         "y": [
          136.164,
          97.56,
          94.416,
          92.89,
          91.957,
          91.237,
          90.702,
          90.322,
          89.93,
          89.658,
          89.404,
          89.186,
          89.013,
          88.854,
          88.718,
          88.606,
          88.483,
          88.385,
          88.304,
          88.22,
          88.108,
          88.072,
          87.997,
          87.917,
          87.864,
          87.826,
          87.778,
          87.7,
          87.671,
          87.617,
          87.571,
          87.539,
          87.5,
          87.454,
          87.42,
          87.384,
          87.337,
          87.304,
          87.294,
          87.259,
          87.236,
          87.195,
          87.179,
          87.142,
          87.138,
          87.114,
          87.066,
          87.063,
          87.027,
          87.029
         ],
         "yaxis": "y"
        },
        {
         "hovertemplate": "latent_dim=128<br>index=%{x}<br>train_loss=%{y}<extra></extra>",
         "legendgroup": "128",
         "line": {
          "color": "#19d3f3",
          "dash": "solid"
         },
         "marker": {
          "symbol": "circle"
         },
         "mode": "lines",
         "name": "128",
         "orientation": "v",
         "showlegend": true,
         "type": "scatter",
         "x": [
          0,
          1,
          2,
          3,
          4,
          5,
          6,
          7,
          8,
          9,
          10,
          11,
          12,
          13,
          14,
          15,
          16,
          17,
          18,
          19,
          20,
          21,
          22,
          23,
          24,
          25,
          26,
          27,
          28,
          29,
          30,
          31,
          32,
          33,
          34,
          35,
          36,
          37,
          38,
          39,
          40,
          41,
          42,
          43,
          44,
          45,
          46,
          47,
          48,
          49
         ],
         "xaxis": "x",
         "y": [
          134.584,
          98.324,
          94.849,
          93.326,
          92.479,
          91.798,
          91.295,
          90.873,
          90.574,
          90.328,
          90.073,
          89.938,
          89.71,
          89.609,
          89.486,
          89.348,
          89.242,
          89.104,
          89.072,
          88.955,
          88.909,
          88.87,
          88.771,
          88.757,
          88.715,
          88.642,
          88.571,
          88.557,
          88.504,
          88.5,
          88.429,
          88.385,
          88.335,
          88.347,
          88.299,
          88.257,
          88.222,
          88.193,
          88.161,
          88.148,
          88.139,
          88.122,
          88.103,
          88.057,
          88.061,
          88.056,
          88.014,
          87.985,
          88.018,
          87.947
         ],
         "yaxis": "y"
        },
        {
         "hovertemplate": "latent_dim=256<br>index=%{x}<br>train_loss=%{y}<extra></extra>",
         "legendgroup": "256",
         "line": {
          "color": "#FF6692",
          "dash": "solid"
         },
         "marker": {
          "symbol": "circle"
         },
         "mode": "lines",
         "name": "256",
         "orientation": "v",
         "showlegend": true,
         "type": "scatter",
         "x": [
          0,
          1,
          2,
          3,
          4,
          5,
          6,
          7,
          8,
          9,
          10,
          11,
          12,
          13,
          14,
          15,
          16,
          17,
          18,
          19,
          20,
          21,
          22,
          23,
          24,
          25,
          26,
          27,
          28,
          29,
          30,
          31,
          32,
          33,
          34,
          35,
          36,
          37,
          38,
          39,
          40,
          41,
          42,
          43,
          44,
          45,
          46,
          47,
          48,
          49
         ],
         "xaxis": "x",
         "y": [
          139.503,
          98.782,
          95.134,
          93.423,
          92.41,
          91.733,
          91.218,
          90.841,
          90.493,
          90.265,
          90.048,
          89.853,
          89.664,
          89.49,
          89.387,
          89.243,
          89.168,
          89.058,
          88.975,
          88.877,
          88.753,
          88.681,
          88.621,
          88.546,
          88.476,
          88.431,
          88.349,
          88.312,
          88.261,
          88.195,
          88.158,
          88.106,
          88.045,
          88.05,
          87.988,
          87.932,
          87.951,
          87.878,
          87.837,
          87.776,
          87.791,
          87.744,
          87.695,
          87.68,
          87.653,
          87.635,
          87.598,
          87.581,
          87.544,
          87.545
         ],
         "yaxis": "y"
        }
       ],
       "layout": {
        "legend": {
         "title": {
          "text": "latent_dim"
         },
         "tracegroupgap": 0
        },
        "margin": {
         "t": 60
        },
        "template": {
         "data": {
          "bar": [
           {
            "error_x": {
             "color": "#2a3f5f"
            },
            "error_y": {
             "color": "#2a3f5f"
            },
            "marker": {
             "line": {
              "color": "#E5ECF6",
              "width": 0.5
             },
             "pattern": {
              "fillmode": "overlay",
              "size": 10,
              "solidity": 0.2
             }
            },
            "type": "bar"
           }
          ],
          "barpolar": [
           {
            "marker": {
             "line": {
              "color": "#E5ECF6",
              "width": 0.5
             },
             "pattern": {
              "fillmode": "overlay",
              "size": 10,
              "solidity": 0.2
             }
            },
            "type": "barpolar"
           }
          ],
          "carpet": [
           {
            "aaxis": {
             "endlinecolor": "#2a3f5f",
             "gridcolor": "white",
             "linecolor": "white",
             "minorgridcolor": "white",
             "startlinecolor": "#2a3f5f"
            },
            "baxis": {
             "endlinecolor": "#2a3f5f",
             "gridcolor": "white",
             "linecolor": "white",
             "minorgridcolor": "white",
             "startlinecolor": "#2a3f5f"
            },
            "type": "carpet"
           }
          ],
          "choropleth": [
           {
            "colorbar": {
             "outlinewidth": 0,
             "ticks": ""
            },
            "type": "choropleth"
           }
          ],
          "contour": [
           {
            "colorbar": {
             "outlinewidth": 0,
             "ticks": ""
            },
            "colorscale": [
             [
              0,
              "#0d0887"
             ],
             [
              0.1111111111111111,
              "#46039f"
             ],
             [
              0.2222222222222222,
              "#7201a8"
             ],
             [
              0.3333333333333333,
              "#9c179e"
             ],
             [
              0.4444444444444444,
              "#bd3786"
             ],
             [
              0.5555555555555556,
              "#d8576b"
             ],
             [
              0.6666666666666666,
              "#ed7953"
             ],
             [
              0.7777777777777778,
              "#fb9f3a"
             ],
             [
              0.8888888888888888,
              "#fdca26"
             ],
             [
              1,
              "#f0f921"
             ]
            ],
            "type": "contour"
           }
          ],
          "contourcarpet": [
           {
            "colorbar": {
             "outlinewidth": 0,
             "ticks": ""
            },
            "type": "contourcarpet"
           }
          ],
          "heatmap": [
           {
            "colorbar": {
             "outlinewidth": 0,
             "ticks": ""
            },
            "colorscale": [
             [
              0,
              "#0d0887"
             ],
             [
              0.1111111111111111,
              "#46039f"
             ],
             [
              0.2222222222222222,
              "#7201a8"
             ],
             [
              0.3333333333333333,
              "#9c179e"
             ],
             [
              0.4444444444444444,
              "#bd3786"
             ],
             [
              0.5555555555555556,
              "#d8576b"
             ],
             [
              0.6666666666666666,
              "#ed7953"
             ],
             [
              0.7777777777777778,
              "#fb9f3a"
             ],
             [
              0.8888888888888888,
              "#fdca26"
             ],
             [
              1,
              "#f0f921"
             ]
            ],
            "type": "heatmap"
           }
          ],
          "heatmapgl": [
           {
            "colorbar": {
             "outlinewidth": 0,
             "ticks": ""
            },
            "colorscale": [
             [
              0,
              "#0d0887"
             ],
             [
              0.1111111111111111,
              "#46039f"
             ],
             [
              0.2222222222222222,
              "#7201a8"
             ],
             [
              0.3333333333333333,
              "#9c179e"
             ],
             [
              0.4444444444444444,
              "#bd3786"
             ],
             [
              0.5555555555555556,
              "#d8576b"
             ],
             [
              0.6666666666666666,
              "#ed7953"
             ],
             [
              0.7777777777777778,
              "#fb9f3a"
             ],
             [
              0.8888888888888888,
              "#fdca26"
             ],
             [
              1,
              "#f0f921"
             ]
            ],
            "type": "heatmapgl"
           }
          ],
          "histogram": [
           {
            "marker": {
             "pattern": {
              "fillmode": "overlay",
              "size": 10,
              "solidity": 0.2
             }
            },
            "type": "histogram"
           }
          ],
          "histogram2d": [
           {
            "colorbar": {
             "outlinewidth": 0,
             "ticks": ""
            },
            "colorscale": [
             [
              0,
              "#0d0887"
             ],
             [
              0.1111111111111111,
              "#46039f"
             ],
             [
              0.2222222222222222,
              "#7201a8"
             ],
             [
              0.3333333333333333,
              "#9c179e"
             ],
             [
              0.4444444444444444,
              "#bd3786"
             ],
             [
              0.5555555555555556,
              "#d8576b"
             ],
             [
              0.6666666666666666,
              "#ed7953"
             ],
             [
              0.7777777777777778,
              "#fb9f3a"
             ],
             [
              0.8888888888888888,
              "#fdca26"
             ],
             [
              1,
              "#f0f921"
             ]
            ],
            "type": "histogram2d"
           }
          ],
          "histogram2dcontour": [
           {
            "colorbar": {
             "outlinewidth": 0,
             "ticks": ""
            },
            "colorscale": [
             [
              0,
              "#0d0887"
             ],
             [
              0.1111111111111111,
              "#46039f"
             ],
             [
              0.2222222222222222,
              "#7201a8"
             ],
             [
              0.3333333333333333,
              "#9c179e"
             ],
             [
              0.4444444444444444,
              "#bd3786"
             ],
             [
              0.5555555555555556,
              "#d8576b"
             ],
             [
              0.6666666666666666,
              "#ed7953"
             ],
             [
              0.7777777777777778,
              "#fb9f3a"
             ],
             [
              0.8888888888888888,
              "#fdca26"
             ],
             [
              1,
              "#f0f921"
             ]
            ],
            "type": "histogram2dcontour"
           }
          ],
          "mesh3d": [
           {
            "colorbar": {
             "outlinewidth": 0,
             "ticks": ""
            },
            "type": "mesh3d"
           }
          ],
          "parcoords": [
           {
            "line": {
             "colorbar": {
              "outlinewidth": 0,
              "ticks": ""
             }
            },
            "type": "parcoords"
           }
          ],
          "pie": [
           {
            "automargin": true,
            "type": "pie"
           }
          ],
          "scatter": [
           {
            "fillpattern": {
             "fillmode": "overlay",
             "size": 10,
             "solidity": 0.2
            },
            "type": "scatter"
           }
          ],
          "scatter3d": [
           {
            "line": {
             "colorbar": {
              "outlinewidth": 0,
              "ticks": ""
             }
            },
            "marker": {
             "colorbar": {
              "outlinewidth": 0,
              "ticks": ""
             }
            },
            "type": "scatter3d"
           }
          ],
          "scattercarpet": [
           {
            "marker": {
             "colorbar": {
              "outlinewidth": 0,
              "ticks": ""
             }
            },
            "type": "scattercarpet"
           }
          ],
          "scattergeo": [
           {
            "marker": {
             "colorbar": {
              "outlinewidth": 0,
              "ticks": ""
             }
            },
            "type": "scattergeo"
           }
          ],
          "scattergl": [
           {
            "marker": {
             "colorbar": {
              "outlinewidth": 0,
              "ticks": ""
             }
            },
            "type": "scattergl"
           }
          ],
          "scattermapbox": [
           {
            "marker": {
             "colorbar": {
              "outlinewidth": 0,
              "ticks": ""
             }
            },
            "type": "scattermapbox"
           }
          ],
          "scatterpolar": [
           {
            "marker": {
             "colorbar": {
              "outlinewidth": 0,
              "ticks": ""
             }
            },
            "type": "scatterpolar"
           }
          ],
          "scatterpolargl": [
           {
            "marker": {
             "colorbar": {
              "outlinewidth": 0,
              "ticks": ""
             }
            },
            "type": "scatterpolargl"
           }
          ],
          "scatterternary": [
           {
            "marker": {
             "colorbar": {
              "outlinewidth": 0,
              "ticks": ""
             }
            },
            "type": "scatterternary"
           }
          ],
          "surface": [
           {
            "colorbar": {
             "outlinewidth": 0,
             "ticks": ""
            },
            "colorscale": [
             [
              0,
              "#0d0887"
             ],
             [
              0.1111111111111111,
              "#46039f"
             ],
             [
              0.2222222222222222,
              "#7201a8"
             ],
             [
              0.3333333333333333,
              "#9c179e"
             ],
             [
              0.4444444444444444,
              "#bd3786"
             ],
             [
              0.5555555555555556,
              "#d8576b"
             ],
             [
              0.6666666666666666,
              "#ed7953"
             ],
             [
              0.7777777777777778,
              "#fb9f3a"
             ],
             [
              0.8888888888888888,
              "#fdca26"
             ],
             [
              1,
              "#f0f921"
             ]
            ],
            "type": "surface"
           }
          ],
          "table": [
           {
            "cells": {
             "fill": {
              "color": "#EBF0F8"
             },
             "line": {
              "color": "white"
             }
            },
            "header": {
             "fill": {
              "color": "#C8D4E3"
             },
             "line": {
              "color": "white"
             }
            },
            "type": "table"
           }
          ]
         },
         "layout": {
          "annotationdefaults": {
           "arrowcolor": "#2a3f5f",
           "arrowhead": 0,
           "arrowwidth": 1
          },
          "autotypenumbers": "strict",
          "coloraxis": {
           "colorbar": {
            "outlinewidth": 0,
            "ticks": ""
           }
          },
          "colorscale": {
           "diverging": [
            [
             0,
             "#8e0152"
            ],
            [
             0.1,
             "#c51b7d"
            ],
            [
             0.2,
             "#de77ae"
            ],
            [
             0.3,
             "#f1b6da"
            ],
            [
             0.4,
             "#fde0ef"
            ],
            [
             0.5,
             "#f7f7f7"
            ],
            [
             0.6,
             "#e6f5d0"
            ],
            [
             0.7,
             "#b8e186"
            ],
            [
             0.8,
             "#7fbc41"
            ],
            [
             0.9,
             "#4d9221"
            ],
            [
             1,
             "#276419"
            ]
           ],
           "sequential": [
            [
             0,
             "#0d0887"
            ],
            [
             0.1111111111111111,
             "#46039f"
            ],
            [
             0.2222222222222222,
             "#7201a8"
            ],
            [
             0.3333333333333333,
             "#9c179e"
            ],
            [
             0.4444444444444444,
             "#bd3786"
            ],
            [
             0.5555555555555556,
             "#d8576b"
            ],
            [
             0.6666666666666666,
             "#ed7953"
            ],
            [
             0.7777777777777778,
             "#fb9f3a"
            ],
            [
             0.8888888888888888,
             "#fdca26"
            ],
            [
             1,
             "#f0f921"
            ]
           ],
           "sequentialminus": [
            [
             0,
             "#0d0887"
            ],
            [
             0.1111111111111111,
             "#46039f"
            ],
            [
             0.2222222222222222,
             "#7201a8"
            ],
            [
             0.3333333333333333,
             "#9c179e"
            ],
            [
             0.4444444444444444,
             "#bd3786"
            ],
            [
             0.5555555555555556,
             "#d8576b"
            ],
            [
             0.6666666666666666,
             "#ed7953"
            ],
            [
             0.7777777777777778,
             "#fb9f3a"
            ],
            [
             0.8888888888888888,
             "#fdca26"
            ],
            [
             1,
             "#f0f921"
            ]
           ]
          },
          "colorway": [
           "#636efa",
           "#EF553B",
           "#00cc96",
           "#ab63fa",
           "#FFA15A",
           "#19d3f3",
           "#FF6692",
           "#B6E880",
           "#FF97FF",
           "#FECB52"
          ],
          "font": {
           "color": "#2a3f5f"
          },
          "geo": {
           "bgcolor": "white",
           "lakecolor": "white",
           "landcolor": "#E5ECF6",
           "showlakes": true,
           "showland": true,
           "subunitcolor": "white"
          },
          "hoverlabel": {
           "align": "left"
          },
          "hovermode": "closest",
          "mapbox": {
           "style": "light"
          },
          "paper_bgcolor": "white",
          "plot_bgcolor": "#E5ECF6",
          "polar": {
           "angularaxis": {
            "gridcolor": "white",
            "linecolor": "white",
            "ticks": ""
           },
           "bgcolor": "#E5ECF6",
           "radialaxis": {
            "gridcolor": "white",
            "linecolor": "white",
            "ticks": ""
           }
          },
          "scene": {
           "xaxis": {
            "backgroundcolor": "#E5ECF6",
            "gridcolor": "white",
            "gridwidth": 2,
            "linecolor": "white",
            "showbackground": true,
            "ticks": "",
            "zerolinecolor": "white"
           },
           "yaxis": {
            "backgroundcolor": "#E5ECF6",
            "gridcolor": "white",
            "gridwidth": 2,
            "linecolor": "white",
            "showbackground": true,
            "ticks": "",
            "zerolinecolor": "white"
           },
           "zaxis": {
            "backgroundcolor": "#E5ECF6",
            "gridcolor": "white",
            "gridwidth": 2,
            "linecolor": "white",
            "showbackground": true,
            "ticks": "",
            "zerolinecolor": "white"
           }
          },
          "shapedefaults": {
           "line": {
            "color": "#2a3f5f"
           }
          },
          "ternary": {
           "aaxis": {
            "gridcolor": "white",
            "linecolor": "white",
            "ticks": ""
           },
           "baxis": {
            "gridcolor": "white",
            "linecolor": "white",
            "ticks": ""
           },
           "bgcolor": "#E5ECF6",
           "caxis": {
            "gridcolor": "white",
            "linecolor": "white",
            "ticks": ""
           }
          },
          "title": {
           "x": 0.05
          },
          "xaxis": {
           "automargin": true,
           "gridcolor": "white",
           "linecolor": "white",
           "ticks": "",
           "title": {
            "standoff": 15
           },
           "zerolinecolor": "white",
           "zerolinewidth": 2
          },
          "yaxis": {
           "automargin": true,
           "gridcolor": "white",
           "linecolor": "white",
           "ticks": "",
           "title": {
            "standoff": 15
           },
           "zerolinecolor": "white",
           "zerolinewidth": 2
          }
         }
        },
        "title": {
         "text": "Training Loss vs Epochs"
        },
        "xaxis": {
         "anchor": "y",
         "domain": [
          0,
          1
         ],
         "title": {
          "text": "Epochs"
         }
        },
        "yaxis": {
         "anchor": "x",
         "domain": [
          0,
          1
         ],
         "title": {
          "text": "Training Loss"
         }
        }
       }
      }
     },
     "metadata": {},
     "output_type": "display_data"
    }
   ],
   "source": [
    "# there are 50 epochs\n",
    "# use index as x-axis\n",
    "fig = px.line(df_overall, x=df_overall.index, y=\"train_loss\", color=\"latent_dim\")\n",
    "fig.update_layout(\n",
    "    title=\"Training Loss vs Epochs\",\n",
    "    xaxis_title=\"Epochs\",\n",
    "    yaxis_title=\"Training Loss\",\n",
    ")\n",
    "fig.show()\n",
    "fig.write_image(FIGURE_DIR + \"training_loss_vs_epochs.png\")\n"
   ]
  },
  {
   "cell_type": "markdown",
   "metadata": {},
   "source": [
    "### Table of the loss metrics on the last epoch"
   ]
  },
  {
   "cell_type": "code",
   "execution_count": 120,
   "metadata": {},
   "outputs": [
    {
     "data": {
      "text/html": [
       "<div>\n",
       "<style scoped>\n",
       "    .dataframe tbody tr th:only-of-type {\n",
       "        vertical-align: middle;\n",
       "    }\n",
       "\n",
       "    .dataframe tbody tr th {\n",
       "        vertical-align: top;\n",
       "    }\n",
       "\n",
       "    .dataframe thead th {\n",
       "        text-align: right;\n",
       "    }\n",
       "</style>\n",
       "<table border=\"1\" class=\"dataframe\">\n",
       "  <thead>\n",
       "    <tr style=\"text-align: right;\">\n",
       "      <th></th>\n",
       "      <th>latent dim</th>\n",
       "      <th>train loss</th>\n",
       "      <th>train mse loss</th>\n",
       "      <th>train kld loss</th>\n",
       "      <th>val loss</th>\n",
       "      <th>val mse loss</th>\n",
       "      <th>val kld loss</th>\n",
       "      <th>test loss</th>\n",
       "      <th>test mse loss</th>\n",
       "      <th>test kld loss</th>\n",
       "    </tr>\n",
       "  </thead>\n",
       "  <tbody>\n",
       "    <tr>\n",
       "      <th>49</th>\n",
       "      <td>2</td>\n",
       "      <td>183.696</td>\n",
       "      <td>177.331</td>\n",
       "      <td>6.365</td>\n",
       "      <td>184.052</td>\n",
       "      <td>177.590</td>\n",
       "      <td>6.462</td>\n",
       "      <td>184.232</td>\n",
       "      <td>177.776</td>\n",
       "      <td>6.456</td>\n",
       "    </tr>\n",
       "    <tr>\n",
       "      <th>49</th>\n",
       "      <td>8</td>\n",
       "      <td>115.046</td>\n",
       "      <td>98.375</td>\n",
       "      <td>16.671</td>\n",
       "      <td>116.981</td>\n",
       "      <td>100.384</td>\n",
       "      <td>16.596</td>\n",
       "      <td>117.100</td>\n",
       "      <td>100.518</td>\n",
       "      <td>16.581</td>\n",
       "    </tr>\n",
       "    <tr>\n",
       "      <th>49</th>\n",
       "      <td>16</td>\n",
       "      <td>94.840</td>\n",
       "      <td>69.904</td>\n",
       "      <td>24.936</td>\n",
       "      <td>96.652</td>\n",
       "      <td>71.908</td>\n",
       "      <td>24.743</td>\n",
       "      <td>96.395</td>\n",
       "      <td>71.656</td>\n",
       "      <td>24.738</td>\n",
       "    </tr>\n",
       "    <tr>\n",
       "      <th>49</th>\n",
       "      <td>32</td>\n",
       "      <td>87.858</td>\n",
       "      <td>55.672</td>\n",
       "      <td>32.186</td>\n",
       "      <td>88.425</td>\n",
       "      <td>56.046</td>\n",
       "      <td>32.379</td>\n",
       "      <td>88.587</td>\n",
       "      <td>56.218</td>\n",
       "      <td>32.369</td>\n",
       "    </tr>\n",
       "    <tr>\n",
       "      <th>49</th>\n",
       "      <td>64</td>\n",
       "      <td>87.029</td>\n",
       "      <td>53.511</td>\n",
       "      <td>33.518</td>\n",
       "      <td>88.072</td>\n",
       "      <td>54.143</td>\n",
       "      <td>33.929</td>\n",
       "      <td>88.067</td>\n",
       "      <td>54.141</td>\n",
       "      <td>33.926</td>\n",
       "    </tr>\n",
       "    <tr>\n",
       "      <th>49</th>\n",
       "      <td>128</td>\n",
       "      <td>87.947</td>\n",
       "      <td>54.502</td>\n",
       "      <td>33.445</td>\n",
       "      <td>88.328</td>\n",
       "      <td>54.815</td>\n",
       "      <td>33.513</td>\n",
       "      <td>88.241</td>\n",
       "      <td>54.737</td>\n",
       "      <td>33.504</td>\n",
       "    </tr>\n",
       "    <tr>\n",
       "      <th>49</th>\n",
       "      <td>256</td>\n",
       "      <td>87.545</td>\n",
       "      <td>54.090</td>\n",
       "      <td>33.455</td>\n",
       "      <td>88.062</td>\n",
       "      <td>54.504</td>\n",
       "      <td>33.558</td>\n",
       "      <td>88.177</td>\n",
       "      <td>54.581</td>\n",
       "      <td>33.596</td>\n",
       "    </tr>\n",
       "  </tbody>\n",
       "</table>\n",
       "</div>"
      ],
      "text/plain": [
       "   latent dim  train loss  train mse loss  train kld loss  val loss  \\\n",
       "49          2     183.696         177.331           6.365   184.052   \n",
       "49          8     115.046          98.375          16.671   116.981   \n",
       "49         16      94.840          69.904          24.936    96.652   \n",
       "49         32      87.858          55.672          32.186    88.425   \n",
       "49         64      87.029          53.511          33.518    88.072   \n",
       "49        128      87.947          54.502          33.445    88.328   \n",
       "49        256      87.545          54.090          33.455    88.062   \n",
       "\n",
       "    val mse loss  val kld loss  test loss  test mse loss  test kld loss  \n",
       "49       177.590         6.462    184.232        177.776          6.456  \n",
       "49       100.384        16.596    117.100        100.518         16.581  \n",
       "49        71.908        24.743     96.395         71.656         24.738  \n",
       "49        56.046        32.379     88.587         56.218         32.369  \n",
       "49        54.143        33.929     88.067         54.141         33.926  \n",
       "49        54.815        33.513     88.241         54.737         33.504  \n",
       "49        54.504        33.558     88.177         54.581         33.596  "
      ]
     },
     "execution_count": 120,
     "metadata": {},
     "output_type": "execute_result"
    }
   ],
   "source": [
    "# extract all the \"last\" rows\n",
    "df_last = df_overall.groupby(\"latent_dim\").tail(1)\n",
    "prepare_df(df_last).to_latex(index=False, escape=False, buf=FIGURE_DIR + \"final_loss_table.tex\", float_format=\"%.2f\")\n",
    "df_last\n",
    "\n",
    "\n",
    "\n",
    "# fig = px.bar(df_last, x=\"name\", y=\"train_loss\")\n",
    "# fig.update_layout(\n",
    "#     title=\"Final Training Loss\",\n",
    "#     xaxis_title=\"Latent Dimension\",\n",
    "#     yaxis_title=\"Training Loss\",\n",
    "# )\n",
    "# fig.show()"
   ]
  },
  {
   "cell_type": "code",
   "execution_count": 121,
   "metadata": {},
   "outputs": [
    {
     "data": {
      "application/vnd.plotly.v1+json": {
       "config": {
        "plotlyServerURL": "https://plot.ly"
       },
       "data": [
        {
         "hovertemplate": "Loss Type=train_loss<br>index=%{x}<br>Loss=%{y}<extra></extra>",
         "legendgroup": "train_loss",
         "line": {
          "color": "#636efa",
          "dash": "solid"
         },
         "marker": {
          "symbol": "circle"
         },
         "mode": "lines",
         "name": "train_loss",
         "orientation": "v",
         "showlegend": true,
         "type": "scatter",
         "x": [
          0,
          1,
          2,
          3,
          4,
          5,
          6,
          7,
          8,
          9,
          10,
          11,
          12,
          13,
          14,
          15,
          16,
          17,
          18,
          19,
          20,
          21,
          22,
          23,
          24,
          25,
          26,
          27,
          28,
          29,
          30,
          31,
          32,
          33,
          34,
          35,
          36,
          37,
          38,
          39,
          40,
          41,
          42,
          43,
          44,
          45,
          46,
          47,
          48,
          49
         ],
         "xaxis": "x",
         "y": [
          136.128,
          98.578,
          95.41,
          93.78,
          92.747,
          92.064,
          91.514,
          91.114,
          90.771,
          90.5,
          90.237,
          90.067,
          89.874,
          89.719,
          89.585,
          89.467,
          89.338,
          89.242,
          89.134,
          89.06,
          88.951,
          88.922,
          88.835,
          88.757,
          88.701,
          88.647,
          88.62,
          88.541,
          88.502,
          88.453,
          88.405,
          88.366,
          88.337,
          88.297,
          88.249,
          88.222,
          88.188,
          88.161,
          88.124,
          88.098,
          88.053,
          88.049,
          88.027,
          87.988,
          87.965,
          87.926,
          87.929,
          87.882,
          87.871,
          87.858
         ],
         "yaxis": "y"
        },
        {
         "hovertemplate": "Loss Type=train_mse_loss<br>index=%{x}<br>Loss=%{y}<extra></extra>",
         "legendgroup": "train_mse_loss",
         "line": {
          "color": "#EF553B",
          "dash": "solid"
         },
         "marker": {
          "symbol": "circle"
         },
         "mode": "lines",
         "name": "train_mse_loss",
         "orientation": "v",
         "showlegend": true,
         "type": "scatter",
         "x": [
          0,
          1,
          2,
          3,
          4,
          5,
          6,
          7,
          8,
          9,
          10,
          11,
          12,
          13,
          14,
          15,
          16,
          17,
          18,
          19,
          20,
          21,
          22,
          23,
          24,
          25,
          26,
          27,
          28,
          29,
          30,
          31,
          32,
          33,
          34,
          35,
          36,
          37,
          38,
          39,
          40,
          41,
          42,
          43,
          44,
          45,
          46,
          47,
          48,
          49
         ],
         "xaxis": "x",
         "y": [
          107.823,
          66.569,
          63.327,
          61.727,
          60.689,
          60,
          59.453,
          59.035,
          58.679,
          58.388,
          58.145,
          57.965,
          57.749,
          57.591,
          57.452,
          57.329,
          57.188,
          57.106,
          57,
          56.919,
          56.816,
          56.767,
          56.693,
          56.62,
          56.546,
          56.494,
          56.454,
          56.38,
          56.338,
          56.288,
          56.244,
          56.207,
          56.154,
          56.12,
          56.076,
          56.059,
          56.011,
          55.968,
          55.94,
          55.914,
          55.897,
          55.869,
          55.842,
          55.808,
          55.788,
          55.756,
          55.727,
          55.703,
          55.693,
          55.672
         ],
         "yaxis": "y"
        },
        {
         "hovertemplate": "Loss Type=train_kld_loss<br>index=%{x}<br>Loss=%{y}<extra></extra>",
         "legendgroup": "train_kld_loss",
         "line": {
          "color": "#00cc96",
          "dash": "solid"
         },
         "marker": {
          "symbol": "circle"
         },
         "mode": "lines",
         "name": "train_kld_loss",
         "orientation": "v",
         "showlegend": true,
         "type": "scatter",
         "x": [
          0,
          1,
          2,
          3,
          4,
          5,
          6,
          7,
          8,
          9,
          10,
          11,
          12,
          13,
          14,
          15,
          16,
          17,
          18,
          19,
          20,
          21,
          22,
          23,
          24,
          25,
          26,
          27,
          28,
          29,
          30,
          31,
          32,
          33,
          34,
          35,
          36,
          37,
          38,
          39,
          40,
          41,
          42,
          43,
          44,
          45,
          46,
          47,
          48,
          49
         ],
         "xaxis": "x",
         "y": [
          28.305,
          32.008,
          32.083,
          32.053,
          32.058,
          32.065,
          32.061,
          32.08,
          32.092,
          32.112,
          32.091,
          32.102,
          32.125,
          32.127,
          32.134,
          32.138,
          32.15,
          32.136,
          32.134,
          32.141,
          32.134,
          32.156,
          32.143,
          32.137,
          32.156,
          32.152,
          32.167,
          32.161,
          32.164,
          32.165,
          32.161,
          32.159,
          32.184,
          32.177,
          32.173,
          32.163,
          32.177,
          32.193,
          32.184,
          32.184,
          32.156,
          32.18,
          32.185,
          32.18,
          32.178,
          32.17,
          32.202,
          32.179,
          32.178,
          32.186
         ],
         "yaxis": "y"
        }
       ],
       "layout": {
        "legend": {
         "title": {
          "text": "Loss Type"
         },
         "tracegroupgap": 0
        },
        "template": {
         "data": {
          "bar": [
           {
            "error_x": {
             "color": "#2a3f5f"
            },
            "error_y": {
             "color": "#2a3f5f"
            },
            "marker": {
             "line": {
              "color": "#E5ECF6",
              "width": 0.5
             },
             "pattern": {
              "fillmode": "overlay",
              "size": 10,
              "solidity": 0.2
             }
            },
            "type": "bar"
           }
          ],
          "barpolar": [
           {
            "marker": {
             "line": {
              "color": "#E5ECF6",
              "width": 0.5
             },
             "pattern": {
              "fillmode": "overlay",
              "size": 10,
              "solidity": 0.2
             }
            },
            "type": "barpolar"
           }
          ],
          "carpet": [
           {
            "aaxis": {
             "endlinecolor": "#2a3f5f",
             "gridcolor": "white",
             "linecolor": "white",
             "minorgridcolor": "white",
             "startlinecolor": "#2a3f5f"
            },
            "baxis": {
             "endlinecolor": "#2a3f5f",
             "gridcolor": "white",
             "linecolor": "white",
             "minorgridcolor": "white",
             "startlinecolor": "#2a3f5f"
            },
            "type": "carpet"
           }
          ],
          "choropleth": [
           {
            "colorbar": {
             "outlinewidth": 0,
             "ticks": ""
            },
            "type": "choropleth"
           }
          ],
          "contour": [
           {
            "colorbar": {
             "outlinewidth": 0,
             "ticks": ""
            },
            "colorscale": [
             [
              0,
              "#0d0887"
             ],
             [
              0.1111111111111111,
              "#46039f"
             ],
             [
              0.2222222222222222,
              "#7201a8"
             ],
             [
              0.3333333333333333,
              "#9c179e"
             ],
             [
              0.4444444444444444,
              "#bd3786"
             ],
             [
              0.5555555555555556,
              "#d8576b"
             ],
             [
              0.6666666666666666,
              "#ed7953"
             ],
             [
              0.7777777777777778,
              "#fb9f3a"
             ],
             [
              0.8888888888888888,
              "#fdca26"
             ],
             [
              1,
              "#f0f921"
             ]
            ],
            "type": "contour"
           }
          ],
          "contourcarpet": [
           {
            "colorbar": {
             "outlinewidth": 0,
             "ticks": ""
            },
            "type": "contourcarpet"
           }
          ],
          "heatmap": [
           {
            "colorbar": {
             "outlinewidth": 0,
             "ticks": ""
            },
            "colorscale": [
             [
              0,
              "#0d0887"
             ],
             [
              0.1111111111111111,
              "#46039f"
             ],
             [
              0.2222222222222222,
              "#7201a8"
             ],
             [
              0.3333333333333333,
              "#9c179e"
             ],
             [
              0.4444444444444444,
              "#bd3786"
             ],
             [
              0.5555555555555556,
              "#d8576b"
             ],
             [
              0.6666666666666666,
              "#ed7953"
             ],
             [
              0.7777777777777778,
              "#fb9f3a"
             ],
             [
              0.8888888888888888,
              "#fdca26"
             ],
             [
              1,
              "#f0f921"
             ]
            ],
            "type": "heatmap"
           }
          ],
          "heatmapgl": [
           {
            "colorbar": {
             "outlinewidth": 0,
             "ticks": ""
            },
            "colorscale": [
             [
              0,
              "#0d0887"
             ],
             [
              0.1111111111111111,
              "#46039f"
             ],
             [
              0.2222222222222222,
              "#7201a8"
             ],
             [
              0.3333333333333333,
              "#9c179e"
             ],
             [
              0.4444444444444444,
              "#bd3786"
             ],
             [
              0.5555555555555556,
              "#d8576b"
             ],
             [
              0.6666666666666666,
              "#ed7953"
             ],
             [
              0.7777777777777778,
              "#fb9f3a"
             ],
             [
              0.8888888888888888,
              "#fdca26"
             ],
             [
              1,
              "#f0f921"
             ]
            ],
            "type": "heatmapgl"
           }
          ],
          "histogram": [
           {
            "marker": {
             "pattern": {
              "fillmode": "overlay",
              "size": 10,
              "solidity": 0.2
             }
            },
            "type": "histogram"
           }
          ],
          "histogram2d": [
           {
            "colorbar": {
             "outlinewidth": 0,
             "ticks": ""
            },
            "colorscale": [
             [
              0,
              "#0d0887"
             ],
             [
              0.1111111111111111,
              "#46039f"
             ],
             [
              0.2222222222222222,
              "#7201a8"
             ],
             [
              0.3333333333333333,
              "#9c179e"
             ],
             [
              0.4444444444444444,
              "#bd3786"
             ],
             [
              0.5555555555555556,
              "#d8576b"
             ],
             [
              0.6666666666666666,
              "#ed7953"
             ],
             [
              0.7777777777777778,
              "#fb9f3a"
             ],
             [
              0.8888888888888888,
              "#fdca26"
             ],
             [
              1,
              "#f0f921"
             ]
            ],
            "type": "histogram2d"
           }
          ],
          "histogram2dcontour": [
           {
            "colorbar": {
             "outlinewidth": 0,
             "ticks": ""
            },
            "colorscale": [
             [
              0,
              "#0d0887"
             ],
             [
              0.1111111111111111,
              "#46039f"
             ],
             [
              0.2222222222222222,
              "#7201a8"
             ],
             [
              0.3333333333333333,
              "#9c179e"
             ],
             [
              0.4444444444444444,
              "#bd3786"
             ],
             [
              0.5555555555555556,
              "#d8576b"
             ],
             [
              0.6666666666666666,
              "#ed7953"
             ],
             [
              0.7777777777777778,
              "#fb9f3a"
             ],
             [
              0.8888888888888888,
              "#fdca26"
             ],
             [
              1,
              "#f0f921"
             ]
            ],
            "type": "histogram2dcontour"
           }
          ],
          "mesh3d": [
           {
            "colorbar": {
             "outlinewidth": 0,
             "ticks": ""
            },
            "type": "mesh3d"
           }
          ],
          "parcoords": [
           {
            "line": {
             "colorbar": {
              "outlinewidth": 0,
              "ticks": ""
             }
            },
            "type": "parcoords"
           }
          ],
          "pie": [
           {
            "automargin": true,
            "type": "pie"
           }
          ],
          "scatter": [
           {
            "fillpattern": {
             "fillmode": "overlay",
             "size": 10,
             "solidity": 0.2
            },
            "type": "scatter"
           }
          ],
          "scatter3d": [
           {
            "line": {
             "colorbar": {
              "outlinewidth": 0,
              "ticks": ""
             }
            },
            "marker": {
             "colorbar": {
              "outlinewidth": 0,
              "ticks": ""
             }
            },
            "type": "scatter3d"
           }
          ],
          "scattercarpet": [
           {
            "marker": {
             "colorbar": {
              "outlinewidth": 0,
              "ticks": ""
             }
            },
            "type": "scattercarpet"
           }
          ],
          "scattergeo": [
           {
            "marker": {
             "colorbar": {
              "outlinewidth": 0,
              "ticks": ""
             }
            },
            "type": "scattergeo"
           }
          ],
          "scattergl": [
           {
            "marker": {
             "colorbar": {
              "outlinewidth": 0,
              "ticks": ""
             }
            },
            "type": "scattergl"
           }
          ],
          "scattermapbox": [
           {
            "marker": {
             "colorbar": {
              "outlinewidth": 0,
              "ticks": ""
             }
            },
            "type": "scattermapbox"
           }
          ],
          "scatterpolar": [
           {
            "marker": {
             "colorbar": {
              "outlinewidth": 0,
              "ticks": ""
             }
            },
            "type": "scatterpolar"
           }
          ],
          "scatterpolargl": [
           {
            "marker": {
             "colorbar": {
              "outlinewidth": 0,
              "ticks": ""
             }
            },
            "type": "scatterpolargl"
           }
          ],
          "scatterternary": [
           {
            "marker": {
             "colorbar": {
              "outlinewidth": 0,
              "ticks": ""
             }
            },
            "type": "scatterternary"
           }
          ],
          "surface": [
           {
            "colorbar": {
             "outlinewidth": 0,
             "ticks": ""
            },
            "colorscale": [
             [
              0,
              "#0d0887"
             ],
             [
              0.1111111111111111,
              "#46039f"
             ],
             [
              0.2222222222222222,
              "#7201a8"
             ],
             [
              0.3333333333333333,
              "#9c179e"
             ],
             [
              0.4444444444444444,
              "#bd3786"
             ],
             [
              0.5555555555555556,
              "#d8576b"
             ],
             [
              0.6666666666666666,
              "#ed7953"
             ],
             [
              0.7777777777777778,
              "#fb9f3a"
             ],
             [
              0.8888888888888888,
              "#fdca26"
             ],
             [
              1,
              "#f0f921"
             ]
            ],
            "type": "surface"
           }
          ],
          "table": [
           {
            "cells": {
             "fill": {
              "color": "#EBF0F8"
             },
             "line": {
              "color": "white"
             }
            },
            "header": {
             "fill": {
              "color": "#C8D4E3"
             },
             "line": {
              "color": "white"
             }
            },
            "type": "table"
           }
          ]
         },
         "layout": {
          "annotationdefaults": {
           "arrowcolor": "#2a3f5f",
           "arrowhead": 0,
           "arrowwidth": 1
          },
          "autotypenumbers": "strict",
          "coloraxis": {
           "colorbar": {
            "outlinewidth": 0,
            "ticks": ""
           }
          },
          "colorscale": {
           "diverging": [
            [
             0,
             "#8e0152"
            ],
            [
             0.1,
             "#c51b7d"
            ],
            [
             0.2,
             "#de77ae"
            ],
            [
             0.3,
             "#f1b6da"
            ],
            [
             0.4,
             "#fde0ef"
            ],
            [
             0.5,
             "#f7f7f7"
            ],
            [
             0.6,
             "#e6f5d0"
            ],
            [
             0.7,
             "#b8e186"
            ],
            [
             0.8,
             "#7fbc41"
            ],
            [
             0.9,
             "#4d9221"
            ],
            [
             1,
             "#276419"
            ]
           ],
           "sequential": [
            [
             0,
             "#0d0887"
            ],
            [
             0.1111111111111111,
             "#46039f"
            ],
            [
             0.2222222222222222,
             "#7201a8"
            ],
            [
             0.3333333333333333,
             "#9c179e"
            ],
            [
             0.4444444444444444,
             "#bd3786"
            ],
            [
             0.5555555555555556,
             "#d8576b"
            ],
            [
             0.6666666666666666,
             "#ed7953"
            ],
            [
             0.7777777777777778,
             "#fb9f3a"
            ],
            [
             0.8888888888888888,
             "#fdca26"
            ],
            [
             1,
             "#f0f921"
            ]
           ],
           "sequentialminus": [
            [
             0,
             "#0d0887"
            ],
            [
             0.1111111111111111,
             "#46039f"
            ],
            [
             0.2222222222222222,
             "#7201a8"
            ],
            [
             0.3333333333333333,
             "#9c179e"
            ],
            [
             0.4444444444444444,
             "#bd3786"
            ],
            [
             0.5555555555555556,
             "#d8576b"
            ],
            [
             0.6666666666666666,
             "#ed7953"
            ],
            [
             0.7777777777777778,
             "#fb9f3a"
            ],
            [
             0.8888888888888888,
             "#fdca26"
            ],
            [
             1,
             "#f0f921"
            ]
           ]
          },
          "colorway": [
           "#636efa",
           "#EF553B",
           "#00cc96",
           "#ab63fa",
           "#FFA15A",
           "#19d3f3",
           "#FF6692",
           "#B6E880",
           "#FF97FF",
           "#FECB52"
          ],
          "font": {
           "color": "#2a3f5f"
          },
          "geo": {
           "bgcolor": "white",
           "lakecolor": "white",
           "landcolor": "#E5ECF6",
           "showlakes": true,
           "showland": true,
           "subunitcolor": "white"
          },
          "hoverlabel": {
           "align": "left"
          },
          "hovermode": "closest",
          "mapbox": {
           "style": "light"
          },
          "paper_bgcolor": "white",
          "plot_bgcolor": "#E5ECF6",
          "polar": {
           "angularaxis": {
            "gridcolor": "white",
            "linecolor": "white",
            "ticks": ""
           },
           "bgcolor": "#E5ECF6",
           "radialaxis": {
            "gridcolor": "white",
            "linecolor": "white",
            "ticks": ""
           }
          },
          "scene": {
           "xaxis": {
            "backgroundcolor": "#E5ECF6",
            "gridcolor": "white",
            "gridwidth": 2,
            "linecolor": "white",
            "showbackground": true,
            "ticks": "",
            "zerolinecolor": "white"
           },
           "yaxis": {
            "backgroundcolor": "#E5ECF6",
            "gridcolor": "white",
            "gridwidth": 2,
            "linecolor": "white",
            "showbackground": true,
            "ticks": "",
            "zerolinecolor": "white"
           },
           "zaxis": {
            "backgroundcolor": "#E5ECF6",
            "gridcolor": "white",
            "gridwidth": 2,
            "linecolor": "white",
            "showbackground": true,
            "ticks": "",
            "zerolinecolor": "white"
           }
          },
          "shapedefaults": {
           "line": {
            "color": "#2a3f5f"
           }
          },
          "ternary": {
           "aaxis": {
            "gridcolor": "white",
            "linecolor": "white",
            "ticks": ""
           },
           "baxis": {
            "gridcolor": "white",
            "linecolor": "white",
            "ticks": ""
           },
           "bgcolor": "#E5ECF6",
           "caxis": {
            "gridcolor": "white",
            "linecolor": "white",
            "ticks": ""
           }
          },
          "title": {
           "x": 0.05
          },
          "xaxis": {
           "automargin": true,
           "gridcolor": "white",
           "linecolor": "white",
           "ticks": "",
           "title": {
            "standoff": 15
           },
           "zerolinecolor": "white",
           "zerolinewidth": 2
          },
          "yaxis": {
           "automargin": true,
           "gridcolor": "white",
           "linecolor": "white",
           "ticks": "",
           "title": {
            "standoff": 15
           },
           "zerolinecolor": "white",
           "zerolinewidth": 2
          }
         }
        },
        "title": {
         "text": "32 Latent Dim Train Loss vs Epochs"
        },
        "xaxis": {
         "anchor": "y",
         "domain": [
          0,
          1
         ],
         "title": {
          "text": "Epochs"
         }
        },
        "yaxis": {
         "anchor": "x",
         "domain": [
          0,
          1
         ],
         "title": {
          "text": "Loss"
         }
        }
       }
      }
     },
     "metadata": {},
     "output_type": "display_data"
    },
    {
     "data": {
      "application/vnd.plotly.v1+json": {
       "config": {
        "plotlyServerURL": "https://plot.ly"
       },
       "data": [
        {
         "mode": "lines",
         "name": "train_loss",
         "type": "scatter",
         "x": [
          0,
          1,
          2,
          3,
          4,
          5,
          6,
          7,
          8,
          9,
          10,
          11,
          12,
          13,
          14,
          15,
          16,
          17,
          18,
          19,
          20,
          21,
          22,
          23,
          24,
          25,
          26,
          27,
          28,
          29,
          30,
          31,
          32,
          33,
          34,
          35,
          36,
          37,
          38,
          39,
          40,
          41,
          42,
          43,
          44,
          45,
          46,
          47,
          48,
          49
         ],
         "xaxis": "x",
         "y": [
          136.128,
          98.578,
          95.41,
          93.78,
          92.747,
          92.064,
          91.514,
          91.114,
          90.771,
          90.5,
          90.237,
          90.067,
          89.874,
          89.719,
          89.585,
          89.467,
          89.338,
          89.242,
          89.134,
          89.06,
          88.951,
          88.922,
          88.835,
          88.757,
          88.701,
          88.647,
          88.62,
          88.541,
          88.502,
          88.453,
          88.405,
          88.366,
          88.337,
          88.297,
          88.249,
          88.222,
          88.188,
          88.161,
          88.124,
          88.098,
          88.053,
          88.049,
          88.027,
          87.988,
          87.965,
          87.926,
          87.929,
          87.882,
          87.871,
          87.858
         ],
         "yaxis": "y"
        },
        {
         "mode": "lines",
         "name": "train_mse_loss",
         "type": "scatter",
         "x": [
          0,
          1,
          2,
          3,
          4,
          5,
          6,
          7,
          8,
          9,
          10,
          11,
          12,
          13,
          14,
          15,
          16,
          17,
          18,
          19,
          20,
          21,
          22,
          23,
          24,
          25,
          26,
          27,
          28,
          29,
          30,
          31,
          32,
          33,
          34,
          35,
          36,
          37,
          38,
          39,
          40,
          41,
          42,
          43,
          44,
          45,
          46,
          47,
          48,
          49
         ],
         "xaxis": "x",
         "y": [
          107.823,
          66.569,
          63.327,
          61.727,
          60.689,
          60,
          59.453,
          59.035,
          58.679,
          58.388,
          58.145,
          57.965,
          57.749,
          57.591,
          57.452,
          57.329,
          57.188,
          57.106,
          57,
          56.919,
          56.816,
          56.767,
          56.693,
          56.62,
          56.546,
          56.494,
          56.454,
          56.38,
          56.338,
          56.288,
          56.244,
          56.207,
          56.154,
          56.12,
          56.076,
          56.059,
          56.011,
          55.968,
          55.94,
          55.914,
          55.897,
          55.869,
          55.842,
          55.808,
          55.788,
          55.756,
          55.727,
          55.703,
          55.693,
          55.672
         ],
         "yaxis": "y"
        },
        {
         "mode": "lines",
         "name": "train_kld_loss",
         "type": "scatter",
         "x": [
          0,
          1,
          2,
          3,
          4,
          5,
          6,
          7,
          8,
          9,
          10,
          11,
          12,
          13,
          14,
          15,
          16,
          17,
          18,
          19,
          20,
          21,
          22,
          23,
          24,
          25,
          26,
          27,
          28,
          29,
          30,
          31,
          32,
          33,
          34,
          35,
          36,
          37,
          38,
          39,
          40,
          41,
          42,
          43,
          44,
          45,
          46,
          47,
          48,
          49
         ],
         "xaxis": "x",
         "y": [
          28.305,
          32.008,
          32.083,
          32.053,
          32.058,
          32.065,
          32.061,
          32.08,
          32.092,
          32.112,
          32.091,
          32.102,
          32.125,
          32.127,
          32.134,
          32.138,
          32.15,
          32.136,
          32.134,
          32.141,
          32.134,
          32.156,
          32.143,
          32.137,
          32.156,
          32.152,
          32.167,
          32.161,
          32.164,
          32.165,
          32.161,
          32.159,
          32.184,
          32.177,
          32.173,
          32.163,
          32.177,
          32.193,
          32.184,
          32.184,
          32.156,
          32.18,
          32.185,
          32.18,
          32.178,
          32.17,
          32.202,
          32.179,
          32.178,
          32.186
         ],
         "yaxis": "y"
        },
        {
         "mode": "lines",
         "name": "train_loss",
         "type": "scatter",
         "x": [
          0,
          1,
          2,
          3,
          4,
          5,
          6,
          7,
          8,
          9,
          10,
          11,
          12,
          13,
          14,
          15,
          16,
          17,
          18,
          19,
          20,
          21,
          22,
          23,
          24,
          25,
          26,
          27,
          28,
          29,
          30,
          31,
          32,
          33,
          34,
          35,
          36,
          37,
          38,
          39,
          40,
          41,
          42,
          43,
          44,
          45,
          46,
          47,
          48,
          49
         ],
         "xaxis": "x2",
         "y": [
          139.503,
          98.782,
          95.134,
          93.423,
          92.41,
          91.733,
          91.218,
          90.841,
          90.493,
          90.265,
          90.048,
          89.853,
          89.664,
          89.49,
          89.387,
          89.243,
          89.168,
          89.058,
          88.975,
          88.877,
          88.753,
          88.681,
          88.621,
          88.546,
          88.476,
          88.431,
          88.349,
          88.312,
          88.261,
          88.195,
          88.158,
          88.106,
          88.045,
          88.05,
          87.988,
          87.932,
          87.951,
          87.878,
          87.837,
          87.776,
          87.791,
          87.744,
          87.695,
          87.68,
          87.653,
          87.635,
          87.598,
          87.581,
          87.544,
          87.545
         ],
         "yaxis": "y2"
        },
        {
         "mode": "lines",
         "name": "train_mse_loss",
         "type": "scatter",
         "x": [
          0,
          1,
          2,
          3,
          4,
          5,
          6,
          7,
          8,
          9,
          10,
          11,
          12,
          13,
          14,
          15,
          16,
          17,
          18,
          19,
          20,
          21,
          22,
          23,
          24,
          25,
          26,
          27,
          28,
          29,
          30,
          31,
          32,
          33,
          34,
          35,
          36,
          37,
          38,
          39,
          40,
          41,
          42,
          43,
          44,
          45,
          46,
          47,
          48,
          49
         ],
         "xaxis": "x2",
         "y": [
          111.443,
          67.007,
          62.571,
          60.513,
          59.318,
          58.536,
          57.971,
          57.559,
          57.221,
          56.986,
          56.759,
          56.543,
          56.372,
          56.19,
          56.075,
          55.928,
          55.818,
          55.704,
          55.62,
          55.514,
          55.406,
          55.308,
          55.253,
          55.178,
          55.109,
          55.057,
          54.971,
          54.916,
          54.865,
          54.794,
          54.727,
          54.686,
          54.616,
          54.615,
          54.539,
          54.505,
          54.496,
          54.441,
          54.39,
          54.338,
          54.345,
          54.294,
          54.25,
          54.239,
          54.202,
          54.181,
          54.141,
          54.131,
          54.087,
          54.09
         ],
         "yaxis": "y2"
        },
        {
         "mode": "lines",
         "name": "train_kld_loss",
         "type": "scatter",
         "x": [
          0,
          1,
          2,
          3,
          4,
          5,
          6,
          7,
          8,
          9,
          10,
          11,
          12,
          13,
          14,
          15,
          16,
          17,
          18,
          19,
          20,
          21,
          22,
          23,
          24,
          25,
          26,
          27,
          28,
          29,
          30,
          31,
          32,
          33,
          34,
          35,
          36,
          37,
          38,
          39,
          40,
          41,
          42,
          43,
          44,
          45,
          46,
          47,
          48,
          49
         ],
         "xaxis": "x2",
         "y": [
          28.06,
          31.775,
          32.563,
          32.91,
          33.092,
          33.197,
          33.246,
          33.282,
          33.272,
          33.279,
          33.288,
          33.31,
          33.292,
          33.301,
          33.312,
          33.315,
          33.35,
          33.354,
          33.354,
          33.363,
          33.347,
          33.373,
          33.368,
          33.368,
          33.367,
          33.374,
          33.377,
          33.396,
          33.396,
          33.401,
          33.43,
          33.42,
          33.429,
          33.435,
          33.449,
          33.428,
          33.454,
          33.437,
          33.447,
          33.437,
          33.446,
          33.45,
          33.445,
          33.44,
          33.451,
          33.454,
          33.458,
          33.45,
          33.457,
          33.455
         ],
         "yaxis": "y2"
        }
       ],
       "layout": {
        "annotations": [
         {
          "font": {
           "size": 16
          },
          "showarrow": false,
          "text": "Latent 32",
          "x": 0.225,
          "xanchor": "center",
          "xref": "paper",
          "y": 1,
          "yanchor": "bottom",
          "yref": "paper"
         },
         {
          "font": {
           "size": 16
          },
          "showarrow": false,
          "text": "Latent 256",
          "x": 0.775,
          "xanchor": "center",
          "xref": "paper",
          "y": 1,
          "yanchor": "bottom",
          "yref": "paper"
         }
        ],
        "template": {
         "data": {
          "bar": [
           {
            "error_x": {
             "color": "#2a3f5f"
            },
            "error_y": {
             "color": "#2a3f5f"
            },
            "marker": {
             "line": {
              "color": "#E5ECF6",
              "width": 0.5
             },
             "pattern": {
              "fillmode": "overlay",
              "size": 10,
              "solidity": 0.2
             }
            },
            "type": "bar"
           }
          ],
          "barpolar": [
           {
            "marker": {
             "line": {
              "color": "#E5ECF6",
              "width": 0.5
             },
             "pattern": {
              "fillmode": "overlay",
              "size": 10,
              "solidity": 0.2
             }
            },
            "type": "barpolar"
           }
          ],
          "carpet": [
           {
            "aaxis": {
             "endlinecolor": "#2a3f5f",
             "gridcolor": "white",
             "linecolor": "white",
             "minorgridcolor": "white",
             "startlinecolor": "#2a3f5f"
            },
            "baxis": {
             "endlinecolor": "#2a3f5f",
             "gridcolor": "white",
             "linecolor": "white",
             "minorgridcolor": "white",
             "startlinecolor": "#2a3f5f"
            },
            "type": "carpet"
           }
          ],
          "choropleth": [
           {
            "colorbar": {
             "outlinewidth": 0,
             "ticks": ""
            },
            "type": "choropleth"
           }
          ],
          "contour": [
           {
            "colorbar": {
             "outlinewidth": 0,
             "ticks": ""
            },
            "colorscale": [
             [
              0,
              "#0d0887"
             ],
             [
              0.1111111111111111,
              "#46039f"
             ],
             [
              0.2222222222222222,
              "#7201a8"
             ],
             [
              0.3333333333333333,
              "#9c179e"
             ],
             [
              0.4444444444444444,
              "#bd3786"
             ],
             [
              0.5555555555555556,
              "#d8576b"
             ],
             [
              0.6666666666666666,
              "#ed7953"
             ],
             [
              0.7777777777777778,
              "#fb9f3a"
             ],
             [
              0.8888888888888888,
              "#fdca26"
             ],
             [
              1,
              "#f0f921"
             ]
            ],
            "type": "contour"
           }
          ],
          "contourcarpet": [
           {
            "colorbar": {
             "outlinewidth": 0,
             "ticks": ""
            },
            "type": "contourcarpet"
           }
          ],
          "heatmap": [
           {
            "colorbar": {
             "outlinewidth": 0,
             "ticks": ""
            },
            "colorscale": [
             [
              0,
              "#0d0887"
             ],
             [
              0.1111111111111111,
              "#46039f"
             ],
             [
              0.2222222222222222,
              "#7201a8"
             ],
             [
              0.3333333333333333,
              "#9c179e"
             ],
             [
              0.4444444444444444,
              "#bd3786"
             ],
             [
              0.5555555555555556,
              "#d8576b"
             ],
             [
              0.6666666666666666,
              "#ed7953"
             ],
             [
              0.7777777777777778,
              "#fb9f3a"
             ],
             [
              0.8888888888888888,
              "#fdca26"
             ],
             [
              1,
              "#f0f921"
             ]
            ],
            "type": "heatmap"
           }
          ],
          "heatmapgl": [
           {
            "colorbar": {
             "outlinewidth": 0,
             "ticks": ""
            },
            "colorscale": [
             [
              0,
              "#0d0887"
             ],
             [
              0.1111111111111111,
              "#46039f"
             ],
             [
              0.2222222222222222,
              "#7201a8"
             ],
             [
              0.3333333333333333,
              "#9c179e"
             ],
             [
              0.4444444444444444,
              "#bd3786"
             ],
             [
              0.5555555555555556,
              "#d8576b"
             ],
             [
              0.6666666666666666,
              "#ed7953"
             ],
             [
              0.7777777777777778,
              "#fb9f3a"
             ],
             [
              0.8888888888888888,
              "#fdca26"
             ],
             [
              1,
              "#f0f921"
             ]
            ],
            "type": "heatmapgl"
           }
          ],
          "histogram": [
           {
            "marker": {
             "pattern": {
              "fillmode": "overlay",
              "size": 10,
              "solidity": 0.2
             }
            },
            "type": "histogram"
           }
          ],
          "histogram2d": [
           {
            "colorbar": {
             "outlinewidth": 0,
             "ticks": ""
            },
            "colorscale": [
             [
              0,
              "#0d0887"
             ],
             [
              0.1111111111111111,
              "#46039f"
             ],
             [
              0.2222222222222222,
              "#7201a8"
             ],
             [
              0.3333333333333333,
              "#9c179e"
             ],
             [
              0.4444444444444444,
              "#bd3786"
             ],
             [
              0.5555555555555556,
              "#d8576b"
             ],
             [
              0.6666666666666666,
              "#ed7953"
             ],
             [
              0.7777777777777778,
              "#fb9f3a"
             ],
             [
              0.8888888888888888,
              "#fdca26"
             ],
             [
              1,
              "#f0f921"
             ]
            ],
            "type": "histogram2d"
           }
          ],
          "histogram2dcontour": [
           {
            "colorbar": {
             "outlinewidth": 0,
             "ticks": ""
            },
            "colorscale": [
             [
              0,
              "#0d0887"
             ],
             [
              0.1111111111111111,
              "#46039f"
             ],
             [
              0.2222222222222222,
              "#7201a8"
             ],
             [
              0.3333333333333333,
              "#9c179e"
             ],
             [
              0.4444444444444444,
              "#bd3786"
             ],
             [
              0.5555555555555556,
              "#d8576b"
             ],
             [
              0.6666666666666666,
              "#ed7953"
             ],
             [
              0.7777777777777778,
              "#fb9f3a"
             ],
             [
              0.8888888888888888,
              "#fdca26"
             ],
             [
              1,
              "#f0f921"
             ]
            ],
            "type": "histogram2dcontour"
           }
          ],
          "mesh3d": [
           {
            "colorbar": {
             "outlinewidth": 0,
             "ticks": ""
            },
            "type": "mesh3d"
           }
          ],
          "parcoords": [
           {
            "line": {
             "colorbar": {
              "outlinewidth": 0,
              "ticks": ""
             }
            },
            "type": "parcoords"
           }
          ],
          "pie": [
           {
            "automargin": true,
            "type": "pie"
           }
          ],
          "scatter": [
           {
            "fillpattern": {
             "fillmode": "overlay",
             "size": 10,
             "solidity": 0.2
            },
            "type": "scatter"
           }
          ],
          "scatter3d": [
           {
            "line": {
             "colorbar": {
              "outlinewidth": 0,
              "ticks": ""
             }
            },
            "marker": {
             "colorbar": {
              "outlinewidth": 0,
              "ticks": ""
             }
            },
            "type": "scatter3d"
           }
          ],
          "scattercarpet": [
           {
            "marker": {
             "colorbar": {
              "outlinewidth": 0,
              "ticks": ""
             }
            },
            "type": "scattercarpet"
           }
          ],
          "scattergeo": [
           {
            "marker": {
             "colorbar": {
              "outlinewidth": 0,
              "ticks": ""
             }
            },
            "type": "scattergeo"
           }
          ],
          "scattergl": [
           {
            "marker": {
             "colorbar": {
              "outlinewidth": 0,
              "ticks": ""
             }
            },
            "type": "scattergl"
           }
          ],
          "scattermapbox": [
           {
            "marker": {
             "colorbar": {
              "outlinewidth": 0,
              "ticks": ""
             }
            },
            "type": "scattermapbox"
           }
          ],
          "scatterpolar": [
           {
            "marker": {
             "colorbar": {
              "outlinewidth": 0,
              "ticks": ""
             }
            },
            "type": "scatterpolar"
           }
          ],
          "scatterpolargl": [
           {
            "marker": {
             "colorbar": {
              "outlinewidth": 0,
              "ticks": ""
             }
            },
            "type": "scatterpolargl"
           }
          ],
          "scatterternary": [
           {
            "marker": {
             "colorbar": {
              "outlinewidth": 0,
              "ticks": ""
             }
            },
            "type": "scatterternary"
           }
          ],
          "surface": [
           {
            "colorbar": {
             "outlinewidth": 0,
             "ticks": ""
            },
            "colorscale": [
             [
              0,
              "#0d0887"
             ],
             [
              0.1111111111111111,
              "#46039f"
             ],
             [
              0.2222222222222222,
              "#7201a8"
             ],
             [
              0.3333333333333333,
              "#9c179e"
             ],
             [
              0.4444444444444444,
              "#bd3786"
             ],
             [
              0.5555555555555556,
              "#d8576b"
             ],
             [
              0.6666666666666666,
              "#ed7953"
             ],
             [
              0.7777777777777778,
              "#fb9f3a"
             ],
             [
              0.8888888888888888,
              "#fdca26"
             ],
             [
              1,
              "#f0f921"
             ]
            ],
            "type": "surface"
           }
          ],
          "table": [
           {
            "cells": {
             "fill": {
              "color": "#EBF0F8"
             },
             "line": {
              "color": "white"
             }
            },
            "header": {
             "fill": {
              "color": "#C8D4E3"
             },
             "line": {
              "color": "white"
             }
            },
            "type": "table"
           }
          ]
         },
         "layout": {
          "annotationdefaults": {
           "arrowcolor": "#2a3f5f",
           "arrowhead": 0,
           "arrowwidth": 1
          },
          "autotypenumbers": "strict",
          "coloraxis": {
           "colorbar": {
            "outlinewidth": 0,
            "ticks": ""
           }
          },
          "colorscale": {
           "diverging": [
            [
             0,
             "#8e0152"
            ],
            [
             0.1,
             "#c51b7d"
            ],
            [
             0.2,
             "#de77ae"
            ],
            [
             0.3,
             "#f1b6da"
            ],
            [
             0.4,
             "#fde0ef"
            ],
            [
             0.5,
             "#f7f7f7"
            ],
            [
             0.6,
             "#e6f5d0"
            ],
            [
             0.7,
             "#b8e186"
            ],
            [
             0.8,
             "#7fbc41"
            ],
            [
             0.9,
             "#4d9221"
            ],
            [
             1,
             "#276419"
            ]
           ],
           "sequential": [
            [
             0,
             "#0d0887"
            ],
            [
             0.1111111111111111,
             "#46039f"
            ],
            [
             0.2222222222222222,
             "#7201a8"
            ],
            [
             0.3333333333333333,
             "#9c179e"
            ],
            [
             0.4444444444444444,
             "#bd3786"
            ],
            [
             0.5555555555555556,
             "#d8576b"
            ],
            [
             0.6666666666666666,
             "#ed7953"
            ],
            [
             0.7777777777777778,
             "#fb9f3a"
            ],
            [
             0.8888888888888888,
             "#fdca26"
            ],
            [
             1,
             "#f0f921"
            ]
           ],
           "sequentialminus": [
            [
             0,
             "#0d0887"
            ],
            [
             0.1111111111111111,
             "#46039f"
            ],
            [
             0.2222222222222222,
             "#7201a8"
            ],
            [
             0.3333333333333333,
             "#9c179e"
            ],
            [
             0.4444444444444444,
             "#bd3786"
            ],
            [
             0.5555555555555556,
             "#d8576b"
            ],
            [
             0.6666666666666666,
             "#ed7953"
            ],
            [
             0.7777777777777778,
             "#fb9f3a"
            ],
            [
             0.8888888888888888,
             "#fdca26"
            ],
            [
             1,
             "#f0f921"
            ]
           ]
          },
          "colorway": [
           "#636efa",
           "#EF553B",
           "#00cc96",
           "#ab63fa",
           "#FFA15A",
           "#19d3f3",
           "#FF6692",
           "#B6E880",
           "#FF97FF",
           "#FECB52"
          ],
          "font": {
           "color": "#2a3f5f"
          },
          "geo": {
           "bgcolor": "white",
           "lakecolor": "white",
           "landcolor": "#E5ECF6",
           "showlakes": true,
           "showland": true,
           "subunitcolor": "white"
          },
          "hoverlabel": {
           "align": "left"
          },
          "hovermode": "closest",
          "mapbox": {
           "style": "light"
          },
          "paper_bgcolor": "white",
          "plot_bgcolor": "#E5ECF6",
          "polar": {
           "angularaxis": {
            "gridcolor": "white",
            "linecolor": "white",
            "ticks": ""
           },
           "bgcolor": "#E5ECF6",
           "radialaxis": {
            "gridcolor": "white",
            "linecolor": "white",
            "ticks": ""
           }
          },
          "scene": {
           "xaxis": {
            "backgroundcolor": "#E5ECF6",
            "gridcolor": "white",
            "gridwidth": 2,
            "linecolor": "white",
            "showbackground": true,
            "ticks": "",
            "zerolinecolor": "white"
           },
           "yaxis": {
            "backgroundcolor": "#E5ECF6",
            "gridcolor": "white",
            "gridwidth": 2,
            "linecolor": "white",
            "showbackground": true,
            "ticks": "",
            "zerolinecolor": "white"
           },
           "zaxis": {
            "backgroundcolor": "#E5ECF6",
            "gridcolor": "white",
            "gridwidth": 2,
            "linecolor": "white",
            "showbackground": true,
            "ticks": "",
            "zerolinecolor": "white"
           }
          },
          "shapedefaults": {
           "line": {
            "color": "#2a3f5f"
           }
          },
          "ternary": {
           "aaxis": {
            "gridcolor": "white",
            "linecolor": "white",
            "ticks": ""
           },
           "baxis": {
            "gridcolor": "white",
            "linecolor": "white",
            "ticks": ""
           },
           "bgcolor": "#E5ECF6",
           "caxis": {
            "gridcolor": "white",
            "linecolor": "white",
            "ticks": ""
           }
          },
          "title": {
           "x": 0.05
          },
          "xaxis": {
           "automargin": true,
           "gridcolor": "white",
           "linecolor": "white",
           "ticks": "",
           "title": {
            "standoff": 15
           },
           "zerolinecolor": "white",
           "zerolinewidth": 2
          },
          "yaxis": {
           "automargin": true,
           "gridcolor": "white",
           "linecolor": "white",
           "ticks": "",
           "title": {
            "standoff": 15
           },
           "zerolinecolor": "white",
           "zerolinewidth": 2
          }
         }
        },
        "xaxis": {
         "anchor": "y",
         "domain": [
          0,
          0.45
         ],
         "title": {
          "text": "Epochs"
         }
        },
        "xaxis2": {
         "anchor": "y2",
         "domain": [
          0.55,
          1
         ],
         "title": {
          "text": "Epochs"
         }
        },
        "yaxis": {
         "anchor": "x",
         "domain": [
          0,
          1
         ],
         "title": {
          "text": "Loss"
         }
        },
        "yaxis2": {
         "anchor": "x2",
         "domain": [
          0,
          1
         ],
         "title": {
          "text": "Loss"
         }
        }
       }
      }
     },
     "metadata": {},
     "output_type": "display_data"
    }
   ],
   "source": [
    "# investigate 32 vs 256 latent dim\n",
    "\n",
    "df_overall_32 = df_overall[df_overall[\"latent_dim\"] == \"32\"]\n",
    "df_overall_256 = df_overall[df_overall[\"latent_dim\"] == \"256\"]\n",
    "\n",
    "df_overall_32\n",
    "\n",
    "# plot train_loss, train_mse_loss and train_kld_loss in the same plot\n",
    "fig = px.line(df_overall_32, x=df_overall_32.index, y=[\"train_loss\", \"train_mse_loss\", \"train_kld_loss\"], title=\"32 Latent Dim Train Loss vs Epochs\", labels={\"value\": \"Loss\", \"variable\": \"Loss Type\"})\n",
    "fig.update_layout(\n",
    "    xaxis_title=\"Epochs\",\n",
    "    yaxis_title=\"Loss\",\n",
    ")\n",
    "fig.show()\n",
    "\n",
    "fig = make_subplots(rows=1, cols=2, subplot_titles=(\"Latent 32\", \"Latent 256\"))\n",
    "# plot train_loss, train_mse_loss and train_kld_loss in the same plot\n",
    "fig.add_trace(go.Scatter(x=df_overall_32.index, y=df_overall_32[\"train_loss\"], mode=\"lines\", name=\"train_loss\"), row=1, col=1)\n",
    "fig.add_trace(go.Scatter(x=df_overall_32.index, y=df_overall_32[\"train_mse_loss\"], mode=\"lines\", name=\"train_mse_loss\"), row=1, col=1)\n",
    "fig.add_trace(go.Scatter(x=df_overall_32.index, y=df_overall_32[\"train_kld_loss\"], mode=\"lines\", name=\"train_kld_loss\"), row=1, col=1)\n",
    "\n",
    "fig.add_trace(go.Scatter(x=df_overall_256.index, y=df_overall_256[\"train_loss\"], mode=\"lines\", name=\"train_loss\"), row=1, col=2)\n",
    "fig.add_trace(go.Scatter(x=df_overall_256.index, y=df_overall_256[\"train_mse_loss\"], mode=\"lines\", name=\"train_mse_loss\"), row=1, col=2)\n",
    "fig.add_trace(go.Scatter(x=df_overall_256.index, y=df_overall_256[\"train_kld_loss\"], mode=\"lines\", name=\"train_kld_loss\"), row=1, col=2)\n",
    "\n",
    "fig.update_layout(\n",
    "    xaxis_title=\"Epochs\",\n",
    "    yaxis_title=\"Loss\",\n",
    ")\n",
    "fig.update_xaxes(title_text=\"Epochs\", row=1, col=1)\n",
    "fig.update_xaxes(title_text=\"Epochs\", row=1, col=2)\n",
    "fig.update_yaxes(title_text=\"Loss\", row=1, col=1)\n",
    "fig.update_yaxes(title_text=\"Loss\", row=1, col=2)\n",
    "\n",
    "fig.show()\n",
    "\n",
    "# save the figure as png\n",
    "fig.write_image(FIGURE_DIR + \"32_vs_256_latent_dim_loss.png\")\n",
    "\n"
   ]
  },
  {
   "cell_type": "markdown",
   "metadata": {},
   "source": [
    "# Compare models reconstruction on some samples"
   ]
  },
  {
   "cell_type": "code",
   "execution_count": 122,
   "metadata": {},
   "outputs": [],
   "source": [
    "import torch\n",
    "from torch.utils.data import DataLoader\n",
    "from torchvision import transforms\n",
    "from dataset_tools import OwnDataset, make_train_test_val_split\n",
    "import matplotlib\n",
    "\n",
    "cuda = torch.cuda.is_available()"
   ]
  },
  {
   "cell_type": "code",
   "execution_count": 123,
   "metadata": {},
   "outputs": [
    {
     "name": "stdout",
     "output_type": "stream",
     "text": [
      "488396 4883 1526 1221\n"
     ]
    }
   ],
   "source": [
    "tf = transforms.Compose([\n",
    "    transforms.ToPILImage(),\n",
    "    transforms.ToTensor(),\n",
    "    # transforms.Lambda(lambda x: x.view(-1)) # notice that we dont flatten when we are going to use CNN\n",
    "])\n",
    "\n",
    "# dataset = OwnDataset(transform=tf)\n",
    "dataset = OwnDataset(transform=tf, path=r\"C:\\Users\\Otto\\Desktop\\Fagprojekt_data\\labelled_data\")\n",
    "\n",
    "batch_size = 64\n",
    "train_subset, test_subset, val_subset = make_train_test_val_split(dataset)\n",
    "\n",
    "\n",
    "train_loader = DataLoader(train_subset, batch_size=batch_size, shuffle=True, pin_memory=cuda, drop_last=True)\n",
    "test_loader = DataLoader(test_subset, batch_size=batch_size, shuffle=True, pin_memory=cuda, drop_last=True)\n",
    "val_loader = DataLoader(val_subset, batch_size=batch_size, shuffle=True, pin_memory=cuda, drop_last=True)\n",
    "\n",
    "print(len(dataset), len(train_loader), len(test_loader), len(val_loader))\n",
    "\n"
   ]
  },
  {
   "cell_type": "markdown",
   "metadata": {},
   "source": [
    "## Load the models we want to compare"
   ]
  },
  {
   "cell_type": "code",
   "execution_count": 124,
   "metadata": {},
   "outputs": [
    {
     "data": {
      "text/plain": [
       "<All keys matched successfully>"
      ]
     },
     "execution_count": 124,
     "metadata": {},
     "output_type": "execute_result"
    }
   ],
   "source": [
    "# there are 3 different unsupervised models to choose from on the cell dataset\n",
    "from models import VAE_CELL_CNN, VAE_LAFARGE, CELL_CNN_AutoEncoder\n",
    "from loss_functions import loss_function\n",
    "# import mse loss\n",
    "\n",
    "\n",
    "# now we load the saved models into the model class\n",
    "MODEL_DIR = \"trained_models/\"\n",
    "\n",
    "\n",
    "# latent size 2\n",
    "vae_cnn_own_2 = VAE_CELL_CNN(input_dim=(3,68,68), hidden_dim=4, latent_dim=2)\n",
    "vae_cnn_own_2.load_state_dict(torch.load(MODEL_DIR + f\"{vae_cnn_own_2.__class__.__name__}_latent{vae_cnn_own_2.latent_dim}_mean_best_model.pth\"))\n",
    "\n",
    "# latent size 8\n",
    "vae_cnn_own_8 = VAE_CELL_CNN(input_dim=(3,68,68), hidden_dim=16, latent_dim=8)\n",
    "vae_cnn_own_8.load_state_dict(torch.load(MODEL_DIR + f\"{vae_cnn_own_8.__class__.__name__}_latent{vae_cnn_own_8.latent_dim}_mean_best_model.pth\"))\n",
    "\n",
    "# latent size 16\n",
    "vae_cnn_own_16 = VAE_CELL_CNN(input_dim=(3,68,68), hidden_dim=32, latent_dim=16)\n",
    "vae_cnn_own_16.load_state_dict(torch.load(MODEL_DIR + f\"{vae_cnn_own_16.__class__.__name__}_latent{vae_cnn_own_16.latent_dim}_mean_best_model.pth\"))\n",
    "\n",
    "# latent size 32\n",
    "vae_cnn_own_32 = VAE_CELL_CNN(input_dim=(3,68,68), hidden_dim=64, latent_dim=32)\n",
    "vae_cnn_own_32.load_state_dict(torch.load(MODEL_DIR + f\"{vae_cnn_own_32.__class__.__name__}_latent{vae_cnn_own_32.latent_dim}_mean_best_model.pth\"))\n",
    "\n",
    "# latent size 64\n",
    "vae_cnn_own_64 = VAE_CELL_CNN(input_dim=(3,68,68), hidden_dim=128, latent_dim=64)\n",
    "vae_cnn_own_64.load_state_dict(torch.load(MODEL_DIR + f\"{vae_cnn_own_64.__class__.__name__}_latent{vae_cnn_own_64.latent_dim}_mean_best_model.pth\"))\n",
    "\n",
    "# latent size 128\n",
    "vae_cnn_own_128 = VAE_CELL_CNN(input_dim=(3,68,68), hidden_dim=256, latent_dim=128)\n",
    "vae_cnn_own_128.load_state_dict(torch.load(MODEL_DIR + f\"{vae_cnn_own_128.__class__.__name__}_latent{vae_cnn_own_128.latent_dim}_mean_best_model.pth\"))\n",
    "\n",
    "\n",
    "# latent size 25\n",
    "vae_cnn_own_256 = VAE_CELL_CNN(input_dim=(3,68,68), hidden_dim=512, latent_dim=256)\n",
    "vae_cnn_own_256.load_state_dict(torch.load(MODEL_DIR + f\"{vae_cnn_own_256.__class__.__name__}_latent{vae_cnn_own_256.latent_dim}_mean_best_model.pth\"))\n",
    "# vae_lafarge = VAE_LAFARGE(input_dim=(3,68,68), hidden_dim=512, latent_dim=256)\n",
    "# vae_lafarge.load_state_dict(torch.load(MODEL_DIR + f\"{vae_lafarge.__class__.__name__}_latent{vae_lafarge.latent_dim}_best_model.pth\"))\n",
    "\n",
    "ae_cnn_own = CELL_CNN_AutoEncoder(latent_dim=256)\n",
    "ae_cnn_own.load_state_dict(torch.load(MODEL_DIR + f\"{ae_cnn_own.__class__.__name__}_latent{ae_cnn_own.latent_dim}_mean_best_model.pth\"))\n",
    "\n",
    "\n",
    "vae_cnn_own_b0 = VAE_CELL_CNN(input_dim=(3,68,68), hidden_dim=512, latent_dim=256)\n",
    "vae_cnn_own_b0.load_state_dict(torch.load(MODEL_DIR + f\"{vae_cnn_own_b0.__class__.__name__}_latent{vae_cnn_own_b0.latent_dim}_b0_best_model.pth\"))\n",
    "\n",
    "\n",
    "\n",
    "\n",
    "# models = [vae_cnn_own]\n",
    "# models = [vae_cnn_own_2, vae_cnn_own_64, vae_cnn_own_256, vae_cnn_own_b0, ae_cnn_own]\n",
    "# models = [ae_cnn_own]\n",
    "\n"
   ]
  },
  {
   "cell_type": "markdown",
   "metadata": {},
   "source": [
    "## Evaluate performance on test set given by the loss"
   ]
  },
  {
   "cell_type": "code",
   "execution_count": 167,
   "metadata": {},
   "outputs": [
    {
     "name": "stdout",
     "output_type": "stream",
     "text": [
      "random image number: 230635\n"
     ]
    },
    {
     "data": {
      "image/png": "[encoded data removed]",
      "text/plain": [
       "<Figure size 2000x1000 with 6 Axes>"
      ]
     },
     "metadata": {},
     "output_type": "display_data"
    }
   ],
   "source": [
    "models = [vae_cnn_own_2, vae_cnn_own_64, vae_cnn_own_256, vae_cnn_own_b0, ae_cnn_own]\n",
    "\n",
    "# Given an input image, create a reconstruction of the image using each model\n",
    "def get_name(model):\n",
    "    return model.__class__.__name__ + f\"_{model.latent_dim}\"\n",
    "\n",
    "\n",
    "def reconstruct_image(model, image):\n",
    "    with torch.no_grad():\n",
    "        model.eval()\n",
    "        image = image.unsqueeze(0)\n",
    "        output = model(image)\n",
    "        if isinstance(output, dict):\n",
    "            x_hat = output[\"x_hat\"]\n",
    "        else:\n",
    "            x_hat = output\n",
    "        return x_hat.squeeze(0)\n",
    "    \n",
    "x, y = next(iter(train_loader))\n",
    "\n",
    "\n",
    "# plot the original image and the reconstructed image\n",
    "# reconstruct_image(vae_cnn_own, x[0]).shape\n",
    "reconstruct_image(ae_cnn_own, x[0]).shape\n",
    "\n",
    "\n",
    "\n",
    "\n",
    "def plot_reconstructions(models, image, save=False):\n",
    "    fig, ax = plt.subplots(1, len(models)+1, figsize=(20, 5))\n",
    "    ax[0].imshow(image.permute(1, 2, 0))\n",
    "    ax[0].set_title(\"Original Image\")\n",
    "    ax[0].set_axis_off()\n",
    "    for i, model in enumerate(models):\n",
    "        x_hat = reconstruct_image(model, image)\n",
    "        ax[i+1].imshow(x_hat.permute(1, 2, 0))\n",
    "        ax[i+1].set_title(get_name(model))\n",
    "        ax[i+1].set_axis_off()\n",
    "    plt.axis(\"off\")\n",
    "    if save:\n",
    "        plt.savefig(FIGURE_DIR + \"reconstruction_comparison.png\")\n",
    "    plt.show()\n",
    "\n",
    "\n",
    "# plot reconstructions with 2 rows\n",
    "def plot_reconstructions_2rows(models, image, save=False):\n",
    "    fig, ax = plt.subplots(2, (len(models)+1)//2, figsize=(20, 10))\n",
    "    ax[0, 0].imshow(image.permute(1, 2, 0))\n",
    "    ax[0, 0].set_title(\"Original Image\", fontsize=20)\n",
    "    ax[0, 0].set_axis_off()\n",
    "    for i, model in enumerate(models, 1):\n",
    "        x_hat = reconstruct_image(model, image)\n",
    "        ax[i//3, i%3].imshow(x_hat.permute(1, 2, 0))\n",
    "        ax[i//3, i%3].set_title(get_name(model), fontsize=20)\n",
    "        ax[i//3, i%3].set_axis_off()\n",
    "\n",
    "    plt.axis(\"off\")\n",
    "    if save:\n",
    "        plt.tight_layout()\n",
    "        plt.savefig(FIGURE_DIR + \"reconstruction_comparison.png\")\n",
    "    plt.show()\n",
    "\n",
    "\n",
    "\n",
    "random_image_id = np.random.randint(0, len(dataset))\n",
    "print(f\"random image number: {random_image_id}\")\n",
    "plot_reconstructions_2rows(models, dataset[random_image_id][0], save=True)\n",
    "\n",
    "# this is just for use to later get some images\n",
    "numbers = []\n"
   ]
  },
  {
   "cell_type": "markdown",
   "metadata": {},
   "source": [
    "# Classification data analysis"
   ]
  },
  {
   "cell_type": "markdown",
   "metadata": {},
   "source": [
    "## Gather all the train and test accuracies in joint table"
   ]
  },
  {
   "cell_type": "code",
   "execution_count": 218,
   "metadata": {},
   "outputs": [],
   "source": [
    "\n",
    "filenames = [\"LatentClassifier_2_latent2_mean_data.csv\", 'LatentClassifier_2_latent256_mean_data.csv', \"CELL_CNN_CLASSIFIER_data.csv\"]\n",
    "\n",
    "dfs = [pd.read_csv(TRAIN_DATA_DIR + filename) for filename in filenames]"
   ]
  },
  {
   "cell_type": "code",
   "execution_count": 219,
   "metadata": {},
   "outputs": [
    {
     "name": "stderr",
     "output_type": "stream",
     "text": [
      "C:\\Users\\Otto\\AppData\\Local\\Temp\\ipykernel_19236\\702757164.py:13: FutureWarning:\n",
      "\n",
      "The behavior of DataFrame concatenation with empty or all-NA entries is deprecated. In a future version, this will no longer exclude empty or all-NA columns when determining the result dtypes. To retain the old behavior, exclude the relevant entries before the concat operation.\n",
      "\n"
     ]
    }
   ],
   "source": [
    "def extract_latent_dim(filename):\n",
    "    try:\n",
    "        return filename.split(\"_\")[2].split(\"latent\")[1]\n",
    "    except IndexError:\n",
    "        return 0\n",
    "\n",
    "# combine all the dataframes\n",
    "df_overall = pd.DataFrame(columns=[\"latent_dim\"] + dfs[0].columns.tolist())\n",
    "\n",
    "for filename, df in zip(filenames, dfs):\n",
    "    latent_dim = extract_latent_dim(filename)\n",
    "    df[\"latent_dim\"] = latent_dim\n",
    "    df_overall = pd.concat([df_overall, df])\n"
   ]
  },
  {
   "cell_type": "code",
   "execution_count": 220,
   "metadata": {},
   "outputs": [],
   "source": [
    "# filenames[0].split(\"_\")[2].split(\"latent\")[1]\n",
    "\n",
    "# extract_latent_dim(filenames[1])\n"
   ]
  },
  {
   "cell_type": "code",
   "execution_count": 224,
   "metadata": {},
   "outputs": [
    {
     "data": {
      "application/vnd.plotly.v1+json": {
       "config": {
        "plotlyServerURL": "https://plot.ly"
       },
       "data": [
        {
         "hovertemplate": "latent_dim=2<br>index=%{x}<br>train_accuracy=%{y}<extra></extra>",
         "legendgroup": "2",
         "line": {
          "color": "#636efa",
          "dash": "solid"
         },
         "marker": {
          "symbol": "circle"
         },
         "mode": "lines",
         "name": "2",
         "orientation": "v",
         "showlegend": true,
         "type": "scatter",
         "x": [
          0,
          1,
          2,
          3,
          4,
          5,
          6,
          7,
          8,
          9,
          10,
          11,
          12,
          13,
          14,
          15,
          16,
          17,
          18,
          19,
          20,
          21,
          22,
          23,
          24,
          25,
          26,
          27,
          28,
          29,
          30,
          31,
          32,
          33,
          34,
          35,
          36,
          37,
          38,
          39,
          40,
          41,
          42,
          43,
          44,
          45,
          46,
          47,
          48,
          49
         ],
         "xaxis": "x",
         "y": [
          0.61127341830955,
          0.6260233244673333,
          0.6347153972251605,
          0.6416798901304078,
          0.6429199085530446,
          0.6437041444870217,
          0.6435292536952669,
          0.6442868294504018,
          0.6444380460070548,
          0.6444561749355018,
          0.6449445894782803,
          0.6448970277176638,
          0.6453890680510133,
          0.6450708521061701,
          0.645189863165122,
          0.6451111623100527,
          0.6448530917354142,
          0.6453511039562444,
          0.6451280115448383,
          0.645551588523593,
          0.6454210602705055,
          0.6455125580255757,
          0.6454679821964955,
          0.6455936049775546,
          0.6456166393780298,
          0.6456814769420538,
          0.6455889127837352,
          0.6456100276437184,
          0.6455093588036265,
          0.6455863534086167,
          0.6453321219027579,
          0.6455125580255757,
          0.645709843370975,
          0.6452393444662305,
          0.6455950979494248,
          0.6456731589576634,
          0.6458390919426051,
          0.645535379135638,
          0.6453485445689218,
          0.6455886995055263,
          0.6455837940334981,
          0.6457964356418129,
          0.6457791598506095,
          0.6456059752967297,
          0.6454716079748624,
          0.6458000614323839,
          0.6461393922372103,
          0.6455567072860341,
          0.6455018939442756,
          0.6461174242521875
         ],
         "yaxis": "y"
        },
        {
         "hovertemplate": "latent_dim=256<br>index=%{x}<br>train_accuracy=%{y}<extra></extra>",
         "legendgroup": "256",
         "line": {
          "color": "#EF553B",
          "dash": "solid"
         },
         "marker": {
          "symbol": "circle"
         },
         "mode": "lines",
         "name": "256",
         "orientation": "v",
         "showlegend": true,
         "type": "scatter",
         "x": [
          0,
          1,
          2,
          3,
          4,
          5,
          6,
          7,
          8,
          9,
          10,
          11,
          12,
          13,
          14,
          15,
          16,
          17,
          18,
          19,
          20,
          21,
          22,
          23,
          24,
          25,
          26,
          27,
          28,
          29,
          30,
          31,
          32,
          33,
          34,
          35,
          36,
          37,
          38,
          39,
          40,
          41,
          42,
          43,
          44,
          45,
          46,
          47,
          48,
          49
         ],
         "xaxis": "x",
         "y": [
          0.6727323914945955,
          0.7002689479365883,
          0.704562730348862,
          0.7079626501558454,
          0.7098845294222883,
          0.7123728842519522,
          0.7131743960015409,
          0.7145989028817801,
          0.7153050778075186,
          0.7170300982849799,
          0.7171983773668315,
          0.718471241134,
          0.7189829033676666,
          0.7194107459838228,
          0.7194926460608413,
          0.720479286114863,
          0.721009930389812,
          0.7214827754036702,
          0.7225120717340762,
          0.7224485138637134,
          0.7221757268729901,
          0.7229360752814525,
          0.7233922843387339,
          0.7237629675162219,
          0.7246182261921167,
          0.7245553081563806,
          0.7248202037313354,
          0.7245919925696922,
          0.7256189428153924,
          0.7262845942590395,
          0.7252320502377455,
          0.7257309155836152,
          0.7267798338143382,
          0.7262466301642706,
          0.7265765765814582,
          0.7271291888536341,
          0.7268350737247186,
          0.7277690332434784,
          0.727825552835316,
          0.7286686544580405,
          0.727915770896725,
          0.728500588666602,
          0.7280422468028237,
          0.7284378839212787,
          0.7289542383365608,
          0.728968314918019,
          0.7279639725041721,
          0.7291195314746719,
          0.7289011312570853,
          0.729540335800099
         ],
         "yaxis": "y"
        },
        {
         "hovertemplate": "latent_dim=0<br>index=%{x}<br>train_accuracy=%{y}<extra></extra>",
         "legendgroup": "0",
         "line": {
          "color": "#00cc96",
          "dash": "solid"
         },
         "marker": {
          "symbol": "circle"
         },
         "mode": "lines",
         "name": "0",
         "orientation": "v",
         "showlegend": true,
         "type": "scatter",
         "x": [
          0,
          1,
          2,
          3,
          4,
          5,
          6,
          7,
          8,
          9,
          10,
          11,
          12,
          13,
          14,
          15,
          16,
          17,
          18,
          19,
          20,
          21,
          22,
          23,
          24,
          25,
          26,
          27,
          28,
          29,
          30,
          31,
          32,
          33,
          34,
          35,
          36,
          37,
          38,
          39,
          40,
          41,
          42,
          43,
          44,
          45,
          46,
          47,
          48,
          49
         ],
         "xaxis": "x",
         "y": [
          0.7462995666120665,
          0.7986264673764674,
          0.8221966284466284,
          0.8424238158613159,
          0.8634241485803986,
          0.8831471386158886,
          0.90204153016653,
          0.9169985326235326,
          0.9278558387933388,
          0.9382703726453726,
          0.944438685844936,
          0.9503506347256346,
          0.9542317175129676,
          0.9579583845208844,
          0.9609110530985532,
          0.963407086063336,
          0.9648531343843844,
          0.9668428371553373,
          0.968208904927655,
          0.9693800334425337,
          0.9699364847802348,
          0.9714940793065792,
          0.9659570792383292,
          0.9736377712940212,
          0.9730619113431612,
          0.9739992833742832,
          0.9746973536036035,
          0.9748632865820368,
          0.9759951713076712,
          0.976078990922741,
          0.9728610002047502,
          0.9722749027436528,
          0.9780140936390936,
          0.9773138905951408,
          0.977902973996724,
          0.9748184974747476,
          0.9793935981435982,
          0.9775860377422878,
          0.9793296137046138,
          0.9790608790608792,
          0.978922885954136,
          0.9799788424788426,
          0.9743002235189736,
          0.9796113585176084,
          0.9801006261943762,
          0.9800298167485668,
          0.9804523273273276,
          0.9815274791837292,
          0.9802027880152882,
          0.9799918526481028
         ],
         "yaxis": "y"
        }
       ],
       "layout": {
        "annotations": [
         {
          "showarrow": false,
          "text": "test_accuracy 2",
          "x": 1,
          "xanchor": "right",
          "xref": "x domain",
          "y": 0.6481868041912247,
          "yanchor": "top",
          "yref": "y"
         },
         {
          "showarrow": false,
          "text": "test_accuracy 256",
          "x": 1,
          "xanchor": "right",
          "xref": "x domain",
          "y": 0.7269666830386379,
          "yanchor": "top",
          "yref": "y"
         },
         {
          "showarrow": false,
          "text": "test_accuracy 0",
          "x": 1,
          "xanchor": "right",
          "xref": "x domain",
          "y": 0.7880239030779306,
          "yanchor": "top",
          "yref": "y"
         }
        ],
        "legend": {
         "title": {
          "text": "latent_dim"
         },
         "tracegroupgap": 0
        },
        "margin": {
         "t": 60
        },
        "shapes": [
         {
          "line": {
           "dash": "dot"
          },
          "type": "line",
          "x0": 0,
          "x1": 1,
          "xref": "x domain",
          "y0": 0.6481868041912247,
          "y1": 0.6481868041912247,
          "yref": "y"
         },
         {
          "line": {
           "dash": "dot"
          },
          "type": "line",
          "x0": 0,
          "x1": 1,
          "xref": "x domain",
          "y0": 0.7269666830386379,
          "y1": 0.7269666830386379,
          "yref": "y"
         },
         {
          "line": {
           "dash": "dot"
          },
          "type": "line",
          "x0": 0,
          "x1": 1,
          "xref": "x domain",
          "y0": 0.7880239030779306,
          "y1": 0.7880239030779306,
          "yref": "y"
         }
        ],
        "template": {
         "data": {
          "bar": [
           {
            "error_x": {
             "color": "#2a3f5f"
            },
            "error_y": {
             "color": "#2a3f5f"
            },
            "marker": {
             "line": {
              "color": "#E5ECF6",
              "width": 0.5
             },
             "pattern": {
              "fillmode": "overlay",
              "size": 10,
              "solidity": 0.2
             }
            },
            "type": "bar"
           }
          ],
          "barpolar": [
           {
            "marker": {
             "line": {
              "color": "#E5ECF6",
              "width": 0.5
             },
             "pattern": {
              "fillmode": "overlay",
              "size": 10,
              "solidity": 0.2
             }
            },
            "type": "barpolar"
           }
          ],
          "carpet": [
           {
            "aaxis": {
             "endlinecolor": "#2a3f5f",
             "gridcolor": "white",
             "linecolor": "white",
             "minorgridcolor": "white",
             "startlinecolor": "#2a3f5f"
            },
            "baxis": {
             "endlinecolor": "#2a3f5f",
             "gridcolor": "white",
             "linecolor": "white",
             "minorgridcolor": "white",
             "startlinecolor": "#2a3f5f"
            },
            "type": "carpet"
           }
          ],
          "choropleth": [
           {
            "colorbar": {
             "outlinewidth": 0,
             "ticks": ""
            },
            "type": "choropleth"
           }
          ],
          "contour": [
           {
            "colorbar": {
             "outlinewidth": 0,
             "ticks": ""
            },
            "colorscale": [
             [
              0,
              "#0d0887"
             ],
             [
              0.1111111111111111,
              "#46039f"
             ],
             [
              0.2222222222222222,
              "#7201a8"
             ],
             [
              0.3333333333333333,
              "#9c179e"
             ],
             [
              0.4444444444444444,
              "#bd3786"
             ],
             [
              0.5555555555555556,
              "#d8576b"
             ],
             [
              0.6666666666666666,
              "#ed7953"
             ],
             [
              0.7777777777777778,
              "#fb9f3a"
             ],
             [
              0.8888888888888888,
              "#fdca26"
             ],
             [
              1,
              "#f0f921"
             ]
            ],
            "type": "contour"
           }
          ],
          "contourcarpet": [
           {
            "colorbar": {
             "outlinewidth": 0,
             "ticks": ""
            },
            "type": "contourcarpet"
           }
          ],
          "heatmap": [
           {
            "colorbar": {
             "outlinewidth": 0,
             "ticks": ""
            },
            "colorscale": [
             [
              0,
              "#0d0887"
             ],
             [
              0.1111111111111111,
              "#46039f"
             ],
             [
              0.2222222222222222,
              "#7201a8"
             ],
             [
              0.3333333333333333,
              "#9c179e"
             ],
             [
              0.4444444444444444,
              "#bd3786"
             ],
             [
              0.5555555555555556,
              "#d8576b"
             ],
             [
              0.6666666666666666,
              "#ed7953"
             ],
             [
              0.7777777777777778,
              "#fb9f3a"
             ],
             [
              0.8888888888888888,
              "#fdca26"
             ],
             [
              1,
              "#f0f921"
             ]
            ],
            "type": "heatmap"
           }
          ],
          "heatmapgl": [
           {
            "colorbar": {
             "outlinewidth": 0,
             "ticks": ""
            },
            "colorscale": [
             [
              0,
              "#0d0887"
             ],
             [
              0.1111111111111111,
              "#46039f"
             ],
             [
              0.2222222222222222,
              "#7201a8"
             ],
             [
              0.3333333333333333,
              "#9c179e"
             ],
             [
              0.4444444444444444,
              "#bd3786"
             ],
             [
              0.5555555555555556,
              "#d8576b"
             ],
             [
              0.6666666666666666,
              "#ed7953"
             ],
             [
              0.7777777777777778,
              "#fb9f3a"
             ],
             [
              0.8888888888888888,
              "#fdca26"
             ],
             [
              1,
              "#f0f921"
             ]
            ],
            "type": "heatmapgl"
           }
          ],
          "histogram": [
           {
            "marker": {
             "pattern": {
              "fillmode": "overlay",
              "size": 10,
              "solidity": 0.2
             }
            },
            "type": "histogram"
           }
          ],
          "histogram2d": [
           {
            "colorbar": {
             "outlinewidth": 0,
             "ticks": ""
            },
            "colorscale": [
             [
              0,
              "#0d0887"
             ],
             [
              0.1111111111111111,
              "#46039f"
             ],
             [
              0.2222222222222222,
              "#7201a8"
             ],
             [
              0.3333333333333333,
              "#9c179e"
             ],
             [
              0.4444444444444444,
              "#bd3786"
             ],
             [
              0.5555555555555556,
              "#d8576b"
             ],
             [
              0.6666666666666666,
              "#ed7953"
             ],
             [
              0.7777777777777778,
              "#fb9f3a"
             ],
             [
              0.8888888888888888,
              "#fdca26"
             ],
             [
              1,
              "#f0f921"
             ]
            ],
            "type": "histogram2d"
           }
          ],
          "histogram2dcontour": [
           {
            "colorbar": {
             "outlinewidth": 0,
             "ticks": ""
            },
            "colorscale": [
             [
              0,
              "#0d0887"
             ],
             [
              0.1111111111111111,
              "#46039f"
             ],
             [
              0.2222222222222222,
              "#7201a8"
             ],
             [
              0.3333333333333333,
              "#9c179e"
             ],
             [
              0.4444444444444444,
              "#bd3786"
             ],
             [
              0.5555555555555556,
              "#d8576b"
             ],
             [
              0.6666666666666666,
              "#ed7953"
             ],
             [
              0.7777777777777778,
              "#fb9f3a"
             ],
             [
              0.8888888888888888,
              "#fdca26"
             ],
             [
              1,
              "#f0f921"
             ]
            ],
            "type": "histogram2dcontour"
           }
          ],
          "mesh3d": [
           {
            "colorbar": {
             "outlinewidth": 0,
             "ticks": ""
            },
            "type": "mesh3d"
           }
          ],
          "parcoords": [
           {
            "line": {
             "colorbar": {
              "outlinewidth": 0,
              "ticks": ""
             }
            },
            "type": "parcoords"
           }
          ],
          "pie": [
           {
            "automargin": true,
            "type": "pie"
           }
          ],
          "scatter": [
           {
            "fillpattern": {
             "fillmode": "overlay",
             "size": 10,
             "solidity": 0.2
            },
            "type": "scatter"
           }
          ],
          "scatter3d": [
           {
            "line": {
             "colorbar": {
              "outlinewidth": 0,
              "ticks": ""
             }
            },
            "marker": {
             "colorbar": {
              "outlinewidth": 0,
              "ticks": ""
             }
            },
            "type": "scatter3d"
           }
          ],
          "scattercarpet": [
           {
            "marker": {
             "colorbar": {
              "outlinewidth": 0,
              "ticks": ""
             }
            },
            "type": "scattercarpet"
           }
          ],
          "scattergeo": [
           {
            "marker": {
             "colorbar": {
              "outlinewidth": 0,
              "ticks": ""
             }
            },
            "type": "scattergeo"
           }
          ],
          "scattergl": [
           {
            "marker": {
             "colorbar": {
              "outlinewidth": 0,
              "ticks": ""
             }
            },
            "type": "scattergl"
           }
          ],
          "scattermapbox": [
           {
            "marker": {
             "colorbar": {
              "outlinewidth": 0,
              "ticks": ""
             }
            },
            "type": "scattermapbox"
           }
          ],
          "scatterpolar": [
           {
            "marker": {
             "colorbar": {
              "outlinewidth": 0,
              "ticks": ""
             }
            },
            "type": "scatterpolar"
           }
          ],
          "scatterpolargl": [
           {
            "marker": {
             "colorbar": {
              "outlinewidth": 0,
              "ticks": ""
             }
            },
            "type": "scatterpolargl"
           }
          ],
          "scatterternary": [
           {
            "marker": {
             "colorbar": {
              "outlinewidth": 0,
              "ticks": ""
             }
            },
            "type": "scatterternary"
           }
          ],
          "surface": [
           {
            "colorbar": {
             "outlinewidth": 0,
             "ticks": ""
            },
            "colorscale": [
             [
              0,
              "#0d0887"
             ],
             [
              0.1111111111111111,
              "#46039f"
             ],
             [
              0.2222222222222222,
              "#7201a8"
             ],
             [
              0.3333333333333333,
              "#9c179e"
             ],
             [
              0.4444444444444444,
              "#bd3786"
             ],
             [
              0.5555555555555556,
              "#d8576b"
             ],
             [
              0.6666666666666666,
              "#ed7953"
             ],
             [
              0.7777777777777778,
              "#fb9f3a"
             ],
             [
              0.8888888888888888,
              "#fdca26"
             ],
             [
              1,
              "#f0f921"
             ]
            ],
            "type": "surface"
           }
          ],
          "table": [
           {
            "cells": {
             "fill": {
              "color": "#EBF0F8"
             },
             "line": {
              "color": "white"
             }
            },
            "header": {
             "fill": {
              "color": "#C8D4E3"
             },
             "line": {
              "color": "white"
             }
            },
            "type": "table"
           }
          ]
         },
         "layout": {
          "annotationdefaults": {
           "arrowcolor": "#2a3f5f",
           "arrowhead": 0,
           "arrowwidth": 1
          },
          "autotypenumbers": "strict",
          "coloraxis": {
           "colorbar": {
            "outlinewidth": 0,
            "ticks": ""
           }
          },
          "colorscale": {
           "diverging": [
            [
             0,
             "#8e0152"
            ],
            [
             0.1,
             "#c51b7d"
            ],
            [
             0.2,
             "#de77ae"
            ],
            [
             0.3,
             "#f1b6da"
            ],
            [
             0.4,
             "#fde0ef"
            ],
            [
             0.5,
             "#f7f7f7"
            ],
            [
             0.6,
             "#e6f5d0"
            ],
            [
             0.7,
             "#b8e186"
            ],
            [
             0.8,
             "#7fbc41"
            ],
            [
             0.9,
             "#4d9221"
            ],
            [
             1,
             "#276419"
            ]
           ],
           "sequential": [
            [
             0,
             "#0d0887"
            ],
            [
             0.1111111111111111,
             "#46039f"
            ],
            [
             0.2222222222222222,
             "#7201a8"
            ],
            [
             0.3333333333333333,
             "#9c179e"
            ],
            [
             0.4444444444444444,
             "#bd3786"
            ],
            [
             0.5555555555555556,
             "#d8576b"
            ],
            [
             0.6666666666666666,
             "#ed7953"
            ],
            [
             0.7777777777777778,
             "#fb9f3a"
            ],
            [
             0.8888888888888888,
             "#fdca26"
            ],
            [
             1,
             "#f0f921"
            ]
           ],
           "sequentialminus": [
            [
             0,
             "#0d0887"
            ],
            [
             0.1111111111111111,
             "#46039f"
            ],
            [
             0.2222222222222222,
             "#7201a8"
            ],
            [
             0.3333333333333333,
             "#9c179e"
            ],
            [
             0.4444444444444444,
             "#bd3786"
            ],
            [
             0.5555555555555556,
             "#d8576b"
            ],
            [
             0.6666666666666666,
             "#ed7953"
            ],
            [
             0.7777777777777778,
             "#fb9f3a"
            ],
            [
             0.8888888888888888,
             "#fdca26"
            ],
            [
             1,
             "#f0f921"
            ]
           ]
          },
          "colorway": [
           "#636efa",
           "#EF553B",
           "#00cc96",
           "#ab63fa",
           "#FFA15A",
           "#19d3f3",
           "#FF6692",
           "#B6E880",
           "#FF97FF",
           "#FECB52"
          ],
          "font": {
           "color": "#2a3f5f"
          },
          "geo": {
           "bgcolor": "white",
           "lakecolor": "white",
           "landcolor": "#E5ECF6",
           "showlakes": true,
           "showland": true,
           "subunitcolor": "white"
          },
          "hoverlabel": {
           "align": "left"
          },
          "hovermode": "closest",
          "mapbox": {
           "style": "light"
          },
          "paper_bgcolor": "white",
          "plot_bgcolor": "#E5ECF6",
          "polar": {
           "angularaxis": {
            "gridcolor": "white",
            "linecolor": "white",
            "ticks": ""
           },
           "bgcolor": "#E5ECF6",
           "radialaxis": {
            "gridcolor": "white",
            "linecolor": "white",
            "ticks": ""
           }
          },
          "scene": {
           "xaxis": {
            "backgroundcolor": "#E5ECF6",
            "gridcolor": "white",
            "gridwidth": 2,
            "linecolor": "white",
            "showbackground": true,
            "ticks": "",
            "zerolinecolor": "white"
           },
           "yaxis": {
            "backgroundcolor": "#E5ECF6",
            "gridcolor": "white",
            "gridwidth": 2,
            "linecolor": "white",
            "showbackground": true,
            "ticks": "",
            "zerolinecolor": "white"
           },
           "zaxis": {
            "backgroundcolor": "#E5ECF6",
            "gridcolor": "white",
            "gridwidth": 2,
            "linecolor": "white",
            "showbackground": true,
            "ticks": "",
            "zerolinecolor": "white"
           }
          },
          "shapedefaults": {
           "line": {
            "color": "#2a3f5f"
           }
          },
          "ternary": {
           "aaxis": {
            "gridcolor": "white",
            "linecolor": "white",
            "ticks": ""
           },
           "baxis": {
            "gridcolor": "white",
            "linecolor": "white",
            "ticks": ""
           },
           "bgcolor": "#E5ECF6",
           "caxis": {
            "gridcolor": "white",
            "linecolor": "white",
            "ticks": ""
           }
          },
          "title": {
           "x": 0.05
          },
          "xaxis": {
           "automargin": true,
           "gridcolor": "white",
           "linecolor": "white",
           "ticks": "",
           "title": {
            "standoff": 15
           },
           "zerolinecolor": "white",
           "zerolinewidth": 2
          },
          "yaxis": {
           "automargin": true,
           "gridcolor": "white",
           "linecolor": "white",
           "ticks": "",
           "title": {
            "standoff": 15
           },
           "zerolinecolor": "white",
           "zerolinewidth": 2
          }
         }
        },
        "title": {
         "text": "Training Accuracy vs Epochs"
        },
        "xaxis": {
         "anchor": "y",
         "domain": [
          0,
          1
         ],
         "title": {
          "text": "Epochs"
         }
        },
        "yaxis": {
         "anchor": "x",
         "domain": [
          0,
          1
         ],
         "title": {
          "text": "Accuracy"
         }
        }
       }
      }
     },
     "metadata": {},
     "output_type": "display_data"
    }
   ],
   "source": [
    "df_overall\n",
    "df_last = df_overall.groupby(\"latent_dim\", dropna=False).tail(1)\n",
    "df_last\n",
    "\n",
    "# train accuracies with test accuracies as horizontal lines\n",
    "fig = px.line(df_overall, x=df_overall.index, y=\"train_accuracy\", color=\"latent_dim\")\n",
    "fig.add_hline(y=df_last[\"test_accuracy\"].values[0], line_dash=\"dot\", annotation_text=\"test_accuracy 2\", annotation_position=\"bottom right\")\n",
    "fig.add_hline(y=df_last[\"test_accuracy\"].values[1], line_dash=\"dot\", annotation_text=\"test_accuracy 256\", annotation_position=\"bottom right\")\n",
    "fig.add_hline(y=df_last[\"test_accuracy\"].values[2], line_dash=\"dot\", annotation_text=\"test_accuracy 0\", annotation_position=\"bottom right\")\n",
    "\n",
    "fig.update_layout(\n",
    "    title=\"Training Accuracy vs Epochs\",\n",
    "    xaxis_title=\"Epochs\",\n",
    "    yaxis_title=\"Accuracy\",\n",
    ")\n",
    "fig.show()\n",
    "fig.write_image(FIGURE_DIR + \"training_accuracy_vs_epochs.png\")"
   ]
  },
  {
   "cell_type": "code",
   "execution_count": 222,
   "metadata": {},
   "outputs": [],
   "source": [
    "df_last\n",
    "# save df as latex\n",
    "prepare_df(df_last).to_latex(index=False, escape=False, buf=FIGURE_DIR + \"final_accuracy_table.tex\", float_format=\"%.2f\")"
   ]
  },
  {
   "cell_type": "code",
   "execution_count": 223,
   "metadata": {},
   "outputs": [
    {
     "data": {
      "text/html": [
       "<div>\n",
       "<style scoped>\n",
       "    .dataframe tbody tr th:only-of-type {\n",
       "        vertical-align: middle;\n",
       "    }\n",
       "\n",
       "    .dataframe tbody tr th {\n",
       "        vertical-align: top;\n",
       "    }\n",
       "\n",
       "    .dataframe thead th {\n",
       "        text-align: right;\n",
       "    }\n",
       "</style>\n",
       "<table border=\"1\" class=\"dataframe\">\n",
       "  <thead>\n",
       "    <tr style=\"text-align: right;\">\n",
       "      <th></th>\n",
       "      <th>latent_dim</th>\n",
       "      <th>train_loss</th>\n",
       "      <th>val_loss</th>\n",
       "      <th>test_loss</th>\n",
       "      <th>train_accuracy</th>\n",
       "      <th>val_accuracy</th>\n",
       "      <th>test_accuracy</th>\n",
       "    </tr>\n",
       "  </thead>\n",
       "  <tbody>\n",
       "    <tr>\n",
       "      <th>0</th>\n",
       "      <td>2</td>\n",
       "      <td>1.352088</td>\n",
       "      <td>1.308211</td>\n",
       "      <td>1.219038</td>\n",
       "      <td>0.611273</td>\n",
       "      <td>0.619203</td>\n",
       "      <td>0.648187</td>\n",
       "    </tr>\n",
       "    <tr>\n",
       "      <th>1</th>\n",
       "      <td>2</td>\n",
       "      <td>1.290702</td>\n",
       "      <td>1.287029</td>\n",
       "      <td>1.219038</td>\n",
       "      <td>0.626023</td>\n",
       "      <td>0.626574</td>\n",
       "      <td>0.648187</td>\n",
       "    </tr>\n",
       "    <tr>\n",
       "      <th>2</th>\n",
       "      <td>2</td>\n",
       "      <td>1.264726</td>\n",
       "      <td>1.256555</td>\n",
       "      <td>1.219038</td>\n",
       "      <td>0.634715</td>\n",
       "      <td>0.637029</td>\n",
       "      <td>0.648187</td>\n",
       "    </tr>\n",
       "    <tr>\n",
       "      <th>3</th>\n",
       "      <td>2</td>\n",
       "      <td>1.247469</td>\n",
       "      <td>1.249734</td>\n",
       "      <td>1.219038</td>\n",
       "      <td>0.641680</td>\n",
       "      <td>0.638386</td>\n",
       "      <td>0.648187</td>\n",
       "    </tr>\n",
       "    <tr>\n",
       "      <th>4</th>\n",
       "      <td>2</td>\n",
       "      <td>1.242581</td>\n",
       "      <td>1.247017</td>\n",
       "      <td>1.219038</td>\n",
       "      <td>0.642920</td>\n",
       "      <td>0.639857</td>\n",
       "      <td>0.648187</td>\n",
       "    </tr>\n",
       "    <tr>\n",
       "      <th>...</th>\n",
       "      <td>...</td>\n",
       "      <td>...</td>\n",
       "      <td>...</td>\n",
       "      <td>...</td>\n",
       "      <td>...</td>\n",
       "      <td>...</td>\n",
       "      <td>...</td>\n",
       "    </tr>\n",
       "    <tr>\n",
       "      <th>45</th>\n",
       "      <td>0</td>\n",
       "      <td>0.075877</td>\n",
       "      <td>3.203486</td>\n",
       "      <td>3.012039</td>\n",
       "      <td>0.980030</td>\n",
       "      <td>0.783925</td>\n",
       "      <td>0.788024</td>\n",
       "    </tr>\n",
       "    <tr>\n",
       "      <th>46</th>\n",
       "      <td>0</td>\n",
       "      <td>0.074358</td>\n",
       "      <td>3.173129</td>\n",
       "      <td>3.012039</td>\n",
       "      <td>0.980452</td>\n",
       "      <td>0.784539</td>\n",
       "      <td>0.788024</td>\n",
       "    </tr>\n",
       "    <tr>\n",
       "      <th>47</th>\n",
       "      <td>0</td>\n",
       "      <td>0.071013</td>\n",
       "      <td>3.113744</td>\n",
       "      <td>3.012039</td>\n",
       "      <td>0.981527</td>\n",
       "      <td>0.777859</td>\n",
       "      <td>0.788024</td>\n",
       "    </tr>\n",
       "    <tr>\n",
       "      <th>48</th>\n",
       "      <td>0</td>\n",
       "      <td>0.076321</td>\n",
       "      <td>3.773053</td>\n",
       "      <td>3.012039</td>\n",
       "      <td>0.980203</td>\n",
       "      <td>0.778486</td>\n",
       "      <td>0.788024</td>\n",
       "    </tr>\n",
       "    <tr>\n",
       "      <th>49</th>\n",
       "      <td>0</td>\n",
       "      <td>0.077456</td>\n",
       "      <td>3.114242</td>\n",
       "      <td>3.012039</td>\n",
       "      <td>0.979992</td>\n",
       "      <td>0.783848</td>\n",
       "      <td>0.788024</td>\n",
       "    </tr>\n",
       "  </tbody>\n",
       "</table>\n",
       "<p>150 rows × 7 columns</p>\n",
       "</div>"
      ],
      "text/plain": [
       "   latent_dim  train_loss  val_loss  test_loss  train_accuracy  val_accuracy  \\\n",
       "0           2    1.352088  1.308211   1.219038        0.611273      0.619203   \n",
       "1           2    1.290702  1.287029   1.219038        0.626023      0.626574   \n",
       "2           2    1.264726  1.256555   1.219038        0.634715      0.637029   \n",
       "3           2    1.247469  1.249734   1.219038        0.641680      0.638386   \n",
       "4           2    1.242581  1.247017   1.219038        0.642920      0.639857   \n",
       "..        ...         ...       ...        ...             ...           ...   \n",
       "45          0    0.075877  3.203486   3.012039        0.980030      0.783925   \n",
       "46          0    0.074358  3.173129   3.012039        0.980452      0.784539   \n",
       "47          0    0.071013  3.113744   3.012039        0.981527      0.777859   \n",
       "48          0    0.076321  3.773053   3.012039        0.980203      0.778486   \n",
       "49          0    0.077456  3.114242   3.012039        0.979992      0.783848   \n",
       "\n",
       "    test_accuracy  \n",
       "0        0.648187  \n",
       "1        0.648187  \n",
       "2        0.648187  \n",
       "3        0.648187  \n",
       "4        0.648187  \n",
       "..            ...  \n",
       "45       0.788024  \n",
       "46       0.788024  \n",
       "47       0.788024  \n",
       "48       0.788024  \n",
       "49       0.788024  \n",
       "\n",
       "[150 rows x 7 columns]"
      ]
     },
     "execution_count": 223,
     "metadata": {},
     "output_type": "execute_result"
    }
   ],
   "source": [
    "df_overall"
   ]
  }
 ],
 "metadata": {
  "kernelspec": {
   "display_name": "Python 3",
   "language": "python",
   "name": "python3"
  },
  "language_info": {
   "codemirror_mode": {
    "name": "ipython",
    "version": 3
   },
   "file_extension": ".py",
   "mimetype": "text/x-python",
   "name": "python",
   "nbconvert_exporter": "python",
   "pygments_lexer": "ipython3",
   "version": "3.9.13"
  }
 },
 "nbformat": 4,
 "nbformat_minor": 2
}
