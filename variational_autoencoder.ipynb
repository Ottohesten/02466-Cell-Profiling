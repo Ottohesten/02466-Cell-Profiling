{
 "cells": [
  {
   "cell_type": "code",
   "execution_count": 63,
   "metadata": {},
   "outputs": [
    {
     "name": "stdout",
     "output_type": "stream",
     "text": [
      "True\n"
     ]
    }
   ],
   "source": [
    "import numpy as np\n",
    "import pandas as pd\n",
    "import torch\n",
    "import torch.nn as nn\n",
    "import torch.optim as optim\n",
    "import torch.nn.functional as F\n",
    "from torch.utils.data import DataLoader, Dataset\n",
    "from sklearn.model_selection import train_test_split\n",
    "from sklearn.preprocessing import StandardScaler\n",
    "from sklearn.metrics import accuracy_score\n",
    "from sklearn.metrics import confusion_matrix\n",
    "import matplotlib.pyplot as plt\n",
    "\n",
    "# mnist dataset\n",
    "from torchvision import datasets\n",
    "from torchvision.transforms import ToTensor\n",
    "\n",
    "from dataset_tools import MNIST\n",
    "\n",
    "from collections import defaultdict\n",
    "\n",
    "\n",
    "cuda = torch.cuda.is_available()\n",
    "print(cuda)"
   ]
  },
  {
   "cell_type": "markdown",
   "metadata": {},
   "source": [
    "# Data"
   ]
  },
  {
   "cell_type": "code",
   "execution_count": 64,
   "metadata": {},
   "outputs": [],
   "source": [
    "flatten = lambda x: ToTensor()(x).view(-1)\n",
    "\n",
    "# data_train = MNIST(train=True, transform=ToTensor())\n",
    "# data_test = MNIST(train=False, transform=ToTensor())\n",
    "data_train = MNIST(train=True, transform=flatten)\n",
    "data_test = MNIST(train=False, transform=flatten)\n",
    "\n",
    "train_loader = DataLoader(data_train, batch_size=64, shuffle=True, pin_memory=cuda)\n",
    "test_loader = DataLoader(data_test, batch_size=64, shuffle=True, pin_memory=cuda)\n",
    "\n"
   ]
  },
  {
   "cell_type": "code",
   "execution_count": 65,
   "metadata": {},
   "outputs": [
    {
     "name": "stdout",
     "output_type": "stream",
     "text": [
      "torch.Size([64, 784]) torch.Size([64])\n"
     ]
    }
   ],
   "source": [
    "# test how a sample looks\n",
    "x, y = next(iter(train_loader))\n",
    "print(x.shape, y.shape)"
   ]
  },
  {
   "cell_type": "markdown",
   "metadata": {},
   "source": [
    "# VAE"
   ]
  },
  {
   "cell_type": "code",
   "execution_count": 66,
   "metadata": {},
   "outputs": [],
   "source": [
    "\n",
    "# input img -> hidden -> mu, logvar -> reparameterization trick (sample point from distribution made from mu, logvar) -> decoder -> output img\n",
    "class VAE(nn.Module):\n",
    "    \"\"\"\n",
    "    Variational Autoencoder\n",
    "    \"\"\"\n",
    "    def __init__(self, input_dim, hidden_dim, latent_dim):\n",
    "        super(VAE, self).__init__()\n",
    "        self.input_dim = input_dim\n",
    "        self.hidden_dim = hidden_dim\n",
    "        self.latent_dim = latent_dim\n",
    "\n",
    "        self.encoder = nn.Sequential(\n",
    "            nn.Linear(input_dim, hidden_dim),\n",
    "            nn.ReLU(),\n",
    "            nn.Linear(hidden_dim, hidden_dim),\n",
    "            nn.ReLU()\n",
    "        )\n",
    "\n",
    "        # latent space\n",
    "        self.mu = nn.Linear(hidden_dim, latent_dim)\n",
    "        self.sigma = nn.Linear(hidden_dim, latent_dim)\n",
    "\n",
    "        self.decoder = nn.Sequential(\n",
    "            nn.Linear(latent_dim, hidden_dim),\n",
    "            nn.ReLU(),\n",
    "            nn.Linear(hidden_dim, hidden_dim),\n",
    "            nn.ReLU(),\n",
    "            nn.Linear(hidden_dim, input_dim),\n",
    "            nn.Sigmoid()\n",
    "        )\n",
    "    \n",
    "    def encode(self, x):\n",
    "        # q(z|x)\n",
    "        h = self.encoder(x) # hidden\n",
    "        mu = self.mu(h) # mean\n",
    "        sigma = self.sigma(h) # log variance\n",
    "        return mu, sigma # mean and log variance\n",
    "    \n",
    "    def decode(self, z):\n",
    "        # p(x|z)\n",
    "        return self.decoder(z)\n",
    "\n",
    "    def reparameterize(self, mu, sigma):\n",
    "        if self.training:\n",
    "            eps = torch.randn_like(sigma)\n",
    "            return mu + eps * sigma\n",
    "        else:\n",
    "            return mu\n",
    "\n",
    "    def forward(self, x):\n",
    "\n",
    "        mu, sigma = self.encode(x) \n",
    "        z = self.reparameterize(mu, sigma) # sample z from q(z|x) = mu + std * eps\n",
    "        x_hat = self.decoder(z) # reconstruct x from z p(x|z)\n",
    "        return x_hat, mu, sigma\n",
    "\n",
    "\n"
   ]
  },
  {
   "cell_type": "code",
   "execution_count": 67,
   "metadata": {},
   "outputs": [
    {
     "name": "stdout",
     "output_type": "stream",
     "text": [
      "VAE(\n",
      "  (encoder): Sequential(\n",
      "    (0): Linear(in_features=784, out_features=256, bias=True)\n",
      "    (1): ReLU()\n",
      "    (2): Linear(in_features=256, out_features=256, bias=True)\n",
      "    (3): ReLU()\n",
      "  )\n",
      "  (mu): Linear(in_features=256, out_features=2, bias=True)\n",
      "  (sigma): Linear(in_features=256, out_features=2, bias=True)\n",
      "  (decoder): Sequential(\n",
      "    (0): Linear(in_features=2, out_features=256, bias=True)\n",
      "    (1): ReLU()\n",
      "    (2): Linear(in_features=256, out_features=256, bias=True)\n",
      "    (3): ReLU()\n",
      "    (4): Linear(in_features=256, out_features=784, bias=True)\n",
      "    (5): Sigmoid()\n",
      "  )\n",
      ")\n"
     ]
    }
   ],
   "source": [
    "model = VAE(input_dim=28*28, hidden_dim=256, latent_dim=2)\n",
    "print(model)\n",
    "if cuda:\n",
    "    model = model.cuda()\n",
    "\n",
    "optimizer = optim.Adam(model.parameters(), lr=1e-3)\n",
    "bceloss = nn.BCELoss(reduction='sum')\n",
    "\n",
    "def loss_function(x, x_hat, mu, sigma, beta=1.0):\n",
    "    # BCE = F.binary_cross_entropy(x_hat, x, reduction='sum')\n",
    "    MSE = F.mse_loss(x_hat, x, reduction='sum')\n",
    "    # KLD = -0.5 * torch.sum(1 + logvar - mu.pow(2) - logvar.exp()) # kullback-leibler divergence between q(z|x) and p(z)\n",
    "    KLD = -0.5 * torch.sum(1 + torch.log(sigma.pow(2)) - mu.pow(2) - sigma.pow(2))\n",
    "    # return {\"BCE\": BCE, \"KLD\": KLD, \"loss\": BCE + beta * KLD}\n",
    "    return {\"MSE\": MSE, \"KLD\": KLD, \"loss\": MSE + beta * KLD}\n",
    "\n",
    "\n",
    "\n"
   ]
  },
  {
   "cell_type": "code",
   "execution_count": 68,
   "metadata": {},
   "outputs": [
    {
     "name": "stdout",
     "output_type": "stream",
     "text": [
      "x.shape: torch.Size([64, 784])\n",
      "x_hat.shape: torch.Size([64, 784])\n"
     ]
    }
   ],
   "source": [
    "# test forward pass\n",
    "x, y = next(iter(train_loader))\n",
    "print(f\"x.shape: {x.shape}\")\n",
    "\n",
    "if cuda:\n",
    "    x = x.cuda()\n",
    "\n",
    "output = model(x)\n",
    "x_hat, mu, sigma = output\n",
    "print(f\"x_hat.shape: {x_hat.shape}\")\n",
    "\n",
    "assert x_hat.shape == x.shape"
   ]
  },
  {
   "cell_type": "markdown",
   "metadata": {},
   "source": [
    "## Training"
   ]
  },
  {
   "cell_type": "code",
   "execution_count": 69,
   "metadata": {},
   "outputs": [
    {
     "name": "stdout",
     "output_type": "stream",
     "text": [
      "Epoch 1/5, loss: 3063.492647671242, bce: 2899.1716912438364, kld: 164.32095928232806\n",
      "Epoch 2/5, loss: 2843.011463937983, bce: 2593.187634563649, kld: 249.82382877244115\n",
      "Epoch 3/5, loss: 2812.5108762305936, bce: 2539.789011485541, kld: 272.721867250227\n",
      "Epoch 4/5, loss: 2759.2682037028167, bce: 2484.128012716135, kld: 275.14019034412115\n",
      "Epoch 5/5, loss: 2843.8826271821695, bce: 2572.6949569604544, kld: 271.18766903419737\n"
     ]
    }
   ],
   "source": [
    "num_epochs = 5\n",
    "\n",
    "train_loss = []\n",
    "train_bce_loss = []\n",
    "train_kld_loss = []\n",
    "valid_loss = []\n",
    "\n",
    "for epoch in range(num_epochs):\n",
    "    batch_loss = []\n",
    "    bce_batch_loss = []\n",
    "    kld_batch_loss = []\n",
    "    model.train()\n",
    "\n",
    "    for x, y in train_loader:\n",
    "        if cuda:\n",
    "            x = x.cuda()\n",
    "\n",
    "        optimizer.zero_grad()\n",
    "        x_hat, mu, sigma = model(x)\n",
    "        loss_fn = loss_function(x, x_hat, mu, sigma)\n",
    "        bce_loss = loss_fn[\"MSE\"]\n",
    "        kld_loss = loss_fn[\"KLD\"]\n",
    "        loss = loss_fn[\"loss\"]\n",
    "\n",
    "        loss.backward()\n",
    "        optimizer.step()\n",
    "        batch_loss.append(loss.item())\n",
    "        bce_batch_loss.append(bce_loss.item())\n",
    "        kld_batch_loss.append(kld_loss.item())\n",
    "        \n",
    "\n",
    "    train_loss.append(np.mean(batch_loss))\n",
    "    train_bce_loss.append(np.mean(bce_batch_loss))\n",
    "    train_kld_loss.append(np.mean(kld_batch_loss))\n",
    "\n",
    "    # print(f\"Epoch {epoch+1}/{num_epochs}, loss: {train_loss[-1]}\")\n",
    "    print(f\"Epoch {epoch+1}/{num_epochs}, loss: {train_loss[-1]}, bce: {train_bce_loss[-1]}, kld: {train_kld_loss[-1]}\")\n",
    "\n",
    "\n"
   ]
  },
  {
   "cell_type": "code",
   "execution_count": 70,
   "metadata": {},
   "outputs": [
    {
     "data": {
      "image/png": "[encoded data removed]",
      "text/plain": [
       "<Figure size 2500x400 with 20 Axes>"
      ]
     },
     "metadata": {},
     "output_type": "display_data"
    }
   ],
   "source": [
    "# test the model\n",
    "model.eval()\n",
    "\n",
    "images, labels = next(iter(test_loader))\n",
    "\n",
    "if cuda:\n",
    "    images = images.cuda()\n",
    "output = model(images)\n",
    "x_hat, mu, sigma = output\n",
    "\n",
    "# plot the original and reconstructed images\n",
    "fig, axes = plt.subplots(nrows=2, ncols=10, sharex=True, sharey=True, figsize=(25,4))\n",
    "\n",
    "for images, row in zip([images, x_hat], axes):\n",
    "    for img, ax in zip(images, row):\n",
    "        ax.imshow(img.cpu().detach().view(28, 28), cmap='gray')\n",
    "        ax.get_xaxis().set_visible(False)\n",
    "        ax.get_yaxis().set_visible(False)"
   ]
  },
  {
   "cell_type": "code",
   "execution_count": 71,
   "metadata": {},
   "outputs": [
    {
     "data": {
      "image/png": "[encoded data removed]",
      "text/plain": [
       "<Figure size 2500x400 with 10 Axes>"
      ]
     },
     "metadata": {},
     "output_type": "display_data"
    }
   ],
   "source": [
    "# generate new images using decoder\n",
    "with torch.no_grad():\n",
    "    z = torch.randn(10, 2)\n",
    "    if cuda:\n",
    "        z = z.cuda()\n",
    "    new_images = model.decoder(z)\n",
    "\n",
    "fig, axes = plt.subplots(nrows=1, ncols=10, sharex=True, sharey=True, figsize=(25,4))\n",
    "for img, ax in zip(new_images, axes):\n",
    "    ax.imshow(img.cpu().detach().view(28, 28), cmap='Greys')\n",
    "    ax.get_xaxis().set_visible(False)\n",
    "    ax.get_yaxis().set_visible(False)\n"
   ]
  },
  {
   "cell_type": "code",
   "execution_count": 72,
   "metadata": {},
   "outputs": [],
   "source": [
    "class Inference:\n",
    "    def __init__(self, model, num_samples=10):\n",
    "        self.model = model\n",
    "        self.model.eval()\n",
    "        self.model.to('cpu')\n",
    "        self.num_samples = num_samples\n",
    "        self.digits = self.generate_digits(num_samples)\n",
    "\n",
    "    # def __call__(self, x):\n",
    "    #     if cuda:\n",
    "    #         x = x.cuda()\n",
    "    #     with torch.no_grad():\n",
    "    #         x_hat, mu, logvar = self.model(x)\n",
    "    #     return x_hat, mu, logvar\n",
    "        \n",
    "    def generate_digits(self, num_samples):\n",
    "        digits = defaultdict(torch.Tensor)\n",
    "        with torch.no_grad():\n",
    "            for batch_x, batch_y in test_loader:\n",
    "                # if cuda:\n",
    "                #     batch_x = batch_x.cuda()\n",
    "                x_hat, mu, logvar = self.model(batch_x)\n",
    "                for x, y in zip(x_hat, batch_y):\n",
    "                    if len(digits[y.item()]) < num_samples:\n",
    "                        # add the generated image to the list\n",
    "                        digits[y.item()] = torch.cat((digits[y.item()], x.unsqueeze(0)), dim=0)\n",
    "                    else:\n",
    "                        continue\n",
    "                    \n",
    "        return digits\n",
    "    \n",
    "inference = Inference(model)"
   ]
  },
  {
   "cell_type": "code",
   "execution_count": 73,
   "metadata": {},
   "outputs": [],
   "source": [
    "digits = inference.digits"
   ]
  },
  {
   "cell_type": "code",
   "execution_count": 74,
   "metadata": {},
   "outputs": [
    {
     "data": {
      "image/png": "[encoded data removed]",
      "text/plain": [
       "<Figure size 2500x400 with 10 Axes>"
      ]
     },
     "metadata": {},
     "output_type": "display_data"
    }
   ],
   "source": [
    "\n",
    "\n",
    "fig, axes = plt.subplots(nrows=1, ncols=10, sharex=True, sharey=True, figsize=(25,4))\n",
    "for img, ax in zip(digits[5], axes):\n",
    "    ax.imshow(img.view(28, 28), cmap='Greys')\n",
    "    ax.get_xaxis().set_visible(False)\n",
    "    ax.get_yaxis().set_visible(False)"
   ]
  }
 ],
 "metadata": {
  "kernelspec": {
   "display_name": "Python 3",
   "language": "python",
   "name": "python3"
  },
  "language_info": {
   "codemirror_mode": {
    "name": "ipython",
    "version": 3
   },
   "file_extension": ".py",
   "mimetype": "text/x-python",
   "name": "python",
   "nbconvert_exporter": "python",
   "pygments_lexer": "ipython3",
   "version": "3.9.13"
  }
 },
 "nbformat": 4,
 "nbformat_minor": 2
}
