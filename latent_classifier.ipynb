{
 "cells": [
  {
   "cell_type": "code",
   "execution_count": 55,
   "metadata": {},
   "outputs": [
    {
     "name": "stdout",
     "output_type": "stream",
     "text": [
      "True\n"
     ]
    }
   ],
   "source": [
    "import numpy as np\n",
    "import pandas as pd\n",
    "import torch\n",
    "import torch.nn as nn\n",
    "import torch.optim as optim\n",
    "import torch.nn.functional as F\n",
    "from torch.utils.data import DataLoader, Dataset\n",
    "from sklearn.model_selection import train_test_split\n",
    "from sklearn.preprocessing import StandardScaler\n",
    "from sklearn.metrics import accuracy_score\n",
    "from sklearn.metrics import confusion_matrix\n",
    "from sklearn.manifold import TSNE\n",
    "import matplotlib.pyplot as plt\n",
    "\n",
    "# mnist dataset\n",
    "from torchvision import datasets\n",
    "from torchvision.transforms import ToTensor\n",
    "from torchvision import transforms\n",
    "\n",
    "from dataset_tools import OwnDataset, make_train_test_val_split\n",
    "from plotting import (\n",
    "    plot_split_stratification,\n",
    "    show_img, \n",
    "    loss_plots, \n",
    "    plot_random_images, \n",
    "    plot_image_comparison, \n",
    "    plot_latent_train, \n",
    "    plot_latent)\n",
    "from collections import defaultdict\n",
    "\n",
    "\n",
    "cuda = torch.cuda.is_available()\n",
    "print(cuda)"
   ]
  },
  {
   "cell_type": "markdown",
   "metadata": {},
   "source": [
    "# Data"
   ]
  },
  {
   "cell_type": "code",
   "execution_count": 56,
   "metadata": {},
   "outputs": [
    {
     "name": "stdout",
     "output_type": "stream",
     "text": [
      "488396 4884 1527 1221\n"
     ]
    }
   ],
   "source": [
    "tf = transforms.Compose([\n",
    "    transforms.ToPILImage(),\n",
    "    transforms.ToTensor(),\n",
    "    # transforms.Lambda(lambda x: x.view(-1)) # notice that we dont flatten when we are going to use CNN\n",
    "])\n",
    "# dataset = OwnDataset(transform=tf)\n",
    "dataset = OwnDataset(transform=tf, path=r\"C:\\Users\\Otto\\Desktop\\Fagprojekt_data\\labelled_data\")\n",
    "train_subset, test_subset, val_subset = make_train_test_val_split(dataset)\n",
    "\n",
    "\n",
    "\n",
    "\n",
    "train_loader = DataLoader(train_subset, batch_size=64, shuffle=True, pin_memory=cuda)\n",
    "test_loader = DataLoader(test_subset, batch_size=64, shuffle=True, pin_memory=cuda)\n",
    "val_loader = DataLoader(val_subset, batch_size=64, shuffle=True, pin_memory=cuda)\n",
    "\n",
    "print(len(dataset), len(train_loader), len(test_loader), len(val_loader))"
   ]
  },
  {
   "cell_type": "code",
   "execution_count": 57,
   "metadata": {},
   "outputs": [
    {
     "data": {
      "image/png": "[encoded data removed]",
      "text/plain": [
       "<Figure size 2400x600 with 4 Axes>"
      ]
     },
     "metadata": {},
     "output_type": "display_data"
    },
    {
     "data": {
      "application/vnd.plotly.v1+json": {
       "config": {
        "plotlyServerURL": "https://plot.ly"
       },
       "data": [
        {
         "alignmentgroup": "True",
         "hovertemplate": "Dataset=Whole<br>Class=%{x}<br>Percentage=%{y}<extra></extra>",
         "legendgroup": "Whole",
         "marker": {
          "color": "#636efa",
          "pattern": {
           "shape": ""
          }
         },
         "name": "Whole",
         "offsetgroup": "Whole",
         "orientation": "v",
         "showlegend": true,
         "textposition": "auto",
         "type": "bar",
         "x": [
          0,
          1,
          2,
          3,
          4,
          5,
          6,
          7,
          8,
          9,
          10,
          11,
          12
         ],
         "xaxis": "x",
         "y": [
          0.01533796345588416,
          0.034418791308692125,
          0.011130312287569923,
          0.5658523001826387,
          0.033951957018485,
          0.012235972448586803,
          0.025645173179141518,
          0.030620643903717475,
          0.02379626368766329,
          0.031077240599841113,
          0.18255063514033695,
          0.01349110148322263,
          0.019891645304220346
         ],
         "yaxis": "y"
        },
        {
         "alignmentgroup": "True",
         "hovertemplate": "Dataset=Train<br>Class=%{x}<br>Percentage=%{y}<extra></extra>",
         "legendgroup": "Train",
         "marker": {
          "color": "#EF553B",
          "pattern": {
           "shape": ""
          }
         },
         "name": "Train",
         "offsetgroup": "Train",
         "orientation": "v",
         "showlegend": true,
         "textposition": "auto",
         "type": "bar",
         "x": [
          0,
          1,
          2,
          3,
          4,
          5,
          6,
          7,
          8,
          9,
          10,
          11,
          12
         ],
         "xaxis": "x",
         "y": [
          0.015311672190727257,
          0.034548839947276144,
          0.011146231908168358,
          0.5657288560715611,
          0.034110540931369414,
          0.012201988661812319,
          0.025802055206480427,
          0.030671333324801965,
          0.024023265039734846,
          0.03109363602625955,
          0.1820060658024391,
          0.013500889395083373,
          0.019854625494286116
         ],
         "yaxis": "y"
        },
        {
         "alignmentgroup": "True",
         "hovertemplate": "Dataset=Test<br>Class=%{x}<br>Percentage=%{y}<extra></extra>",
         "legendgroup": "Test",
         "marker": {
          "color": "#00cc96",
          "pattern": {
           "shape": ""
          }
         },
         "name": "Test",
         "offsetgroup": "Test",
         "orientation": "v",
         "showlegend": true,
         "textposition": "auto",
         "type": "bar",
         "x": [
          0,
          1,
          2,
          3,
          4,
          5,
          6,
          7,
          8,
          9,
          10,
          11,
          12
         ],
         "xaxis": "x",
         "y": [
          0.015243652743652743,
          0.03427518427518428,
          0.011455773955773955,
          0.5651412776412776,
          0.033916871416871414,
          0.012479524979524979,
          0.025204750204750204,
          0.030794430794430793,
          0.023361998361998364,
          0.03102989352989353,
          0.18346642096642096,
          0.013636363636363636,
          0.019993857493857493
         ],
         "yaxis": "y"
        },
        {
         "alignmentgroup": "True",
         "hovertemplate": "Dataset=Val<br>Class=%{x}<br>Percentage=%{y}<extra></extra>",
         "legendgroup": "Val",
         "marker": {
          "color": "#ab63fa",
          "pattern": {
           "shape": ""
          }
         },
         "name": "Val",
         "offsetgroup": "Val",
         "orientation": "v",
         "showlegend": true,
         "textposition": "auto",
         "type": "bar",
         "x": [
          0,
          1,
          2,
          3,
          4,
          5,
          6,
          7,
          8,
          9,
          10,
          11,
          12
         ],
         "xaxis": "x",
         "y": [
          0.015561015561015561,
          0.0340781122031122,
          0.010659807534807535,
          0.5672348484848485,
          0.033361486486486486,
          0.012067465192465193,
          0.02556818181818182,
          0.0302006552006552,
          0.023431101556101556,
          0.03107084357084357,
          0.18358415233415235,
          0.013270372645372645,
          0.019911957411957414
         ],
         "yaxis": "y"
        }
       ],
       "layout": {
        "barmode": "group",
        "legend": {
         "title": {
          "text": "Dataset"
         },
         "tracegroupgap": 0
        },
        "margin": {
         "t": 60
        },
        "template": {
         "data": {
          "bar": [
           {
            "error_x": {
             "color": "#2a3f5f"
            },
            "error_y": {
             "color": "#2a3f5f"
            },
            "marker": {
             "line": {
              "color": "#E5ECF6",
              "width": 0.5
             },
             "pattern": {
              "fillmode": "overlay",
              "size": 10,
              "solidity": 0.2
             }
            },
            "type": "bar"
           }
          ],
          "barpolar": [
           {
            "marker": {
             "line": {
              "color": "#E5ECF6",
              "width": 0.5
             },
             "pattern": {
              "fillmode": "overlay",
              "size": 10,
              "solidity": 0.2
             }
            },
            "type": "barpolar"
           }
          ],
          "carpet": [
           {
            "aaxis": {
             "endlinecolor": "#2a3f5f",
             "gridcolor": "white",
             "linecolor": "white",
             "minorgridcolor": "white",
             "startlinecolor": "#2a3f5f"
            },
            "baxis": {
             "endlinecolor": "#2a3f5f",
             "gridcolor": "white",
             "linecolor": "white",
             "minorgridcolor": "white",
             "startlinecolor": "#2a3f5f"
            },
            "type": "carpet"
           }
          ],
          "choropleth": [
           {
            "colorbar": {
             "outlinewidth": 0,
             "ticks": ""
            },
            "type": "choropleth"
           }
          ],
          "contour": [
           {
            "colorbar": {
             "outlinewidth": 0,
             "ticks": ""
            },
            "colorscale": [
             [
              0,
              "#0d0887"
             ],
             [
              0.1111111111111111,
              "#46039f"
             ],
             [
              0.2222222222222222,
              "#7201a8"
             ],
             [
              0.3333333333333333,
              "#9c179e"
             ],
             [
              0.4444444444444444,
              "#bd3786"
             ],
             [
              0.5555555555555556,
              "#d8576b"
             ],
             [
              0.6666666666666666,
              "#ed7953"
             ],
             [
              0.7777777777777778,
              "#fb9f3a"
             ],
             [
              0.8888888888888888,
              "#fdca26"
             ],
             [
              1,
              "#f0f921"
             ]
            ],
            "type": "contour"
           }
          ],
          "contourcarpet": [
           {
            "colorbar": {
             "outlinewidth": 0,
             "ticks": ""
            },
            "type": "contourcarpet"
           }
          ],
          "heatmap": [
           {
            "colorbar": {
             "outlinewidth": 0,
             "ticks": ""
            },
            "colorscale": [
             [
              0,
              "#0d0887"
             ],
             [
              0.1111111111111111,
              "#46039f"
             ],
             [
              0.2222222222222222,
              "#7201a8"
             ],
             [
              0.3333333333333333,
              "#9c179e"
             ],
             [
              0.4444444444444444,
              "#bd3786"
             ],
             [
              0.5555555555555556,
              "#d8576b"
             ],
             [
              0.6666666666666666,
              "#ed7953"
             ],
             [
              0.7777777777777778,
              "#fb9f3a"
             ],
             [
              0.8888888888888888,
              "#fdca26"
             ],
             [
              1,
              "#f0f921"
             ]
            ],
            "type": "heatmap"
           }
          ],
          "heatmapgl": [
           {
            "colorbar": {
             "outlinewidth": 0,
             "ticks": ""
            },
            "colorscale": [
             [
              0,
              "#0d0887"
             ],
             [
              0.1111111111111111,
              "#46039f"
             ],
             [
              0.2222222222222222,
              "#7201a8"
             ],
             [
              0.3333333333333333,
              "#9c179e"
             ],
             [
              0.4444444444444444,
              "#bd3786"
             ],
             [
              0.5555555555555556,
              "#d8576b"
             ],
             [
              0.6666666666666666,
              "#ed7953"
             ],
             [
              0.7777777777777778,
              "#fb9f3a"
             ],
             [
              0.8888888888888888,
              "#fdca26"
             ],
             [
              1,
              "#f0f921"
             ]
            ],
            "type": "heatmapgl"
           }
          ],
          "histogram": [
           {
            "marker": {
             "pattern": {
              "fillmode": "overlay",
              "size": 10,
              "solidity": 0.2
             }
            },
            "type": "histogram"
           }
          ],
          "histogram2d": [
           {
            "colorbar": {
             "outlinewidth": 0,
             "ticks": ""
            },
            "colorscale": [
             [
              0,
              "#0d0887"
             ],
             [
              0.1111111111111111,
              "#46039f"
             ],
             [
              0.2222222222222222,
              "#7201a8"
             ],
             [
              0.3333333333333333,
              "#9c179e"
             ],
             [
              0.4444444444444444,
              "#bd3786"
             ],
             [
              0.5555555555555556,
              "#d8576b"
             ],
             [
              0.6666666666666666,
              "#ed7953"
             ],
             [
              0.7777777777777778,
              "#fb9f3a"
             ],
             [
              0.8888888888888888,
              "#fdca26"
             ],
             [
              1,
              "#f0f921"
             ]
            ],
            "type": "histogram2d"
           }
          ],
          "histogram2dcontour": [
           {
            "colorbar": {
             "outlinewidth": 0,
             "ticks": ""
            },
            "colorscale": [
             [
              0,
              "#0d0887"
             ],
             [
              0.1111111111111111,
              "#46039f"
             ],
             [
              0.2222222222222222,
              "#7201a8"
             ],
             [
              0.3333333333333333,
              "#9c179e"
             ],
             [
              0.4444444444444444,
              "#bd3786"
             ],
             [
              0.5555555555555556,
              "#d8576b"
             ],
             [
              0.6666666666666666,
              "#ed7953"
             ],
             [
              0.7777777777777778,
              "#fb9f3a"
             ],
             [
              0.8888888888888888,
              "#fdca26"
             ],
             [
              1,
              "#f0f921"
             ]
            ],
            "type": "histogram2dcontour"
           }
          ],
          "mesh3d": [
           {
            "colorbar": {
             "outlinewidth": 0,
             "ticks": ""
            },
            "type": "mesh3d"
           }
          ],
          "parcoords": [
           {
            "line": {
             "colorbar": {
              "outlinewidth": 0,
              "ticks": ""
             }
            },
            "type": "parcoords"
           }
          ],
          "pie": [
           {
            "automargin": true,
            "type": "pie"
           }
          ],
          "scatter": [
           {
            "fillpattern": {
             "fillmode": "overlay",
             "size": 10,
             "solidity": 0.2
            },
            "type": "scatter"
           }
          ],
          "scatter3d": [
           {
            "line": {
             "colorbar": {
              "outlinewidth": 0,
              "ticks": ""
             }
            },
            "marker": {
             "colorbar": {
              "outlinewidth": 0,
              "ticks": ""
             }
            },
            "type": "scatter3d"
           }
          ],
          "scattercarpet": [
           {
            "marker": {
             "colorbar": {
              "outlinewidth": 0,
              "ticks": ""
             }
            },
            "type": "scattercarpet"
           }
          ],
          "scattergeo": [
           {
            "marker": {
             "colorbar": {
              "outlinewidth": 0,
              "ticks": ""
             }
            },
            "type": "scattergeo"
           }
          ],
          "scattergl": [
           {
            "marker": {
             "colorbar": {
              "outlinewidth": 0,
              "ticks": ""
             }
            },
            "type": "scattergl"
           }
          ],
          "scattermapbox": [
           {
            "marker": {
             "colorbar": {
              "outlinewidth": 0,
              "ticks": ""
             }
            },
            "type": "scattermapbox"
           }
          ],
          "scatterpolar": [
           {
            "marker": {
             "colorbar": {
              "outlinewidth": 0,
              "ticks": ""
             }
            },
            "type": "scatterpolar"
           }
          ],
          "scatterpolargl": [
           {
            "marker": {
             "colorbar": {
              "outlinewidth": 0,
              "ticks": ""
             }
            },
            "type": "scatterpolargl"
           }
          ],
          "scatterternary": [
           {
            "marker": {
             "colorbar": {
              "outlinewidth": 0,
              "ticks": ""
             }
            },
            "type": "scatterternary"
           }
          ],
          "surface": [
           {
            "colorbar": {
             "outlinewidth": 0,
             "ticks": ""
            },
            "colorscale": [
             [
              0,
              "#0d0887"
             ],
             [
              0.1111111111111111,
              "#46039f"
             ],
             [
              0.2222222222222222,
              "#7201a8"
             ],
             [
              0.3333333333333333,
              "#9c179e"
             ],
             [
              0.4444444444444444,
              "#bd3786"
             ],
             [
              0.5555555555555556,
              "#d8576b"
             ],
             [
              0.6666666666666666,
              "#ed7953"
             ],
             [
              0.7777777777777778,
              "#fb9f3a"
             ],
             [
              0.8888888888888888,
              "#fdca26"
             ],
             [
              1,
              "#f0f921"
             ]
            ],
            "type": "surface"
           }
          ],
          "table": [
           {
            "cells": {
             "fill": {
              "color": "#EBF0F8"
             },
             "line": {
              "color": "white"
             }
            },
            "header": {
             "fill": {
              "color": "#C8D4E3"
             },
             "line": {
              "color": "white"
             }
            },
            "type": "table"
           }
          ]
         },
         "layout": {
          "annotationdefaults": {
           "arrowcolor": "#2a3f5f",
           "arrowhead": 0,
           "arrowwidth": 1
          },
          "autotypenumbers": "strict",
          "coloraxis": {
           "colorbar": {
            "outlinewidth": 0,
            "ticks": ""
           }
          },
          "colorscale": {
           "diverging": [
            [
             0,
             "#8e0152"
            ],
            [
             0.1,
             "#c51b7d"
            ],
            [
             0.2,
             "#de77ae"
            ],
            [
             0.3,
             "#f1b6da"
            ],
            [
             0.4,
             "#fde0ef"
            ],
            [
             0.5,
             "#f7f7f7"
            ],
            [
             0.6,
             "#e6f5d0"
            ],
            [
             0.7,
             "#b8e186"
            ],
            [
             0.8,
             "#7fbc41"
            ],
            [
             0.9,
             "#4d9221"
            ],
            [
             1,
             "#276419"
            ]
           ],
           "sequential": [
            [
             0,
             "#0d0887"
            ],
            [
             0.1111111111111111,
             "#46039f"
            ],
            [
             0.2222222222222222,
             "#7201a8"
            ],
            [
             0.3333333333333333,
             "#9c179e"
            ],
            [
             0.4444444444444444,
             "#bd3786"
            ],
            [
             0.5555555555555556,
             "#d8576b"
            ],
            [
             0.6666666666666666,
             "#ed7953"
            ],
            [
             0.7777777777777778,
             "#fb9f3a"
            ],
            [
             0.8888888888888888,
             "#fdca26"
            ],
            [
             1,
             "#f0f921"
            ]
           ],
           "sequentialminus": [
            [
             0,
             "#0d0887"
            ],
            [
             0.1111111111111111,
             "#46039f"
            ],
            [
             0.2222222222222222,
             "#7201a8"
            ],
            [
             0.3333333333333333,
             "#9c179e"
            ],
            [
             0.4444444444444444,
             "#bd3786"
            ],
            [
             0.5555555555555556,
             "#d8576b"
            ],
            [
             0.6666666666666666,
             "#ed7953"
            ],
            [
             0.7777777777777778,
             "#fb9f3a"
            ],
            [
             0.8888888888888888,
             "#fdca26"
            ],
            [
             1,
             "#f0f921"
            ]
           ]
          },
          "colorway": [
           "#636efa",
           "#EF553B",
           "#00cc96",
           "#ab63fa",
           "#FFA15A",
           "#19d3f3",
           "#FF6692",
           "#B6E880",
           "#FF97FF",
           "#FECB52"
          ],
          "font": {
           "color": "#2a3f5f"
          },
          "geo": {
           "bgcolor": "white",
           "lakecolor": "white",
           "landcolor": "#E5ECF6",
           "showlakes": true,
           "showland": true,
           "subunitcolor": "white"
          },
          "hoverlabel": {
           "align": "left"
          },
          "hovermode": "closest",
          "mapbox": {
           "style": "light"
          },
          "paper_bgcolor": "white",
          "plot_bgcolor": "#E5ECF6",
          "polar": {
           "angularaxis": {
            "gridcolor": "white",
            "linecolor": "white",
            "ticks": ""
           },
           "bgcolor": "#E5ECF6",
           "radialaxis": {
            "gridcolor": "white",
            "linecolor": "white",
            "ticks": ""
           }
          },
          "scene": {
           "xaxis": {
            "backgroundcolor": "#E5ECF6",
            "gridcolor": "white",
            "gridwidth": 2,
            "linecolor": "white",
            "showbackground": true,
            "ticks": "",
            "zerolinecolor": "white"
           },
           "yaxis": {
            "backgroundcolor": "#E5ECF6",
            "gridcolor": "white",
            "gridwidth": 2,
            "linecolor": "white",
            "showbackground": true,
            "ticks": "",
            "zerolinecolor": "white"
           },
           "zaxis": {
            "backgroundcolor": "#E5ECF6",
            "gridcolor": "white",
            "gridwidth": 2,
            "linecolor": "white",
            "showbackground": true,
            "ticks": "",
            "zerolinecolor": "white"
           }
          },
          "shapedefaults": {
           "line": {
            "color": "#2a3f5f"
           }
          },
          "ternary": {
           "aaxis": {
            "gridcolor": "white",
            "linecolor": "white",
            "ticks": ""
           },
           "baxis": {
            "gridcolor": "white",
            "linecolor": "white",
            "ticks": ""
           },
           "bgcolor": "#E5ECF6",
           "caxis": {
            "gridcolor": "white",
            "linecolor": "white",
            "ticks": ""
           }
          },
          "title": {
           "x": 0.05
          },
          "xaxis": {
           "automargin": true,
           "gridcolor": "white",
           "linecolor": "white",
           "ticks": "",
           "title": {
            "standoff": 15
           },
           "zerolinecolor": "white",
           "zerolinewidth": 2
          },
          "yaxis": {
           "automargin": true,
           "gridcolor": "white",
           "linecolor": "white",
           "ticks": "",
           "title": {
            "standoff": 15
           },
           "zerolinecolor": "white",
           "zerolinewidth": 2
          }
         }
        },
        "xaxis": {
         "anchor": "y",
         "domain": [
          0,
          1
         ],
         "title": {
          "text": "Class"
         }
        },
        "yaxis": {
         "anchor": "x",
         "domain": [
          0,
          1
         ],
         "title": {
          "text": "Percentage"
         }
        }
       }
      }
     },
     "metadata": {},
     "output_type": "display_data"
    }
   ],
   "source": [
    "plot_split_stratification(dataset, train_subset, test_subset, val_subset)"
   ]
  },
  {
   "cell_type": "code",
   "execution_count": 58,
   "metadata": {},
   "outputs": [
    {
     "data": {
      "image/png": "[encoded data removed]",
      "text/plain": [
       "<Figure size 640x480 with 1 Axes>"
      ]
     },
     "metadata": {},
     "output_type": "display_data"
    },
    {
     "data": {
      "text/plain": [
       "'Actin disruptors'"
      ]
     },
     "execution_count": 58,
     "metadata": {},
     "output_type": "execute_result"
    }
   ],
   "source": [
    "# get a sample image from the dataset\n",
    "sample = dataset[612][0]\n",
    "label = dataset[612][1]\n",
    "\n",
    "# show the image\n",
    "show_img(sample.view(3,68,68))\n",
    "\n",
    "# moa\n",
    "# data_train.dataset.class_to_idx\n",
    "dataset.dataset.classes[label]\n"
   ]
  },
  {
   "cell_type": "code",
   "execution_count": 59,
   "metadata": {},
   "outputs": [
    {
     "name": "stdout",
     "output_type": "stream",
     "text": [
      "VAE_CELL_CNN(\n",
      "  (encoder): Sequential(\n",
      "    (0): Conv2d(3, 32, kernel_size=(3, 3), stride=(2, 2), padding=(1, 1))\n",
      "    (1): LeakyReLU(negative_slope=0.01)\n",
      "    (2): Conv2d(32, 64, kernel_size=(3, 3), stride=(2, 2), padding=(1, 1))\n",
      "    (3): LeakyReLU(negative_slope=0.01)\n",
      "    (4): Conv2d(64, 128, kernel_size=(3, 3), stride=(2, 2), padding=(1, 1))\n",
      "    (5): LeakyReLU(negative_slope=0.01)\n",
      "    (6): Conv2d(128, 256, kernel_size=(3, 3), stride=(1, 1), padding=(1, 1))\n",
      "    (7): LeakyReLU(negative_slope=0.01)\n",
      "    (8): Flatten(start_dim=1, end_dim=-1)\n",
      "    (9): Linear(in_features=20736, out_features=512, bias=True)\n",
      "  )\n",
      "  (decoder): Sequential(\n",
      "    (0): Linear(in_features=256, out_features=512, bias=True)\n",
      "    (1): LeakyReLU(negative_slope=0.01)\n",
      "    (2): Linear(in_features=512, out_features=20736, bias=True)\n",
      "    (3): LeakyReLU(negative_slope=0.01)\n",
      "    (4): Unflatten(dim=1, unflattened_size=(256, 9, 9))\n",
      "    (5): ConvTranspose2d(256, 128, kernel_size=(3, 3), stride=(1, 1), padding=(1, 1))\n",
      "    (6): LeakyReLU(negative_slope=0.01)\n",
      "    (7): ConvTranspose2d(128, 64, kernel_size=(3, 3), stride=(2, 2), padding=(1, 1))\n",
      "    (8): LeakyReLU(negative_slope=0.01)\n",
      "    (9): ConvTranspose2d(64, 32, kernel_size=(3, 3), stride=(2, 2), padding=(1, 1), output_padding=(1, 1))\n",
      "    (10): LeakyReLU(negative_slope=0.01)\n",
      "    (11): ConvTranspose2d(32, 3, kernel_size=(3, 3), stride=(2, 2), padding=(1, 1), output_padding=(1, 1))\n",
      "    (12): Sigmoid()\n",
      "  )\n",
      ")\n",
      "LatentClassifier_2(\n",
      "  (net): Sequential(\n",
      "    (0): Linear(in_features=256, out_features=512, bias=True)\n",
      "    (1): LeakyReLU(negative_slope=0.01)\n",
      "    (2): Linear(in_features=512, out_features=32, bias=True)\n",
      "    (3): LeakyReLU(negative_slope=0.01)\n",
      "    (4): Linear(in_features=32, out_features=64, bias=True)\n",
      "    (5): LeakyReLU(negative_slope=0.01)\n",
      "    (6): Linear(in_features=64, out_features=13, bias=True)\n",
      "  )\n",
      ")\n",
      "LatentClassifier_2_latent256_mean_\n",
      "The model has 150,957 trainable parameters\n"
     ]
    }
   ],
   "source": [
    "from models import LatentClassifier, VAE_CELL_CNN, LatentClassifier_2\n",
    "\n",
    "# load pre-trained model\n",
    "latent_dim = 256\n",
    "hidden_dim = 2*latent_dim\n",
    "\n",
    "# define dirs for the saving of model / data\n",
    "MODEL_DIR = \"trained_models/\"\n",
    "TRAIN_DATA_DIR = \"train_data/\"\n",
    "\n",
    "vae = VAE_CELL_CNN(input_dim=(3,68,68), hidden_dim=hidden_dim, latent_dim=latent_dim)\n",
    "# vae.load_state_dict(torch.load(MODEL_DIR + f\"VAE_CELL_CNN_latent{latent_dim}_mean_best_model.pth\"))\n",
    "vae.load_state_dict(torch.load(MODEL_DIR + f\"VAE_CELL_CNN_latent{latent_dim}_b1_mean_hpc_best_model.pth\"))\n",
    "vae.eval()\n",
    "latent_classifier = LatentClassifier_2(latent_dim=latent_dim, hidden_dim=hidden_dim, num_classes=len(dataset.dataset.classes))\n",
    "print(vae)\n",
    "print(latent_classifier)\n",
    "\n",
    "\n",
    "MODEL_NAME = f\"{latent_classifier.__class__.__name__}_latent{latent_classifier.latent_dim}_mean_\"\n",
    "print(MODEL_NAME)\n",
    "\n",
    "\n",
    "if cuda:\n",
    "    vae = vae.cuda()\n",
    "    latent_classifier = latent_classifier.cuda()\n",
    "\n",
    "optimizer = optim.Adam(latent_classifier.parameters(), lr=0.001)\n",
    "loss_fn = nn.CrossEntropyLoss()\n",
    "\n",
    "def count_parameters(model):\n",
    "    return sum(p.numel() for p in model.parameters() if p.requires_grad)\n",
    "\n",
    "print(f'The model has {count_parameters(latent_classifier):,} trainable parameters')\n",
    "\n"
   ]
  },
  {
   "cell_type": "code",
   "execution_count": 60,
   "metadata": {},
   "outputs": [
    {
     "name": "stdout",
     "output_type": "stream",
     "text": [
      "x.shape: torch.Size([64, 3, 68, 68])\n",
      "x_hat.shape: torch.Size([64, 3, 68, 68])\n",
      "output_latent.shape: torch.Size([64, 13])\n"
     ]
    }
   ],
   "source": [
    "# test forward pass\n",
    "x, y = next(iter(train_loader))\n",
    "print(f\"x.shape: {x.shape}\")\n",
    "\n",
    "if cuda:\n",
    "    x = x.cuda()\n",
    "\n",
    "output = vae(x)\n",
    "x_hat = output[\"x_hat\"]\n",
    "z = output[\"z\"]\n",
    "print(f\"x_hat.shape: {x_hat.shape}\")\n",
    "assert x_hat.shape == x.shape\n",
    "\n",
    "# test latent model\n",
    "output_latent = latent_classifier(z)\n",
    "print(f\"output_latent.shape: {output_latent.shape}\")\n",
    "\n",
    "# output.shape"
   ]
  },
  {
   "cell_type": "markdown",
   "metadata": {},
   "source": [
    "# Training loop"
   ]
  },
  {
   "cell_type": "code",
   "execution_count": 61,
   "metadata": {},
   "outputs": [
    {
     "name": "stdout",
     "output_type": "stream",
     "text": [
      "Epoch 1/50, loss: 1.1199116897841734, accuracy: 0.6727323914945955 val_loss: 1.015006876645959, val_accuracy: 0.6948454135954136\n",
      "Epoch 2/50, loss: 0.9996564376498226, accuracy: 0.7002689479365883 val_loss: 0.9812276985291865, val_accuracy: 0.7044686732186732\n",
      "Epoch 3/50, loss: 0.9791499325589115, accuracy: 0.704562730348862 val_loss: 0.9678066222029178, val_accuracy: 0.7086148648648649\n",
      "Epoch 4/50, loss: 0.9655928389885502, accuracy: 0.7079626501558454 val_loss: 0.9594028237703685, val_accuracy: 0.7096898034398035\n",
      "Epoch 5/50, loss: 0.9563631993473601, accuracy: 0.7098845294222883 val_loss: 0.9447412169633782, val_accuracy: 0.7135544635544635\n",
      "Epoch 6/50, loss: 0.9480738831313295, accuracy: 0.7123728842519522 val_loss: 0.9449993542820386, val_accuracy: 0.7129786036036037\n",
      "Epoch 7/50, loss: 0.942942110200723, accuracy: 0.7131743960015409 val_loss: 0.9365919138641263, val_accuracy: 0.7161906224406225\n",
      "Epoch 8/50, loss: 0.9365356314033392, accuracy: 0.7145989028817801 val_loss: 0.9368380134365385, val_accuracy: 0.7142582923832924\n",
      "Epoch 9/50, loss: 0.9323080080415654, accuracy: 0.7153050778075186 val_loss: 0.9276878138139149, val_accuracy: 0.7174831081081081\n",
      "Epoch 10/50, loss: 0.9277762450418152, accuracy: 0.7170300982849799 val_loss: 0.9287070012746728, val_accuracy: 0.7175854832104832\n",
      "Epoch 11/50, loss: 0.9247562123323737, accuracy: 0.7171983773668315 val_loss: 0.9219407776796261, val_accuracy: 0.7186860155610155\n",
      "Epoch 12/50, loss: 0.9219302868105953, accuracy: 0.718471241134 val_loss: 0.9207683754543317, val_accuracy: 0.7194026412776413\n",
      "Epoch 13/50, loss: 0.9185387702944042, accuracy: 0.7189829033676666 val_loss: 0.9150813991519684, val_accuracy: 0.7211174242424242\n",
      "Epoch 14/50, loss: 0.9170195691342435, accuracy: 0.7194107459838228 val_loss: 0.9140902244585836, val_accuracy: 0.7223587223587223\n",
      "Epoch 15/50, loss: 0.914925534012716, accuracy: 0.7194926460608413 val_loss: 0.9113676203361405, val_accuracy: 0.72125819000819\n",
      "Epoch 16/50, loss: 0.9128101203502152, accuracy: 0.720479286114863 val_loss: 0.9170869863443352, val_accuracy: 0.7216037059787059\n",
      "Epoch 17/50, loss: 0.9101285280005352, accuracy: 0.721009930389812 val_loss: 0.9079079304583048, val_accuracy: 0.7220260032760033\n",
      "Epoch 18/50, loss: 0.9080346812914376, accuracy: 0.7214827754036702 val_loss: 0.912422837974789, val_accuracy: 0.7218724406224406\n",
      "Epoch 19/50, loss: 0.9072274372994558, accuracy: 0.7225120717340762 val_loss: 0.9199514485694267, val_accuracy: 0.7195817977067978\n",
      "Epoch 20/50, loss: 0.9039522782883421, accuracy: 0.7224485138637134 val_loss: 0.9039864857893904, val_accuracy: 0.7248157248157249\n",
      "Epoch 21/50, loss: 0.9029743274663141, accuracy: 0.7221757268729901 val_loss: 0.9038744313759847, val_accuracy: 0.7236128173628174\n",
      "Epoch 22/50, loss: 0.9019197724838905, accuracy: 0.7229360752814525 val_loss: 0.9062119622781177, val_accuracy: 0.723203316953317\n",
      "Epoch 23/50, loss: 0.8998578379844467, accuracy: 0.7233922843387339 val_loss: 0.9022874127002547, val_accuracy: 0.7251100532350533\n",
      "Epoch 24/50, loss: 0.898741433993409, accuracy: 0.7237629675162219 val_loss: 0.9075921056555686, val_accuracy: 0.7223843161343161\n",
      "Epoch 25/50, loss: 0.8973089626316747, accuracy: 0.7246182261921167 val_loss: 0.9020129945510533, val_accuracy: 0.7246237714987716\n",
      "Epoch 26/50, loss: 0.8966870250746327, accuracy: 0.7245553081563806 val_loss: 0.903669273018544, val_accuracy: 0.7224994881244882\n",
      "Epoch 27/50, loss: 0.8959855462602179, accuracy: 0.7248202037313354 val_loss: 0.9005026129012612, val_accuracy: 0.7244190212940212\n",
      "Epoch 28/50, loss: 0.8944237167709778, accuracy: 0.7245919925696922 val_loss: 0.9013414494967871, val_accuracy: 0.7234976453726454\n",
      "Epoch 29/50, loss: 0.8919965948888164, accuracy: 0.7256189428153924 val_loss: 0.9055802786965335, val_accuracy: 0.7210022522522522\n",
      "Epoch 30/50, loss: 0.8911632816570397, accuracy: 0.7262845942590395 val_loss: 0.8987465600172678, val_accuracy: 0.7232161138411138\n",
      "Epoch 31/50, loss: 0.8915276587875919, accuracy: 0.7252320502377455 val_loss: 0.8984894525750947, val_accuracy: 0.7255323505323505\n",
      "Epoch 32/50, loss: 0.8899942243702094, accuracy: 0.7257309155836152 val_loss: 0.8976756088514977, val_accuracy: 0.7239711302211302\n",
      "Epoch 33/50, loss: 0.8892727264559337, accuracy: 0.7267798338143382 val_loss: 0.8939142048749448, val_accuracy: 0.7255707411957412\n",
      "Epoch 34/50, loss: 0.8879725671846977, accuracy: 0.7262466301642706 val_loss: 0.8919093807782432, val_accuracy: 0.7248541154791155\n",
      "Epoch 35/50, loss: 0.8868542708560251, accuracy: 0.7265765765814582 val_loss: 0.9021701444181431, val_accuracy: 0.7234464578214578\n",
      "Epoch 36/50, loss: 0.8850511945753582, accuracy: 0.7271291888536341 val_loss: 0.8932389558630826, val_accuracy: 0.7268248361998362\n",
      "Epoch 37/50, loss: 0.8852260543993025, accuracy: 0.7268350737247186 val_loss: 0.8893122056485394, val_accuracy: 0.7270295864045864\n",
      "Epoch 38/50, loss: 0.8843384781985084, accuracy: 0.7277690332434784 val_loss: 0.9085473504884628, val_accuracy: 0.7251740376740377\n",
      "Epoch 39/50, loss: 0.8830103303544546, accuracy: 0.727825552835316 val_loss: 0.8884326808282725, val_accuracy: 0.7273495085995086\n",
      "Epoch 40/50, loss: 0.8821485117810072, accuracy: 0.7286686544580405 val_loss: 0.8946937482489805, val_accuracy: 0.7256859131859131\n",
      "Epoch 41/50, loss: 0.88183002907975, accuracy: 0.727915770896725 val_loss: 0.9036534946292858, val_accuracy: 0.7227554258804259\n",
      "Epoch 42/50, loss: 0.8827734096288485, accuracy: 0.728500588666602 val_loss: 0.8993648557170896, val_accuracy: 0.7245597870597871\n",
      "Epoch 43/50, loss: 0.8807616154682334, accuracy: 0.7280422468028237 val_loss: 0.8929924376424857, val_accuracy: 0.7271703521703522\n",
      "Epoch 44/50, loss: 0.8800369973960321, accuracy: 0.7284378839212787 val_loss: 0.8901917679352803, val_accuracy: 0.7289107289107289\n",
      "Epoch 45/50, loss: 0.8784783539483529, accuracy: 0.7289542383365608 val_loss: 0.8887965574213758, val_accuracy: 0.7267608517608518\n",
      "Epoch 46/50, loss: 0.8773223775744828, accuracy: 0.728968314918019 val_loss: 0.887959446773287, val_accuracy: 0.726965601965602\n",
      "Epoch 47/50, loss: 0.8794974905425754, accuracy: 0.7279639725041721 val_loss: 0.8903173034694916, val_accuracy: 0.7264921171171171\n",
      "Epoch 48/50, loss: 0.8773962715480486, accuracy: 0.7291195314746719 val_loss: 0.8929275414623461, val_accuracy: 0.7266712735462736\n",
      "Epoch 49/50, loss: 0.8754994054794019, accuracy: 0.7289011312570853 val_loss: 0.8876872894023892, val_accuracy: 0.7277718058968059\n",
      "Epoch 50/50, loss: 0.8765496307164796, accuracy: 0.729540335800099 val_loss: 0.886179470849955, val_accuracy: 0.7283732596232596\n"
     ]
    }
   ],
   "source": [
    "val = True\n",
    "\n",
    "num_epochs = 50\n",
    "\n",
    "train_loss = []\n",
    "train_accuracy = []\n",
    "val_loss = []\n",
    "val_accuracy = []\n",
    "best_loss = np.inf\n",
    "\n",
    "for epoch in range(num_epochs):\n",
    "    latent_classifier.train()\n",
    "    batch_loss = []\n",
    "    batch_accuracy = []\n",
    "\n",
    "    for x, y in train_loader:\n",
    "        if cuda:\n",
    "            x, y = x.cuda(), y.cuda()\n",
    "\n",
    "        optimizer.zero_grad()\n",
    "\n",
    "        output = vae(x)\n",
    "        x_hat = output[\"x_hat\"]\n",
    "        z = output[\"z\"]\n",
    "\n",
    "        output_latent = latent_classifier(z)\n",
    "        loss = loss_fn(output_latent, y)\n",
    "        loss.backward()\n",
    "        optimizer.step()\n",
    "\n",
    "        batch_loss.append(loss.item())\n",
    "        batch_accuracy.append((output_latent.argmax(1) == y).float().mean().item())\n",
    "\n",
    "    train_loss.append(np.mean(batch_loss))\n",
    "    train_accuracy.append(np.mean(batch_accuracy))\n",
    "\n",
    "    if val:\n",
    "        latent_classifier.eval()\n",
    "        val_batch_loss = []\n",
    "        val_batch_accuracy = []\n",
    "        with torch.no_grad():\n",
    "            for x, y in val_loader:\n",
    "                if cuda:\n",
    "                    x, y = x.cuda(), y.cuda()\n",
    "\n",
    "                output = vae(x)\n",
    "                x_hat = output[\"x_hat\"]\n",
    "                z = output[\"z\"]\n",
    "\n",
    "                output_latent = latent_classifier(z)\n",
    "                loss = loss_fn(output_latent, y)\n",
    "\n",
    "                val_batch_loss.append(loss.item())\n",
    "                val_batch_accuracy.append((output_latent.argmax(1) == y).float().mean().item())\n",
    "\n",
    "            val_loss.append(np.mean(val_batch_loss))\n",
    "            val_accuracy.append(np.mean(val_batch_accuracy))\n",
    "\n",
    "            if val_loss[-1] < best_loss:\n",
    "                best_loss = val_loss[-1]\n",
    "                torch.save(latent_classifier.state_dict(), MODEL_DIR + MODEL_NAME + \"best_model.pth\")\n",
    "\n",
    "    \n",
    "    print(f\"Epoch {epoch+1}/{num_epochs}, loss: {train_loss[-1]}, accuracy: {train_accuracy[-1]} val_loss: {val_loss[-1]}, val_accuracy: {val_accuracy[-1]}\")"
   ]
  },
  {
   "cell_type": "markdown",
   "metadata": {},
   "source": [
    "# Evaluate model on test set"
   ]
  },
  {
   "cell_type": "code",
   "execution_count": 62,
   "metadata": {},
   "outputs": [
    {
     "name": "stdout",
     "output_type": "stream",
     "text": [
      "Test loss: 0.8919022440051595, Test accuracy: 0.7269666830386379\n"
     ]
    }
   ],
   "source": [
    "test_loss = []\n",
    "test_accuracy = []\n",
    "\n",
    "latent_classifier.eval()\n",
    "\n",
    "with torch.no_grad():\n",
    "    for x, y in test_loader:\n",
    "        if cuda:\n",
    "            x, y = x.cuda(), y.cuda()\n",
    "\n",
    "        output = vae(x)\n",
    "        x_hat = output[\"x_hat\"]\n",
    "        z = output[\"z\"]\n",
    "\n",
    "        output_latent = latent_classifier(z)\n",
    "        loss = loss_fn(output_latent, y)\n",
    "\n",
    "        test_loss.append(loss.item())\n",
    "        test_accuracy.append((output_latent.argmax(1) == y).float().mean().item())\n",
    "\n",
    "print(f\"Test loss: {np.mean(test_loss)}, Test accuracy: {np.mean(test_accuracy)}\")"
   ]
  },
  {
   "cell_type": "code",
   "execution_count": 63,
   "metadata": {},
   "outputs": [
    {
     "data": {
      "image/png": "[encoded data removed]",
      "text/plain": [
       "<Figure size 640x480 with 1 Axes>"
      ]
     },
     "metadata": {},
     "output_type": "display_data"
    },
    {
     "data": {
      "image/png": "[encoded data removed]",
      "text/plain": [
       "<Figure size 640x480 with 1 Axes>"
      ]
     },
     "metadata": {},
     "output_type": "display_data"
    },
    {
     "data": {
      "image/png": "[encoded data removed]",
      "text/plain": [
       "<Figure size 640x480 with 1 Axes>"
      ]
     },
     "metadata": {},
     "output_type": "display_data"
    }
   ],
   "source": [
    "# make a dictionary with the losses as keys and the values as lists\n",
    "loss_data = {}\n",
    "loss_data[\"train_loss\"] = train_loss\n",
    "loss_data[\"val_loss\"] = val_loss\n",
    "loss_data[\"test_loss\"] = np.mean(test_loss)\n",
    "\n",
    "accuracy_data = {}\n",
    "accuracy_data[\"train_accuracy\"] = train_accuracy\n",
    "accuracy_data[\"val_accuracy\"] = val_accuracy\n",
    "accuracy_data[\"test_accuracy\"] = np.mean(test_accuracy)\n",
    "\n",
    "\n",
    "loss_plots(loss_data, invidual_plots=True)\n",
    "# accuracy_plots(accuracy_data)\n",
    "\n",
    "# combine to one dict\n",
    "data = loss_data | accuracy_data\n",
    "\n",
    "# save the data\n",
    "df = pd.DataFrame(data)\n",
    "try:\n",
    "    old_df = pd.read_csv(TRAIN_DATA_DIR + MODEL_NAME + \"data.csv\")\n",
    "    df = pd.concat([old_df, df])\n",
    "except:\n",
    "    pass\n",
    "df.to_csv(TRAIN_DATA_DIR + MODEL_NAME + \"data.csv\", index=False)\n",
    "\n",
    "\n",
    "\n",
    "\n",
    "\n",
    "\n",
    "\n"
   ]
  }
 ],
 "metadata": {
  "kernelspec": {
   "display_name": "Python 3",
   "language": "python",
   "name": "python3"
  },
  "language_info": {
   "codemirror_mode": {
    "name": "ipython",
    "version": 3
   },
   "file_extension": ".py",
   "mimetype": "text/x-python",
   "name": "python",
   "nbconvert_exporter": "python",
   "pygments_lexer": "ipython3",
   "version": "3.9.13"
  }
 },
 "nbformat": 4,
 "nbformat_minor": 2
}
