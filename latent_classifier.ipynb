{
 "cells": [
  {
   "cell_type": "code",
   "execution_count": 1,
   "metadata": {},
   "outputs": [
    {
     "name": "stdout",
     "output_type": "stream",
     "text": [
      "True\n"
     ]
    }
   ],
   "source": [
    "import numpy as np\n",
    "import pandas as pd\n",
    "import torch\n",
    "import torch.nn as nn\n",
    "import torch.optim as optim\n",
    "import torch.nn.functional as F\n",
    "from torch.utils.data import DataLoader, Dataset\n",
    "from sklearn.model_selection import train_test_split\n",
    "from sklearn.preprocessing import StandardScaler\n",
    "from sklearn.metrics import accuracy_score\n",
    "from sklearn.metrics import confusion_matrix\n",
    "from sklearn.manifold import TSNE\n",
    "import matplotlib.pyplot as plt\n",
    "\n",
    "# mnist dataset\n",
    "from torchvision import datasets\n",
    "from torchvision.transforms import ToTensor\n",
    "from torchvision import transforms\n",
    "\n",
    "from dataset_tools import OwnDataset, make_train_test_val_split\n",
    "from plotting import (\n",
    "    plot_split_stratification,\n",
    "    show_img, \n",
    "    loss_plots, \n",
    "    plot_random_images, \n",
    "    plot_image_comparison, \n",
    "    plot_latent_train, \n",
    "    plot_latent)\n",
    "from collections import defaultdict\n",
    "\n",
    "\n",
    "cuda = torch.cuda.is_available()\n",
    "print(cuda)"
   ]
  },
  {
   "cell_type": "markdown",
   "metadata": {},
   "source": [
    "# Data"
   ]
  },
  {
   "cell_type": "code",
   "execution_count": 2,
   "metadata": {},
   "outputs": [
    {
     "name": "stdout",
     "output_type": "stream",
     "text": [
      "488396 4884 1527 1221\n"
     ]
    }
   ],
   "source": [
    "tf = transforms.Compose([\n",
    "    transforms.ToPILImage(),\n",
    "    transforms.ToTensor(),\n",
    "    # transforms.Lambda(lambda x: x.view(-1)) # notice that we dont flatten when we are going to use CNN\n",
    "])\n",
    "# dataset = OwnDataset(transform=tf)\n",
    "dataset = OwnDataset(transform=tf, path=r\"C:\\Users\\Otto\\Desktop\\Fagprojekt_data\\labelled_data\")\n",
    "train_subset, test_subset, val_subset = make_train_test_val_split(dataset)\n",
    "\n",
    "\n",
    "\n",
    "\n",
    "train_loader = DataLoader(train_subset, batch_size=64, shuffle=True, pin_memory=cuda)\n",
    "test_loader = DataLoader(test_subset, batch_size=64, shuffle=True, pin_memory=cuda)\n",
    "val_loader = DataLoader(val_subset, batch_size=64, shuffle=True, pin_memory=cuda)\n",
    "\n",
    "print(len(dataset), len(train_loader), len(test_loader), len(val_loader))"
   ]
  },
  {
   "cell_type": "code",
   "execution_count": 3,
   "metadata": {},
   "outputs": [
    {
     "data": {
      "image/png": "[encoded data removed]",
      "text/plain": [
       "<Figure size 2400x600 with 4 Axes>"
      ]
     },
     "metadata": {},
     "output_type": "display_data"
    },
    {
     "data": {
      "application/vnd.plotly.v1+json": {
       "config": {
        "plotlyServerURL": "https://plot.ly"
       },
       "data": [
        {
         "alignmentgroup": "True",
         "hovertemplate": "Dataset=Whole<br>Class=%{x}<br>Percentage=%{y}<extra></extra>",
         "legendgroup": "Whole",
         "marker": {
          "color": "#636efa",
          "pattern": {
           "shape": ""
          }
         },
         "name": "Whole",
         "offsetgroup": "Whole",
         "orientation": "v",
         "showlegend": true,
         "textposition": "auto",
         "type": "bar",
         "x": [
          0,
          1,
          2,
          3,
          4,
          5,
          6,
          7,
          8,
          9,
          10,
          11,
          12
         ],
         "xaxis": "x",
         "y": [
          0.01533796345588416,
          0.034418791308692125,
          0.011130312287569923,
          0.5658523001826387,
          0.033951957018485,
          0.012235972448586803,
          0.025645173179141518,
          0.030620643903717475,
          0.02379626368766329,
          0.031077240599841113,
          0.18255063514033695,
          0.01349110148322263,
          0.019891645304220346
         ],
         "yaxis": "y"
        },
        {
         "alignmentgroup": "True",
         "hovertemplate": "Dataset=Train<br>Class=%{x}<br>Percentage=%{y}<extra></extra>",
         "legendgroup": "Train",
         "marker": {
          "color": "#EF553B",
          "pattern": {
           "shape": ""
          }
         },
         "name": "Train",
         "offsetgroup": "Train",
         "orientation": "v",
         "showlegend": true,
         "textposition": "auto",
         "type": "bar",
         "x": [
          0,
          1,
          2,
          3,
          4,
          5,
          6,
          7,
          8,
          9,
          10,
          11,
          12
         ],
         "xaxis": "x",
         "y": [
          0.015212495041142521,
          0.03462242299374224,
          0.011075848124592095,
          0.5653769371536798,
          0.03388339326619147,
          0.012333158440295356,
          0.025581306067082143,
          0.030840894257962964,
          0.023834508529234865,
          0.0312791932738697,
          0.1825435419679306,
          0.013488092343524051,
          0.01992820854075221
         ],
         "yaxis": "y"
        },
        {
         "alignmentgroup": "True",
         "hovertemplate": "Dataset=Test<br>Class=%{x}<br>Percentage=%{y}<extra></extra>",
         "legendgroup": "Test",
         "marker": {
          "color": "#00cc96",
          "pattern": {
           "shape": ""
          }
         },
         "name": "Test",
         "offsetgroup": "Test",
         "orientation": "v",
         "showlegend": true,
         "textposition": "auto",
         "type": "bar",
         "x": [
          0,
          1,
          2,
          3,
          4,
          5,
          6,
          7,
          8,
          9,
          10,
          11,
          12
         ],
         "xaxis": "x",
         "y": [
          0.015786240786240788,
          0.03361998361998362,
          0.011414823914823916,
          0.5661855036855037,
          0.034101146601146604,
          0.01165028665028665,
          0.025,
          0.030118755118755117,
          0.023986486486486488,
          0.03102989352989353,
          0.18379402129402128,
          0.013493038493038493,
          0.01981981981981982
         ],
         "yaxis": "y"
        },
        {
         "alignmentgroup": "True",
         "hovertemplate": "Dataset=Val<br>Class=%{x}<br>Percentage=%{y}<extra></extra>",
         "legendgroup": "Val",
         "marker": {
          "color": "#ab63fa",
          "pattern": {
           "shape": ""
          }
         },
         "name": "Val",
         "offsetgroup": "Val",
         "orientation": "v",
         "showlegend": true,
         "textposition": "auto",
         "type": "bar",
         "x": [
          0,
          1,
          2,
          3,
          4,
          5,
          6,
          7,
          8,
          9,
          10,
          11,
          12
         ],
         "xaxis": "x",
         "y": [
          0.01527948402948403,
          0.034602784602784604,
          0.010992526617526617,
          0.5673372235872236,
          0.03403972153972154,
          0.012579340704340705,
          0.026707104832104832,
          0.030367014742014743,
          0.02340550778050778,
          0.030328624078624078,
          0.18102477477477477,
          0.013500716625716625,
          0.019835176085176084
         ],
         "yaxis": "y"
        }
       ],
       "layout": {
        "barmode": "group",
        "legend": {
         "title": {
          "text": "Dataset"
         },
         "tracegroupgap": 0
        },
        "margin": {
         "t": 60
        },
        "template": {
         "data": {
          "bar": [
           {
            "error_x": {
             "color": "#2a3f5f"
            },
            "error_y": {
             "color": "#2a3f5f"
            },
            "marker": {
             "line": {
              "color": "#E5ECF6",
              "width": 0.5
             },
             "pattern": {
              "fillmode": "overlay",
              "size": 10,
              "solidity": 0.2
             }
            },
            "type": "bar"
           }
          ],
          "barpolar": [
           {
            "marker": {
             "line": {
              "color": "#E5ECF6",
              "width": 0.5
             },
             "pattern": {
              "fillmode": "overlay",
              "size": 10,
              "solidity": 0.2
             }
            },
            "type": "barpolar"
           }
          ],
          "carpet": [
           {
            "aaxis": {
             "endlinecolor": "#2a3f5f",
             "gridcolor": "white",
             "linecolor": "white",
             "minorgridcolor": "white",
             "startlinecolor": "#2a3f5f"
            },
            "baxis": {
             "endlinecolor": "#2a3f5f",
             "gridcolor": "white",
             "linecolor": "white",
             "minorgridcolor": "white",
             "startlinecolor": "#2a3f5f"
            },
            "type": "carpet"
           }
          ],
          "choropleth": [
           {
            "colorbar": {
             "outlinewidth": 0,
             "ticks": ""
            },
            "type": "choropleth"
           }
          ],
          "contour": [
           {
            "colorbar": {
             "outlinewidth": 0,
             "ticks": ""
            },
            "colorscale": [
             [
              0,
              "#0d0887"
             ],
             [
              0.1111111111111111,
              "#46039f"
             ],
             [
              0.2222222222222222,
              "#7201a8"
             ],
             [
              0.3333333333333333,
              "#9c179e"
             ],
             [
              0.4444444444444444,
              "#bd3786"
             ],
             [
              0.5555555555555556,
              "#d8576b"
             ],
             [
              0.6666666666666666,
              "#ed7953"
             ],
             [
              0.7777777777777778,
              "#fb9f3a"
             ],
             [
              0.8888888888888888,
              "#fdca26"
             ],
             [
              1,
              "#f0f921"
             ]
            ],
            "type": "contour"
           }
          ],
          "contourcarpet": [
           {
            "colorbar": {
             "outlinewidth": 0,
             "ticks": ""
            },
            "type": "contourcarpet"
           }
          ],
          "heatmap": [
           {
            "colorbar": {
             "outlinewidth": 0,
             "ticks": ""
            },
            "colorscale": [
             [
              0,
              "#0d0887"
             ],
             [
              0.1111111111111111,
              "#46039f"
             ],
             [
              0.2222222222222222,
              "#7201a8"
             ],
             [
              0.3333333333333333,
              "#9c179e"
             ],
             [
              0.4444444444444444,
              "#bd3786"
             ],
             [
              0.5555555555555556,
              "#d8576b"
             ],
             [
              0.6666666666666666,
              "#ed7953"
             ],
             [
              0.7777777777777778,
              "#fb9f3a"
             ],
             [
              0.8888888888888888,
              "#fdca26"
             ],
             [
              1,
              "#f0f921"
             ]
            ],
            "type": "heatmap"
           }
          ],
          "heatmapgl": [
           {
            "colorbar": {
             "outlinewidth": 0,
             "ticks": ""
            },
            "colorscale": [
             [
              0,
              "#0d0887"
             ],
             [
              0.1111111111111111,
              "#46039f"
             ],
             [
              0.2222222222222222,
              "#7201a8"
             ],
             [
              0.3333333333333333,
              "#9c179e"
             ],
             [
              0.4444444444444444,
              "#bd3786"
             ],
             [
              0.5555555555555556,
              "#d8576b"
             ],
             [
              0.6666666666666666,
              "#ed7953"
             ],
             [
              0.7777777777777778,
              "#fb9f3a"
             ],
             [
              0.8888888888888888,
              "#fdca26"
             ],
             [
              1,
              "#f0f921"
             ]
            ],
            "type": "heatmapgl"
           }
          ],
          "histogram": [
           {
            "marker": {
             "pattern": {
              "fillmode": "overlay",
              "size": 10,
              "solidity": 0.2
             }
            },
            "type": "histogram"
           }
          ],
          "histogram2d": [
           {
            "colorbar": {
             "outlinewidth": 0,
             "ticks": ""
            },
            "colorscale": [
             [
              0,
              "#0d0887"
             ],
             [
              0.1111111111111111,
              "#46039f"
             ],
             [
              0.2222222222222222,
              "#7201a8"
             ],
             [
              0.3333333333333333,
              "#9c179e"
             ],
             [
              0.4444444444444444,
              "#bd3786"
             ],
             [
              0.5555555555555556,
              "#d8576b"
             ],
             [
              0.6666666666666666,
              "#ed7953"
             ],
             [
              0.7777777777777778,
              "#fb9f3a"
             ],
             [
              0.8888888888888888,
              "#fdca26"
             ],
             [
              1,
              "#f0f921"
             ]
            ],
            "type": "histogram2d"
           }
          ],
          "histogram2dcontour": [
           {
            "colorbar": {
             "outlinewidth": 0,
             "ticks": ""
            },
            "colorscale": [
             [
              0,
              "#0d0887"
             ],
             [
              0.1111111111111111,
              "#46039f"
             ],
             [
              0.2222222222222222,
              "#7201a8"
             ],
             [
              0.3333333333333333,
              "#9c179e"
             ],
             [
              0.4444444444444444,
              "#bd3786"
             ],
             [
              0.5555555555555556,
              "#d8576b"
             ],
             [
              0.6666666666666666,
              "#ed7953"
             ],
             [
              0.7777777777777778,
              "#fb9f3a"
             ],
             [
              0.8888888888888888,
              "#fdca26"
             ],
             [
              1,
              "#f0f921"
             ]
            ],
            "type": "histogram2dcontour"
           }
          ],
          "mesh3d": [
           {
            "colorbar": {
             "outlinewidth": 0,
             "ticks": ""
            },
            "type": "mesh3d"
           }
          ],
          "parcoords": [
           {
            "line": {
             "colorbar": {
              "outlinewidth": 0,
              "ticks": ""
             }
            },
            "type": "parcoords"
           }
          ],
          "pie": [
           {
            "automargin": true,
            "type": "pie"
           }
          ],
          "scatter": [
           {
            "fillpattern": {
             "fillmode": "overlay",
             "size": 10,
             "solidity": 0.2
            },
            "type": "scatter"
           }
          ],
          "scatter3d": [
           {
            "line": {
             "colorbar": {
              "outlinewidth": 0,
              "ticks": ""
             }
            },
            "marker": {
             "colorbar": {
              "outlinewidth": 0,
              "ticks": ""
             }
            },
            "type": "scatter3d"
           }
          ],
          "scattercarpet": [
           {
            "marker": {
             "colorbar": {
              "outlinewidth": 0,
              "ticks": ""
             }
            },
            "type": "scattercarpet"
           }
          ],
          "scattergeo": [
           {
            "marker": {
             "colorbar": {
              "outlinewidth": 0,
              "ticks": ""
             }
            },
            "type": "scattergeo"
           }
          ],
          "scattergl": [
           {
            "marker": {
             "colorbar": {
              "outlinewidth": 0,
              "ticks": ""
             }
            },
            "type": "scattergl"
           }
          ],
          "scattermapbox": [
           {
            "marker": {
             "colorbar": {
              "outlinewidth": 0,
              "ticks": ""
             }
            },
            "type": "scattermapbox"
           }
          ],
          "scatterpolar": [
           {
            "marker": {
             "colorbar": {
              "outlinewidth": 0,
              "ticks": ""
             }
            },
            "type": "scatterpolar"
           }
          ],
          "scatterpolargl": [
           {
            "marker": {
             "colorbar": {
              "outlinewidth": 0,
              "ticks": ""
             }
            },
            "type": "scatterpolargl"
           }
          ],
          "scatterternary": [
           {
            "marker": {
             "colorbar": {
              "outlinewidth": 0,
              "ticks": ""
             }
            },
            "type": "scatterternary"
           }
          ],
          "surface": [
           {
            "colorbar": {
             "outlinewidth": 0,
             "ticks": ""
            },
            "colorscale": [
             [
              0,
              "#0d0887"
             ],
             [
              0.1111111111111111,
              "#46039f"
             ],
             [
              0.2222222222222222,
              "#7201a8"
             ],
             [
              0.3333333333333333,
              "#9c179e"
             ],
             [
              0.4444444444444444,
              "#bd3786"
             ],
             [
              0.5555555555555556,
              "#d8576b"
             ],
             [
              0.6666666666666666,
              "#ed7953"
             ],
             [
              0.7777777777777778,
              "#fb9f3a"
             ],
             [
              0.8888888888888888,
              "#fdca26"
             ],
             [
              1,
              "#f0f921"
             ]
            ],
            "type": "surface"
           }
          ],
          "table": [
           {
            "cells": {
             "fill": {
              "color": "#EBF0F8"
             },
             "line": {
              "color": "white"
             }
            },
            "header": {
             "fill": {
              "color": "#C8D4E3"
             },
             "line": {
              "color": "white"
             }
            },
            "type": "table"
           }
          ]
         },
         "layout": {
          "annotationdefaults": {
           "arrowcolor": "#2a3f5f",
           "arrowhead": 0,
           "arrowwidth": 1
          },
          "autotypenumbers": "strict",
          "coloraxis": {
           "colorbar": {
            "outlinewidth": 0,
            "ticks": ""
           }
          },
          "colorscale": {
           "diverging": [
            [
             0,
             "#8e0152"
            ],
            [
             0.1,
             "#c51b7d"
            ],
            [
             0.2,
             "#de77ae"
            ],
            [
             0.3,
             "#f1b6da"
            ],
            [
             0.4,
             "#fde0ef"
            ],
            [
             0.5,
             "#f7f7f7"
            ],
            [
             0.6,
             "#e6f5d0"
            ],
            [
             0.7,
             "#b8e186"
            ],
            [
             0.8,
             "#7fbc41"
            ],
            [
             0.9,
             "#4d9221"
            ],
            [
             1,
             "#276419"
            ]
           ],
           "sequential": [
            [
             0,
             "#0d0887"
            ],
            [
             0.1111111111111111,
             "#46039f"
            ],
            [
             0.2222222222222222,
             "#7201a8"
            ],
            [
             0.3333333333333333,
             "#9c179e"
            ],
            [
             0.4444444444444444,
             "#bd3786"
            ],
            [
             0.5555555555555556,
             "#d8576b"
            ],
            [
             0.6666666666666666,
             "#ed7953"
            ],
            [
             0.7777777777777778,
             "#fb9f3a"
            ],
            [
             0.8888888888888888,
             "#fdca26"
            ],
            [
             1,
             "#f0f921"
            ]
           ],
           "sequentialminus": [
            [
             0,
             "#0d0887"
            ],
            [
             0.1111111111111111,
             "#46039f"
            ],
            [
             0.2222222222222222,
             "#7201a8"
            ],
            [
             0.3333333333333333,
             "#9c179e"
            ],
            [
             0.4444444444444444,
             "#bd3786"
            ],
            [
             0.5555555555555556,
             "#d8576b"
            ],
            [
             0.6666666666666666,
             "#ed7953"
            ],
            [
             0.7777777777777778,
             "#fb9f3a"
            ],
            [
             0.8888888888888888,
             "#fdca26"
            ],
            [
             1,
             "#f0f921"
            ]
           ]
          },
          "colorway": [
           "#636efa",
           "#EF553B",
           "#00cc96",
           "#ab63fa",
           "#FFA15A",
           "#19d3f3",
           "#FF6692",
           "#B6E880",
           "#FF97FF",
           "#FECB52"
          ],
          "font": {
           "color": "#2a3f5f"
          },
          "geo": {
           "bgcolor": "white",
           "lakecolor": "white",
           "landcolor": "#E5ECF6",
           "showlakes": true,
           "showland": true,
           "subunitcolor": "white"
          },
          "hoverlabel": {
           "align": "left"
          },
          "hovermode": "closest",
          "mapbox": {
           "style": "light"
          },
          "paper_bgcolor": "white",
          "plot_bgcolor": "#E5ECF6",
          "polar": {
           "angularaxis": {
            "gridcolor": "white",
            "linecolor": "white",
            "ticks": ""
           },
           "bgcolor": "#E5ECF6",
           "radialaxis": {
            "gridcolor": "white",
            "linecolor": "white",
            "ticks": ""
           }
          },
          "scene": {
           "xaxis": {
            "backgroundcolor": "#E5ECF6",
            "gridcolor": "white",
            "gridwidth": 2,
            "linecolor": "white",
            "showbackground": true,
            "ticks": "",
            "zerolinecolor": "white"
           },
           "yaxis": {
            "backgroundcolor": "#E5ECF6",
            "gridcolor": "white",
            "gridwidth": 2,
            "linecolor": "white",
            "showbackground": true,
            "ticks": "",
            "zerolinecolor": "white"
           },
           "zaxis": {
            "backgroundcolor": "#E5ECF6",
            "gridcolor": "white",
            "gridwidth": 2,
            "linecolor": "white",
            "showbackground": true,
            "ticks": "",
            "zerolinecolor": "white"
           }
          },
          "shapedefaults": {
           "line": {
            "color": "#2a3f5f"
           }
          },
          "ternary": {
           "aaxis": {
            "gridcolor": "white",
            "linecolor": "white",
            "ticks": ""
           },
           "baxis": {
            "gridcolor": "white",
            "linecolor": "white",
            "ticks": ""
           },
           "bgcolor": "#E5ECF6",
           "caxis": {
            "gridcolor": "white",
            "linecolor": "white",
            "ticks": ""
           }
          },
          "title": {
           "x": 0.05
          },
          "xaxis": {
           "automargin": true,
           "gridcolor": "white",
           "linecolor": "white",
           "ticks": "",
           "title": {
            "standoff": 15
           },
           "zerolinecolor": "white",
           "zerolinewidth": 2
          },
          "yaxis": {
           "automargin": true,
           "gridcolor": "white",
           "linecolor": "white",
           "ticks": "",
           "title": {
            "standoff": 15
           },
           "zerolinecolor": "white",
           "zerolinewidth": 2
          }
         }
        },
        "xaxis": {
         "anchor": "y",
         "domain": [
          0,
          1
         ],
         "title": {
          "text": "Class"
         }
        },
        "yaxis": {
         "anchor": "x",
         "domain": [
          0,
          1
         ],
         "title": {
          "text": "Percentage"
         }
        }
       }
      }
     },
     "metadata": {},
     "output_type": "display_data"
    }
   ],
   "source": [
    "plot_split_stratification(dataset, train_subset, test_subset, val_subset)"
   ]
  },
  {
   "cell_type": "code",
   "execution_count": 4,
   "metadata": {},
   "outputs": [
    {
     "data": {
      "image/png": "[encoded data removed]",
      "text/plain": [
       "<Figure size 640x480 with 1 Axes>"
      ]
     },
     "metadata": {},
     "output_type": "display_data"
    },
    {
     "data": {
      "text/plain": [
       "'Actin disruptors'"
      ]
     },
     "execution_count": 4,
     "metadata": {},
     "output_type": "execute_result"
    }
   ],
   "source": [
    "# get a sample image from the dataset\n",
    "sample = dataset[612][0]\n",
    "label = dataset[612][1]\n",
    "\n",
    "# show the image\n",
    "show_img(sample.view(3,68,68))\n",
    "\n",
    "# moa\n",
    "# data_train.dataset.class_to_idx\n",
    "dataset.dataset.classes[label]\n"
   ]
  },
  {
   "cell_type": "code",
   "execution_count": 5,
   "metadata": {},
   "outputs": [
    {
     "name": "stdout",
     "output_type": "stream",
     "text": [
      "VAE_CELL_CNN(\n",
      "  (encoder): Sequential(\n",
      "    (0): Conv2d(3, 32, kernel_size=(3, 3), stride=(2, 2), padding=(1, 1))\n",
      "    (1): LeakyReLU(negative_slope=0.01)\n",
      "    (2): Conv2d(32, 64, kernel_size=(3, 3), stride=(2, 2), padding=(1, 1))\n",
      "    (3): LeakyReLU(negative_slope=0.01)\n",
      "    (4): Conv2d(64, 128, kernel_size=(3, 3), stride=(2, 2), padding=(1, 1))\n",
      "    (5): LeakyReLU(negative_slope=0.01)\n",
      "    (6): Conv2d(128, 256, kernel_size=(3, 3), stride=(1, 1), padding=(1, 1))\n",
      "    (7): LeakyReLU(negative_slope=0.01)\n",
      "    (8): Flatten(start_dim=1, end_dim=-1)\n",
      "    (9): Linear(in_features=20736, out_features=64, bias=True)\n",
      "  )\n",
      "  (decoder): Sequential(\n",
      "    (0): Linear(in_features=32, out_features=64, bias=True)\n",
      "    (1): LeakyReLU(negative_slope=0.01)\n",
      "    (2): Linear(in_features=64, out_features=20736, bias=True)\n",
      "    (3): LeakyReLU(negative_slope=0.01)\n",
      "    (4): Unflatten(dim=1, unflattened_size=(256, 9, 9))\n",
      "    (5): ConvTranspose2d(256, 128, kernel_size=(3, 3), stride=(1, 1), padding=(1, 1))\n",
      "    (6): LeakyReLU(negative_slope=0.01)\n",
      "    (7): ConvTranspose2d(128, 64, kernel_size=(3, 3), stride=(2, 2), padding=(1, 1))\n",
      "    (8): LeakyReLU(negative_slope=0.01)\n",
      "    (9): ConvTranspose2d(64, 32, kernel_size=(3, 3), stride=(2, 2), padding=(1, 1), output_padding=(1, 1))\n",
      "    (10): LeakyReLU(negative_slope=0.01)\n",
      "    (11): ConvTranspose2d(32, 3, kernel_size=(3, 3), stride=(2, 2), padding=(1, 1), output_padding=(1, 1))\n",
      "    (12): Sigmoid()\n",
      "  )\n",
      ")\n",
      "LatentClassifier_2(\n",
      "  (net): Sequential(\n",
      "    (0): Linear(in_features=32, out_features=64, bias=True)\n",
      "    (1): LeakyReLU(negative_slope=0.01)\n",
      "    (2): Linear(in_features=64, out_features=32, bias=True)\n",
      "    (3): LeakyReLU(negative_slope=0.01)\n",
      "    (4): Linear(in_features=32, out_features=64, bias=True)\n",
      "    (5): LeakyReLU(negative_slope=0.01)\n",
      "    (6): Linear(in_features=64, out_features=13, bias=True)\n",
      "  )\n",
      ")\n",
      "LatentClassifier_2_latent32_mean_\n",
      "The model has 7,149 trainable parameters\n"
     ]
    }
   ],
   "source": [
    "from models import LatentClassifier, VAE_CELL_CNN, LatentClassifier_2\n",
    "\n",
    "# load pre-trained model\n",
    "latent_dim = 32\n",
    "hidden_dim = 2*latent_dim\n",
    "\n",
    "# define dirs for the saving of model / data\n",
    "MODEL_DIR = \"trained_models/\"\n",
    "TRAIN_DATA_DIR = \"train_data/\"\n",
    "\n",
    "vae = VAE_CELL_CNN(input_dim=(3,68,68), hidden_dim=hidden_dim, latent_dim=latent_dim)\n",
    "# vae.load_state_dict(torch.load(MODEL_DIR + f\"VAE_CELL_CNN_latent{latent_dim}_mean_best_model.pth\"))\n",
    "vae.load_state_dict(torch.load(MODEL_DIR + f\"VAE_CELL_CNN_latent{latent_dim}_mean_best_model.pth\"))\n",
    "vae.eval()\n",
    "latent_classifier = LatentClassifier_2(latent_dim=latent_dim, hidden_dim=hidden_dim, num_classes=len(dataset.dataset.classes))\n",
    "print(vae)\n",
    "print(latent_classifier)\n",
    "\n",
    "\n",
    "MODEL_NAME = f\"{latent_classifier.__class__.__name__}_latent{latent_classifier.latent_dim}_mean_\"\n",
    "print(MODEL_NAME)\n",
    "\n",
    "\n",
    "if cuda:\n",
    "    vae = vae.cuda()\n",
    "    latent_classifier = latent_classifier.cuda()\n",
    "\n",
    "optimizer = optim.Adam(latent_classifier.parameters(), lr=0.001)\n",
    "loss_fn = nn.CrossEntropyLoss()\n",
    "\n",
    "def count_parameters(model):\n",
    "    return sum(p.numel() for p in model.parameters() if p.requires_grad)\n",
    "\n",
    "print(f'The model has {count_parameters(latent_classifier):,} trainable parameters')\n",
    "\n"
   ]
  },
  {
   "cell_type": "code",
   "execution_count": 6,
   "metadata": {},
   "outputs": [
    {
     "name": "stdout",
     "output_type": "stream",
     "text": [
      "x.shape: torch.Size([64, 3, 68, 68])\n",
      "x_hat.shape: torch.Size([64, 3, 68, 68])\n",
      "output_latent.shape: torch.Size([64, 13])\n"
     ]
    }
   ],
   "source": [
    "# test forward pass\n",
    "x, y = next(iter(train_loader))\n",
    "print(f\"x.shape: {x.shape}\")\n",
    "\n",
    "if cuda:\n",
    "    x = x.cuda()\n",
    "\n",
    "output = vae(x)\n",
    "x_hat = output[\"x_hat\"]\n",
    "z = output[\"z\"]\n",
    "print(f\"x_hat.shape: {x_hat.shape}\")\n",
    "assert x_hat.shape == x.shape\n",
    "\n",
    "# test latent model\n",
    "output_latent = latent_classifier(z)\n",
    "print(f\"output_latent.shape: {output_latent.shape}\")\n",
    "\n",
    "# output.shape"
   ]
  },
  {
   "cell_type": "markdown",
   "metadata": {},
   "source": [
    "# Training loop"
   ]
  },
  {
   "cell_type": "code",
   "execution_count": 7,
   "metadata": {},
   "outputs": [
    {
     "name": "stdout",
     "output_type": "stream",
     "text": [
      "Epoch 1/50, loss: 1.0795897924929345, accuracy: 0.6842205842238387 val_loss: 0.9791229309652986, val_accuracy: 0.7043279074529074\n",
      "Epoch 2/50, loss: 0.9579856952165698, accuracy: 0.7114363653458697 val_loss: 0.9456216138371867, val_accuracy: 0.7152820434070434\n",
      "Epoch 3/50, loss: 0.9341830652478676, accuracy: 0.7161486059988649 val_loss: 0.9313875759946431, val_accuracy: 0.7181229524979525\n",
      "Epoch 4/50, loss: 0.9201039739020236, accuracy: 0.7190089236996781 val_loss: 0.9240631318600036, val_accuracy: 0.7197353603603603\n",
      "Epoch 5/50, loss: 0.9137232316799773, accuracy: 0.7211833282219007 val_loss: 0.9189889013376712, val_accuracy: 0.7190187346437347\n",
      "Epoch 6/50, loss: 0.9079866219833677, accuracy: 0.7225856538389083 val_loss: 0.9092546205214064, val_accuracy: 0.7233056920556921\n",
      "Epoch 7/50, loss: 0.9043448975311255, accuracy: 0.7234052945047398 val_loss: 0.9077671891982979, val_accuracy: 0.7240863022113022\n",
      "Epoch 8/50, loss: 0.9005112238380872, accuracy: 0.7245623464471097 val_loss: 0.9046499477752792, val_accuracy: 0.7235744266994267\n",
      "Epoch 9/50, loss: 0.8971774172980603, accuracy: 0.7251765970613603 val_loss: 0.9015554443526522, val_accuracy: 0.7242398648648649\n",
      "Epoch 10/50, loss: 0.8955086480389844, accuracy: 0.7257087343081795 val_loss: 0.9051993144622696, val_accuracy: 0.7227298321048321\n",
      "Epoch 11/50, loss: 0.8932711730766844, accuracy: 0.7256097717181665 val_loss: 0.8989577743725929, val_accuracy: 0.7248925061425061\n",
      "Epoch 12/50, loss: 0.8903753940293674, accuracy: 0.7268143854211531 val_loss: 0.8992706406419146, val_accuracy: 0.7247645372645373\n",
      "Epoch 13/50, loss: 0.8894678592974782, accuracy: 0.7267595720793945 val_loss: 0.8999734806731331, val_accuracy: 0.7241246928746928\n",
      "Epoch 14/50, loss: 0.8877512278991777, accuracy: 0.7273584664307297 val_loss: 0.8916879991690317, val_accuracy: 0.726965601965602\n",
      "Epoch 15/50, loss: 0.88708043501794, accuracy: 0.7273194359205084 val_loss: 0.9028632822435084, val_accuracy: 0.7225890663390664\n",
      "Epoch 16/50, loss: 0.8851747030512804, accuracy: 0.7279196099655049 val_loss: 0.9058206567112097, val_accuracy: 0.7241374897624898\n",
      "Epoch 17/50, loss: 0.884475728577761, accuracy: 0.7280313694433147 val_loss: 0.8927465383631591, val_accuracy: 0.7272599303849304\n",
      "Epoch 18/50, loss: 0.8825590853303988, accuracy: 0.7285592410649363 val_loss: 0.8966310012789656, val_accuracy: 0.7250972563472563\n",
      "Epoch 19/50, loss: 0.8824197361085573, accuracy: 0.7285108261792802 val_loss: 0.8879094008878057, val_accuracy: 0.7272599303849304\n",
      "Epoch 20/50, loss: 0.8814044528313585, accuracy: 0.7285421785519418 val_loss: 0.8916152934867959, val_accuracy: 0.725596334971335\n",
      "Epoch 21/50, loss: 0.8809813959592683, accuracy: 0.7285517762177894 val_loss: 0.890143608383035, val_accuracy: 0.7280789312039312\n",
      "Epoch 22/50, loss: 0.8792339460977661, accuracy: 0.728727093578166 val_loss: 0.8912094413355469, val_accuracy: 0.7260186322686323\n",
      "Epoch 23/50, loss: 0.8793207883383288, accuracy: 0.7295945092950269 val_loss: 0.8883882895978527, val_accuracy: 0.7261849918099919\n",
      "Epoch 24/50, loss: 0.8785765709067153, accuracy: 0.7294174856723673 val_loss: 0.890042722371638, val_accuracy: 0.7261338042588042\n",
      "Epoch 25/50, loss: 0.8773595617380814, accuracy: 0.7296651054561187 val_loss: 0.8870270876099495, val_accuracy: 0.7273367117117117\n",
      "Epoch 26/50, loss: 0.8769005242488015, accuracy: 0.7295789397416985 val_loss: 0.8944888048295014, val_accuracy: 0.7271191646191646\n",
      "Epoch 27/50, loss: 0.8763159763168644, accuracy: 0.729956021375289 val_loss: 0.8906345048173346, val_accuracy: 0.7263513513513513\n",
      "Epoch 28/50, loss: 0.8759338267141439, accuracy: 0.7303369420654553 val_loss: 0.8880186221523425, val_accuracy: 0.7257882882882883\n",
      "Epoch 29/50, loss: 0.8755769867703234, accuracy: 0.7299726573196618 val_loss: 0.8887616854334932, val_accuracy: 0.7274390868140869\n",
      "Epoch 30/50, loss: 0.874389073382041, accuracy: 0.7302424583788488 val_loss: 0.8844800023491709, val_accuracy: 0.727413493038493\n",
      "Epoch 31/50, loss: 0.874457871664947, accuracy: 0.7304877320534865 val_loss: 0.889012494236597, val_accuracy: 0.7269911957411958\n",
      "Epoch 32/50, loss: 0.8742818315311303, accuracy: 0.7306888564798697 val_loss: 0.8882589645555623, val_accuracy: 0.7256859131859131\n",
      "Epoch 33/50, loss: 0.8741373779049278, accuracy: 0.7303087889147429 val_loss: 0.8909452674234626, val_accuracy: 0.727989352989353\n",
      "Epoch 34/50, loss: 0.8737520774998789, accuracy: 0.7304574460840733 val_loss: 0.8858047735974205, val_accuracy: 0.7269528050778051\n",
      "Epoch 35/50, loss: 0.871660256793419, accuracy: 0.731253199236594 val_loss: 0.8832729600620114, val_accuracy: 0.7284628378378378\n",
      "Epoch 36/50, loss: 0.872118156766374, accuracy: 0.7309983278839047 val_loss: 0.8845899981811923, val_accuracy: 0.7276438370188371\n",
      "Epoch 37/50, loss: 0.870816475398271, accuracy: 0.7313879931148791 val_loss: 0.8833469233729623, val_accuracy: 0.7292178542178542\n",
      "Epoch 38/50, loss: 0.8718781233273208, accuracy: 0.730916854363304 val_loss: 0.8874308046115216, val_accuracy: 0.7267992424242424\n",
      "Epoch 39/50, loss: 0.8696495936565669, accuracy: 0.7315468878090918 val_loss: 0.8861422144566082, val_accuracy: 0.7274902743652744\n",
      "Epoch 40/50, loss: 0.8710756298401725, accuracy: 0.7311527436625069 val_loss: 0.8811815584857966, val_accuracy: 0.72878276003276\n",
      "Epoch 41/50, loss: 0.8707441301935526, accuracy: 0.7308262097454774 val_loss: 0.8832377186815432, val_accuracy: 0.7286803849303849\n",
      "Epoch 42/50, loss: 0.8696443681817969, accuracy: 0.7311393069278793 val_loss: 0.8789709774955777, val_accuracy: 0.7300240581490581\n",
      "Epoch 43/50, loss: 0.8688978492469206, accuracy: 0.7323573573654933 val_loss: 0.8859534686115509, val_accuracy: 0.7279253685503686\n",
      "Epoch 44/50, loss: 0.8690923745701978, accuracy: 0.7314820502450678 val_loss: 0.8844955946752813, val_accuracy: 0.7272599303849304\n",
      "Epoch 45/50, loss: 0.8710613185074562, accuracy: 0.7310665779480868 val_loss: 0.8806138727920745, val_accuracy: 0.7290259009009009\n",
      "Epoch 46/50, loss: 0.8696008152484797, accuracy: 0.7313135578850075 val_loss: 0.8785917635680612, val_accuracy: 0.7290386977886978\n",
      "Epoch 47/50, loss: 0.8692456802061891, accuracy: 0.7309313575011799 val_loss: 0.8861262596698202, val_accuracy: 0.7274262899262899\n",
      "Epoch 48/50, loss: 0.8670783115277809, accuracy: 0.7318467615472792 val_loss: 0.887424148051686, val_accuracy: 0.7281301187551188\n",
      "Epoch 49/50, loss: 0.868978822937908, accuracy: 0.7322121126841171 val_loss: 0.8812146667424623, val_accuracy: 0.7288851351351351\n",
      "Epoch 50/50, loss: 0.8680314397123581, accuracy: 0.731899442070337 val_loss: 0.8816766966863503, val_accuracy: 0.7276950245700246\n"
     ]
    }
   ],
   "source": [
    "val = True\n",
    "\n",
    "num_epochs = 50\n",
    "\n",
    "train_loss = []\n",
    "train_accuracy = []\n",
    "val_loss = []\n",
    "val_accuracy = []\n",
    "best_loss = np.inf\n",
    "\n",
    "for epoch in range(num_epochs):\n",
    "    latent_classifier.train()\n",
    "    batch_loss = []\n",
    "    batch_accuracy = []\n",
    "\n",
    "    for x, y in train_loader:\n",
    "        if cuda:\n",
    "            x, y = x.cuda(), y.cuda()\n",
    "\n",
    "        optimizer.zero_grad()\n",
    "\n",
    "        output = vae(x)\n",
    "        x_hat = output[\"x_hat\"]\n",
    "        z = output[\"z\"]\n",
    "\n",
    "        output_latent = latent_classifier(z)\n",
    "        loss = loss_fn(output_latent, y)\n",
    "        loss.backward()\n",
    "        optimizer.step()\n",
    "\n",
    "        batch_loss.append(loss.item())\n",
    "        batch_accuracy.append((output_latent.argmax(1) == y).float().mean().item())\n",
    "\n",
    "    train_loss.append(np.mean(batch_loss))\n",
    "    train_accuracy.append(np.mean(batch_accuracy))\n",
    "\n",
    "    if val:\n",
    "        latent_classifier.eval()\n",
    "        val_batch_loss = []\n",
    "        val_batch_accuracy = []\n",
    "        with torch.no_grad():\n",
    "            for x, y in val_loader:\n",
    "                if cuda:\n",
    "                    x, y = x.cuda(), y.cuda()\n",
    "\n",
    "                output = vae(x)\n",
    "                x_hat = output[\"x_hat\"]\n",
    "                z = output[\"z\"]\n",
    "\n",
    "                output_latent = latent_classifier(z)\n",
    "                loss = loss_fn(output_latent, y)\n",
    "\n",
    "                val_batch_loss.append(loss.item())\n",
    "                val_batch_accuracy.append((output_latent.argmax(1) == y).float().mean().item())\n",
    "\n",
    "            val_loss.append(np.mean(val_batch_loss))\n",
    "            val_accuracy.append(np.mean(val_batch_accuracy))\n",
    "\n",
    "            if val_loss[-1] < best_loss:\n",
    "                best_loss = val_loss[-1]\n",
    "                torch.save(latent_classifier.state_dict(), MODEL_DIR + MODEL_NAME + \"best_model.pth\")\n",
    "\n",
    "    \n",
    "    print(f\"Epoch {epoch+1}/{num_epochs}, loss: {train_loss[-1]}, accuracy: {train_accuracy[-1]} val_loss: {val_loss[-1]}, val_accuracy: {val_accuracy[-1]}\")"
   ]
  },
  {
   "cell_type": "markdown",
   "metadata": {},
   "source": [
    "# Evaluate model on test set"
   ]
  },
  {
   "cell_type": "code",
   "execution_count": 9,
   "metadata": {},
   "outputs": [
    {
     "name": "stdout",
     "output_type": "stream",
     "text": [
      "Test loss: 0.8747653458816363, Test accuracy: 0.7299443352979699\n"
     ]
    }
   ],
   "source": [
    "test_loss = []\n",
    "test_accuracy = []\n",
    "\n",
    "latent_classifier.eval()\n",
    "\n",
    "with torch.no_grad():\n",
    "    for x, y in test_loader:\n",
    "        if cuda:\n",
    "            x, y = x.cuda(), y.cuda()\n",
    "\n",
    "        output = vae(x)\n",
    "        x_hat = output[\"x_hat\"]\n",
    "        z = output[\"z\"]\n",
    "\n",
    "        output_latent = latent_classifier(z)\n",
    "        loss = loss_fn(output_latent, y)\n",
    "\n",
    "        test_loss.append(loss.item())\n",
    "        test_accuracy.append((output_latent.argmax(1) == y).float().mean().item())\n",
    "\n",
    "print(f\"Test loss: {np.mean(test_loss)}, Test accuracy: {np.mean(test_accuracy)}\")"
   ]
  },
  {
   "cell_type": "code",
   "execution_count": 10,
   "metadata": {},
   "outputs": [
    {
     "data": {
      "image/png": "[encoded data removed]",
      "text/plain": [
       "<Figure size 640x480 with 1 Axes>"
      ]
     },
     "metadata": {},
     "output_type": "display_data"
    },
    {
     "data": {
      "image/png": "[encoded data removed]",
      "text/plain": [
       "<Figure size 640x480 with 1 Axes>"
      ]
     },
     "metadata": {},
     "output_type": "display_data"
    },
    {
     "data": {
      "image/png": "[encoded data removed]",
      "text/plain": [
       "<Figure size 640x480 with 1 Axes>"
      ]
     },
     "metadata": {},
     "output_type": "display_data"
    }
   ],
   "source": [
    "# make a dictionary with the losses as keys and the values as lists\n",
    "loss_data = {}\n",
    "loss_data[\"train_loss\"] = train_loss\n",
    "loss_data[\"val_loss\"] = val_loss\n",
    "loss_data[\"test_loss\"] = np.mean(test_loss)\n",
    "\n",
    "accuracy_data = {}\n",
    "accuracy_data[\"train_accuracy\"] = train_accuracy\n",
    "accuracy_data[\"val_accuracy\"] = val_accuracy\n",
    "accuracy_data[\"test_accuracy\"] = np.mean(test_accuracy)\n",
    "\n",
    "\n",
    "loss_plots(loss_data, invidual_plots=True)\n",
    "# accuracy_plots(accuracy_data)\n",
    "\n",
    "# combine to one dict\n",
    "data = loss_data | accuracy_data\n",
    "\n",
    "# save the data\n",
    "df = pd.DataFrame(data)\n",
    "try:\n",
    "    old_df = pd.read_csv(TRAIN_DATA_DIR + MODEL_NAME + \"data.csv\")\n",
    "    df = pd.concat([old_df, df])\n",
    "except:\n",
    "    pass\n",
    "df.to_csv(TRAIN_DATA_DIR + MODEL_NAME + \"data.csv\", index=False)\n",
    "\n"
   ]
  }
 ],
 "metadata": {
  "kernelspec": {
   "display_name": "Python 3",
   "language": "python",
   "name": "python3"
  },
  "language_info": {
   "codemirror_mode": {
    "name": "ipython",
    "version": 3
   },
   "file_extension": ".py",
   "mimetype": "text/x-python",
   "name": "python",
   "nbconvert_exporter": "python",
   "pygments_lexer": "ipython3",
   "version": "3.9.13"
  }
 },
 "nbformat": 4,
 "nbformat_minor": 2
}
