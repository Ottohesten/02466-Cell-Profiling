{
 "cells": [
  {
   "cell_type": "code",
   "execution_count": null,
   "metadata": {},
   "outputs": [],
   "source": [
    "import numpy as np\n",
    "from statsmodels.stats.contingency_tables import mcnemar\n",
    "\n",
    "#loading models \n",
    "model_A_predictions = np.load('trained_models/model_A_predictions.npy')\n",
    "model_B_predictions = np.load('trained_models/model_B_predictions.npy')\n",
    "true_labels = np.load('train_data/true_labels.npy')  # True values \n",
    "\n",
    "\n",
    "assert len(model_A_predictions) == len(model_B_predictions) == len(true_labels)\n",
    "\n",
    "# contingency table \n",
    "n00 = n01 = n10 = n11 = 0\n",
    "\n",
    "for true, pred_A, pred_B in zip(true_labels, model_A_predictions, model_B_predictions):\n",
    "    if pred_A == true and pred_B == true:\n",
    "        n00 += 1\n",
    "    elif pred_A == true and pred_B != true:\n",
    "        n01 += 1\n",
    "    elif pred_A != true and pred_B == true:\n",
    "        n10 += 1\n",
    "    else:\n",
    "        n11 += 1\n",
    "\n",
    "table = [[n00, n01], [n10, n11]]\n",
    "\n",
    "# Running macnemar and interpreting p-value \n",
    "result = mcnemar(table, exact=True)\n",
    "print(f'statistic={result.statistic}, p-value={result.pvalue}')\n",
    "\n",
    "alpha = 0.05\n",
    "if result.pvalue < alpha:\n",
    "    print('Significant difference in performance (reject H0)')\n",
    "else:\n",
    "    print('No significant difference in performance (fail to reject H0)')\n"
   ]
  }
 ],
 "metadata": {
  "language_info": {
   "name": "python"
  }
 },
 "nbformat": 4,
 "nbformat_minor": 2
}
