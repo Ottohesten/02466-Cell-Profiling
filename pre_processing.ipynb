{
 "cells": [
  {
   "cell_type": "code",
   "execution_count": 1,
   "metadata": {},
   "outputs": [],
   "source": [
    "import numpy as np\n",
    "import pandas as pd\n",
    "import os\n",
    "import glob\n",
    "import shutil\n",
    "import tqdm\n",
    "import torch\n",
    "from torchvision import datasets\n",
    "from torch.utils.data import Dataset, DataLoader\n",
    "from torchvision import transforms\n",
    "from dataset_tools import OwnDataset, MNIST\n"
   ]
  },
  {
   "cell_type": "code",
   "execution_count": 2,
   "metadata": {},
   "outputs": [],
   "source": [
    "data_path = \"data/singh_cp_pipeline_singlecell_images\"\n",
    "\n",
    "folder_paths = glob.glob(os.path.join(data_path, \"*\"))\n",
    "\n",
    "len(folder_paths)\n",
    "\n",
    "# folder_paths\n",
    "\n",
    "subset_folder_paths = folder_paths[:50]\n",
    "\n",
    "# copy the first 50 folders to a new directory\n",
    "new_data_path = \"data_subset/singh_cp_pipeline_singlecell_images\"\n"
   ]
  },
  {
   "cell_type": "code",
   "execution_count": 3,
   "metadata": {},
   "outputs": [],
   "source": [
    "for folder_path in subset_folder_paths:\n",
    "    folder_name = folder_path.split(\"\\\\\")[-1]\n",
    "    new_folder_path = os.path.join(new_data_path, folder_name)\n",
    "    shutil.copytree(folder_path, new_folder_path)\n",
    "    print(f\"Copying {folder_name} to {new_folder_path}\")"
   ]
  },
  {
   "cell_type": "code",
   "execution_count": 4,
   "metadata": {},
   "outputs": [],
   "source": [
    "# combine all the npy files into a single numpy array\n",
    "npy_files = glob.glob(os.path.join(new_data_path, \"*\", \"*.npy\"))\n",
    "len(npy_files)\n",
    "\n",
    "file_1 = np.load(npy_files[0])\n",
    "file_2 = np.load(npy_files[1])\n",
    "\n",
    "total_data = np.array([])\n",
    "\n",
    "\n"
   ]
  },
  {
   "cell_type": "code",
   "execution_count": 5,
   "metadata": {},
   "outputs": [],
   "source": [
    "# use tqdm to see progress\n",
    "\n",
    "# for i, npy_file in enumerate(tqdm.tqdm(npy_files)):\n",
    "#     data = np.load(npy_file)\n",
    "#     data = (data / np.max(data) * 255).astype(np.int8)\n",
    "#     if i == 0:\n",
    "#         total_data = np.expand_dims(data, axis=0)\n",
    "#     else:\n",
    "#         total_data = np.vstack((total_data, np.expand_dims(data, axis=0)))\n",
    "#     if i == 10:\n",
    "#         break"
   ]
  },
  {
   "cell_type": "code",
   "execution_count": 6,
   "metadata": {},
   "outputs": [],
   "source": [
    "dataset = MNIST"
   ]
  },
  {
   "cell_type": "code",
   "execution_count": 12,
   "metadata": {},
   "outputs": [],
   "source": [
    "loader = DataLoader(dataset, batch_size=32, shuffle=True)"
   ]
  }
 ],
 "metadata": {
  "kernelspec": {
   "display_name": "Python 3",
   "language": "python",
   "name": "python3"
  },
  "language_info": {
   "codemirror_mode": {
    "name": "ipython",
    "version": 3
   },
   "file_extension": ".py",
   "mimetype": "text/x-python",
   "name": "python",
   "nbconvert_exporter": "python",
   "pygments_lexer": "ipython3",
   "version": "3.9.13"
  }
 },
 "nbformat": 4,
 "nbformat_minor": 2
}
