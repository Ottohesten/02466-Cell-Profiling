{
 "cells": [
  {
   "cell_type": "code",
   "execution_count": null,
   "metadata": {},
   "outputs": [],
   "source": [
    "import numpy as np\n",
    "import pandas as pd\n",
    "import os\n",
    "import glob\n",
    "import shutil\n"
   ]
  },
  {
   "cell_type": "code",
   "execution_count": null,
   "metadata": {},
   "outputs": [
    {
     "data": {
      "text/plain": [
       "3848"
      ]
     },
     "execution_count": 5,
     "metadata": {},
     "output_type": "execute_result"
    }
   ],
   "source": [
    "data_path = \"data/singh_cp_pipeline_singlecell_images\"\n",
    "\n",
    "folder_paths = glob.glob(os.path.join(data_path, \"*\"))\n",
    "\n",
    "len(folder_paths)\n",
    "\n",
    "# folder_paths"
   ]
  },
  {
   "cell_type": "code",
   "execution_count": null,
   "metadata": {},
   "outputs": [],
   "source": [
    "subset_folder_paths = folder_paths[:50]\n",
    "\n",
    "# copy the first 50 folders to a new directory\n",
    "new_data_path = \"data_subset/singh_cp_pipeline_singlecell_images\"\n",
    "\n",
    "for folder_path in subset_folder_paths:\n",
    "    folder_name = folder_path.split(\"\\\\\")[-1]\n",
    "    new_folder_path = os.path.join(new_data_path, folder_name)\n",
    "    shutil.copytree(folder_path, new_folder_path)\n",
    "\n"
   ]
  },
  {
   "cell_type": "code",
   "execution_count": null,
   "metadata": {},
   "outputs": [],
   "source": []
  },
  {
   "cell_type": "code",
   "execution_count": null,
   "metadata": {},
   "outputs": [
    {
     "data": {
      "text/plain": [
       "'B05_s1_w115AF18B3-CC94-4110-A357-C17EDED6C036'"
      ]
     },
     "execution_count": 11,
     "metadata": {},
     "output_type": "execute_result"
    }
   ],
   "source": []
  }
 ],
 "metadata": {
  "kernelspec": {
   "display_name": "Python 3",
   "language": "python",
   "name": "python3"
  },
  "language_info": {
   "codemirror_mode": {
    "name": "ipython",
    "version": 3
   },
   "file_extension": ".py",
   "mimetype": "text/x-python",
   "name": "python",
   "nbconvert_exporter": "python",
   "pygments_lexer": "ipython3",
   "version": "3.9.13"
  }
 },
 "nbformat": 4,
 "nbformat_minor": 2
}
