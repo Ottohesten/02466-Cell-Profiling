{
 "cells": [
  {
   "cell_type": "code",
   "execution_count": 12,
   "metadata": {},
   "outputs": [],
   "source": [
    "import numpy as np\n",
    "import pandas as pd\n",
    "import os\n",
    "import glob\n",
    "import shutil\n",
    "import tqdm\n",
    "import torch\n",
    "from torchvision import datasets\n",
    "from torch.utils.data import Dataset, DataLoader\n",
    "from torchvision import transforms\n",
    "from dataset_tools import OwnDataset, MNIST\n",
    "import matplotlib.pyplot as plt\n",
    "\n",
    "from plotting import show_img\n"
   ]
  },
  {
   "cell_type": "code",
   "execution_count": 5,
   "metadata": {},
   "outputs": [
    {
     "name": "stdout",
     "output_type": "stream",
     "text": [
      "3848\n"
     ]
    }
   ],
   "source": [
    "data_path = r\"C:\\Users\\Otto\\Desktop\\Fagprojekt_data\\singh_cp_pipeline_singlecell_images\"\n",
    "\n",
    "folder_paths = glob.glob(os.path.join(data_path, \"*\"))\n",
    "\n",
    "print(len(folder_paths))\n",
    "\n",
    "# folder_paths\n",
    "\n",
    "subset_folder_paths = folder_paths[:50]\n"
   ]
  },
  {
   "cell_type": "code",
   "execution_count": 4,
   "metadata": {},
   "outputs": [],
   "source": [
    "# for folder_path in subset_folder_paths:\n",
    "#     folder_name = folder_path.split(\"\\\\\")[-1]\n",
    "#     new_folder_path = os.path.join(new_data_path, folder_name)\n",
    "#     shutil.copytree(folder_path, new_folder_path)\n",
    "#     print(f\"Copying {folder_name} to {new_folder_path}\")"
   ]
  },
  {
   "cell_type": "code",
   "execution_count": 13,
   "metadata": {},
   "outputs": [
    {
     "data": {
      "text/plain": [
       "7774"
      ]
     },
     "execution_count": 13,
     "metadata": {},
     "output_type": "execute_result"
    }
   ],
   "source": [
    "# load metadata\n",
    "df_metadata = pd.read_parquet(\"metadata.parquet\")\n",
    "\n",
    "\n",
    "# npy_paths = glob.glob(os.path.join(data_path, \"*\", \"*.npy\"))\n",
    "npy_paths = glob.glob(os.path.join(data_path, \"*\", \"*.npy\"))\n",
    "len(npy_paths)\n",
    "\n"
   ]
  },
  {
   "cell_type": "code",
   "execution_count": 14,
   "metadata": {},
   "outputs": [
    {
     "name": "stderr",
     "output_type": "stream",
     "text": [
      "100%|██████████| 7774/7774 [03:02<00:00, 42.57it/s]\n"
     ]
    }
   ],
   "source": [
    "# use tqdm to see progress\n",
    "save_path = \"data_subset\\\\\"\n",
    "\n",
    "# get the moa for each file, and put it in a folder named after the moa\n",
    "for i, npy_path in enumerate(tqdm.tqdm(npy_paths)):\n",
    "    data = np.load(npy_path)\n",
    "    # data = (data / np.max(data) * 255).astype(np.int8)\n",
    "    lookup_path = npy_path.split(\"\\\\\")[-1]\n",
    "    moa = df_metadata[df_metadata[\"Single_Cell_Image_Name\"] == lookup_path][\"moa\"].values[0]\n",
    "\n",
    "    # get file under data_folder named moa\n",
    "    # if not exists, create it\n",
    "    os.makedirs(os.path.join(save_path, moa), exist_ok=True)\n",
    "    # save the file\n",
    "    file_path = os.path.join(save_path, moa, lookup_path)\n",
    "    np.save(file_path, data)\n",
    "\n",
    "    \n",
    "    # if i == 0:\n",
    "    #     total_data = np.expand_dims(data, axis=0)\n",
    "    # else:\n",
    "    #     total_data = np.vstack((total_data, np.expand_dims(data, axis=0)))\n",
    "    # if i == 1000:\n",
    "    #     break"
   ]
  },
  {
   "cell_type": "code",
   "execution_count": null,
   "metadata": {},
   "outputs": [],
   "source": [
    "dataset = MNIST(train=True, transform=transforms.ToTensor())\n",
    "dataset"
   ]
  },
  {
   "cell_type": "code",
   "execution_count": null,
   "metadata": {},
   "outputs": [],
   "source": [
    "loader = DataLoader(dataset, batch_size=32, shuffle=True)"
   ]
  },
  {
   "cell_type": "code",
   "execution_count": null,
   "metadata": {},
   "outputs": [],
   "source": [
    "x, y = next(iter(loader))\n",
    "\n",
    "y"
   ]
  },
  {
   "cell_type": "code",
   "execution_count": null,
   "metadata": {},
   "outputs": [],
   "source": [
    "\n",
    "def npy_loader(path):\n",
    "    \"\"\"\n",
    "    load a npy file and change the dtype to int8\n",
    "    \"\"\"\n",
    "    sample = np.load(path)\n",
    "\n",
    "    sample = (sample / np.max(sample) * 255).astype(np.uint8)\n",
    "\n",
    "    sample = torch.from_numpy(sample)\n",
    "    # make channel the first dimension\n",
    "    sample = sample.permute(2, 0, 1)\n",
    "\n",
    "    return sample\n"
   ]
  },
  {
   "cell_type": "code",
   "execution_count": null,
   "metadata": {},
   "outputs": [],
   "source": [
    "dataset = datasets.DatasetFolder(\"data_subset/singh_cp_pipeline_singlecell_images\", loader=npy_loader, extensions=('.npy',))\n",
    "# dataset = OwnDataset()\n",
    "\n",
    "dataset[3050][0].shape\n",
    "show_img(dataset[3051][0])"
   ]
  },
  {
   "cell_type": "code",
   "execution_count": null,
   "metadata": {},
   "outputs": [],
   "source": [
    "train_loader = DataLoader(dataset, batch_size=32, shuffle=True)"
   ]
  },
  {
   "cell_type": "markdown",
   "metadata": {},
   "source": [
    "# metadata"
   ]
  },
  {
   "cell_type": "code",
   "execution_count": null,
   "metadata": {},
   "outputs": [],
   "source": [
    "# df_metadata = pd.read_csv(\"metadata.csv\", index_col=0)\n",
    "# df_features = pd.read_csv(\"CPfeatures.csv\", index_col=0) # very large file (4.2 GB)\n",
    "\n",
    "# read from parquet instead of csv\n",
    "\n",
    "# df_features = pd.read_parquet(\"CPfeatures.parquet\")"
   ]
  },
  {
   "cell_type": "code",
   "execution_count": null,
   "metadata": {},
   "outputs": [],
   "source": [
    "df_metadata.head()\n",
    "# df_features.head()"
   ]
  },
  {
   "cell_type": "code",
   "execution_count": null,
   "metadata": {},
   "outputs": [],
   "source": [
    "df_metadata[\"Multi_Cell_Image_Id\"].unique()"
   ]
  }
 ],
 "metadata": {
  "kernelspec": {
   "display_name": "Python 3",
   "language": "python",
   "name": "python3"
  },
  "language_info": {
   "codemirror_mode": {
    "name": "ipython",
    "version": 3
   },
   "file_extension": ".py",
   "mimetype": "text/x-python",
   "name": "python",
   "nbconvert_exporter": "python",
   "pygments_lexer": "ipython3",
   "version": "3.11.7"
  }
 },
 "nbformat": 4,
 "nbformat_minor": 2
}
