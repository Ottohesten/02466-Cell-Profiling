{
 "cells": [
  {
   "cell_type": "code",
   "execution_count": 1,
   "metadata": {},
   "outputs": [],
   "source": [
    "import numpy as np\n",
    "import pandas as pd\n",
    "import os\n",
    "import glob\n",
    "import shutil\n",
    "import tqdm\n",
    "import torch\n",
    "from torchvision import datasets\n",
    "from torch.utils.data import Dataset, DataLoader\n",
    "from torchvision import transforms\n",
    "from dataset_tools import OwnDataset, MNIST\n"
   ]
  },
  {
   "cell_type": "code",
   "execution_count": 3,
   "metadata": {},
   "outputs": [],
   "source": [
    "data_path = \"data/singh_cp_pipeline_singlecell_images\"\n",
    "\n",
    "folder_paths = glob.glob(os.path.join(data_path, \"*\"))\n",
    "\n",
    "len(folder_paths)\n",
    "\n",
    "# folder_paths\n",
    "\n",
    "subset_folder_paths = folder_paths[:50]\n",
    "\n",
    "# copy the first 50 folders to a new directory\n",
    "new_data_path = \"data_subset/singh_cp_pipeline_singlecell_images\"\n"
   ]
  },
  {
   "cell_type": "code",
   "execution_count": 4,
   "metadata": {},
   "outputs": [],
   "source": [
    "for folder_path in subset_folder_paths:\n",
    "    folder_name = folder_path.split(\"\\\\\")[-1]\n",
    "    new_folder_path = os.path.join(new_data_path, folder_name)\n",
    "    shutil.copytree(folder_path, new_folder_path)\n",
    "    print(f\"Copying {folder_name} to {new_folder_path}\")"
   ]
  },
  {
   "cell_type": "code",
   "execution_count": 5,
   "metadata": {},
   "outputs": [],
   "source": [
    "# combine all the npy files into a single numpy array\n",
    "npy_files = glob.glob(os.path.join(new_data_path, \"*\", \"*.npy\"))\n",
    "len(npy_files)\n",
    "\n",
    "file_1 = np.load(npy_files[0])\n",
    "file_2 = np.load(npy_files[1])\n",
    "\n",
    "total_data = np.array([])\n",
    "\n",
    "\n"
   ]
  },
  {
   "cell_type": "code",
   "execution_count": 6,
   "metadata": {},
   "outputs": [],
   "source": [
    "# use tqdm to see progress\n",
    "\n",
    "# for i, npy_file in enumerate(tqdm.tqdm(npy_files)):\n",
    "#     data = np.load(npy_file)\n",
    "#     data = (data / np.max(data) * 255).astype(np.int8)\n",
    "#     if i == 0:\n",
    "#         total_data = np.expand_dims(data, axis=0)\n",
    "#     else:\n",
    "#         total_data = np.vstack((total_data, np.expand_dims(data, axis=0)))\n",
    "#     if i == 10:\n",
    "#         break"
   ]
  },
  {
   "cell_type": "code",
   "execution_count": 7,
   "metadata": {},
   "outputs": [
    {
     "data": {
      "text/plain": [
       "<dataset_tools.MNIST at 0x15372f7f850>"
      ]
     },
     "execution_count": 7,
     "metadata": {},
     "output_type": "execute_result"
    }
   ],
   "source": [
    "dataset = MNIST(train=True, transform=transforms.ToTensor())\n",
    "dataset"
   ]
  },
  {
   "cell_type": "code",
   "execution_count": 8,
   "metadata": {},
   "outputs": [],
   "source": [
    "loader = DataLoader(dataset, batch_size=32, shuffle=True)"
   ]
  },
  {
   "cell_type": "code",
   "execution_count": 9,
   "metadata": {},
   "outputs": [
    {
     "data": {
      "text/plain": [
       "tensor([7, 9, 5, 9, 7, 4, 2, 6, 5, 9, 1, 1, 8, 7, 8, 8, 7, 4, 9, 5, 1, 9, 7, 1,\n",
       "        7, 6, 6, 3, 4, 8, 1, 3])"
      ]
     },
     "execution_count": 9,
     "metadata": {},
     "output_type": "execute_result"
    }
   ],
   "source": [
    "x, y = next(iter(loader))\n",
    "\n",
    "y"
   ]
  },
  {
   "cell_type": "code",
   "execution_count": 35,
   "metadata": {},
   "outputs": [],
   "source": [
    "def npy_loader(path):\n",
    "    \"\"\"\n",
    "    load a npy file and change the dtype to int8\n",
    "    \"\"\"\n",
    "    sample = torch.from_numpy(np.load(path).astype(np.uint8))\n",
    "    # make channel the first dimension\n",
    "    sample = sample.permute(2, 0, 1)\n",
    "\n",
    "    return sample\n"
   ]
  },
  {
   "cell_type": "code",
   "execution_count": 37,
   "metadata": {},
   "outputs": [
    {
     "data": {
      "text/plain": [
       "torch.Size([68, 68, 3])"
      ]
     },
     "execution_count": 37,
     "metadata": {},
     "output_type": "execute_result"
    }
   ],
   "source": [
    "dataset = datasets.DatasetFolder(\"data_subset/singh_cp_pipeline_singlecell_images\", loader=npy_loader, extensions=('.npy',))\n",
    "# dataset = OwnDataset()\n",
    "\n",
    "dataset[3050][0].shape"
   ]
  },
  {
   "cell_type": "code",
   "execution_count": 16,
   "metadata": {},
   "outputs": [],
   "source": [
    "train_loader = DataLoader(dataset, batch_size=32, shuffle=True)"
   ]
  },
  {
   "cell_type": "markdown",
   "metadata": {},
   "source": [
    "# metadata"
   ]
  },
  {
   "cell_type": "code",
   "execution_count": 18,
   "metadata": {},
   "outputs": [],
   "source": [
    "# df_metadata = pd.read_csv(\"metadata.csv\", index_col=0)\n",
    "# df_features = pd.read_csv(\"CPfeatures.csv\", index_col=0) # very large file (4.2 GB)\n",
    "\n",
    "# read from parquet instead of csv\n",
    "df_metadata = pd.read_parquet(\"metadata.parquet\")\n",
    "df_features = pd.read_parquet(\"CPfeatures.parquet\")"
   ]
  },
  {
   "cell_type": "code",
   "execution_count": 21,
   "metadata": {},
   "outputs": [
    {
     "data": {
      "text/html": [
       "<div>\n",
       "<style scoped>\n",
       "    .dataframe tbody tr th:only-of-type {\n",
       "        vertical-align: middle;\n",
       "    }\n",
       "\n",
       "    .dataframe tbody tr th {\n",
       "        vertical-align: top;\n",
       "    }\n",
       "\n",
       "    .dataframe thead th {\n",
       "        text-align: right;\n",
       "    }\n",
       "</style>\n",
       "<table border=\"1\" class=\"dataframe\">\n",
       "  <thead>\n",
       "    <tr style=\"text-align: right;\">\n",
       "      <th></th>\n",
       "      <th>ImageNumber</th>\n",
       "      <th>ObjectNumber</th>\n",
       "      <th>Metadata_folder</th>\n",
       "      <th>Metadata_well</th>\n",
       "      <th>Cytoplasm_AreaShape_Area</th>\n",
       "      <th>Cytoplasm_AreaShape_Center_X</th>\n",
       "      <th>Cytoplasm_AreaShape_Center_Y</th>\n",
       "      <th>Cytoplasm_AreaShape_Compactness</th>\n",
       "      <th>Cytoplasm_AreaShape_Eccentricity</th>\n",
       "      <th>Cytoplasm_AreaShape_Extent</th>\n",
       "      <th>...</th>\n",
       "      <th>dapi_name</th>\n",
       "      <th>actin_name</th>\n",
       "      <th>tubulin_name</th>\n",
       "      <th>single_img_name</th>\n",
       "      <th>plate_well</th>\n",
       "      <th>Image_Metadata_Plate_DAPI</th>\n",
       "      <th>Image_Metadata_Well_DAPI</th>\n",
       "      <th>Image_Metadata_Compound</th>\n",
       "      <th>Image_Metadata_Concentration</th>\n",
       "      <th>moa</th>\n",
       "    </tr>\n",
       "  </thead>\n",
       "  <tbody>\n",
       "    <tr>\n",
       "      <th>0</th>\n",
       "      <td>1.0</td>\n",
       "      <td>7.0</td>\n",
       "      <td>Week10_40111</td>\n",
       "      <td>B02</td>\n",
       "      <td>0.193999</td>\n",
       "      <td>-2.057102</td>\n",
       "      <td>-0.689976</td>\n",
       "      <td>-0.104216</td>\n",
       "      <td>0.646993</td>\n",
       "      <td>1.125279</td>\n",
       "      <td>...</td>\n",
       "      <td>Week10_200907_B02_s1_w18E215662-2CF7-4739-93F3...</td>\n",
       "      <td>Week10_200907_B02_s1_w2D492FCE4-15C2-4C66-99A5...</td>\n",
       "      <td>Week10_200907_B02_s1_w436D0A3BC-098D-4271-B5AA...</td>\n",
       "      <td>Week10_200907_B02_s1_w18E215662-2CF7-4739-93F3...</td>\n",
       "      <td>Week10_40111_B02</td>\n",
       "      <td>Week10_40111</td>\n",
       "      <td>B02</td>\n",
       "      <td>DMSO</td>\n",
       "      <td>0.0</td>\n",
       "      <td>DMSO</td>\n",
       "    </tr>\n",
       "    <tr>\n",
       "      <th>1</th>\n",
       "      <td>1.0</td>\n",
       "      <td>8.0</td>\n",
       "      <td>Week10_40111</td>\n",
       "      <td>B02</td>\n",
       "      <td>-0.562693</td>\n",
       "      <td>1.533842</td>\n",
       "      <td>-0.876157</td>\n",
       "      <td>-0.486278</td>\n",
       "      <td>-0.768380</td>\n",
       "      <td>0.803726</td>\n",
       "      <td>...</td>\n",
       "      <td>Week10_200907_B02_s1_w18E215662-2CF7-4739-93F3...</td>\n",
       "      <td>Week10_200907_B02_s1_w2D492FCE4-15C2-4C66-99A5...</td>\n",
       "      <td>Week10_200907_B02_s1_w436D0A3BC-098D-4271-B5AA...</td>\n",
       "      <td>Week10_200907_B02_s1_w18E215662-2CF7-4739-93F3...</td>\n",
       "      <td>Week10_40111_B02</td>\n",
       "      <td>Week10_40111</td>\n",
       "      <td>B02</td>\n",
       "      <td>DMSO</td>\n",
       "      <td>0.0</td>\n",
       "      <td>DMSO</td>\n",
       "    </tr>\n",
       "    <tr>\n",
       "      <th>2</th>\n",
       "      <td>1.0</td>\n",
       "      <td>9.0</td>\n",
       "      <td>Week10_40111</td>\n",
       "      <td>B02</td>\n",
       "      <td>0.717717</td>\n",
       "      <td>-1.877555</td>\n",
       "      <td>-0.317613</td>\n",
       "      <td>-0.660598</td>\n",
       "      <td>-1.629161</td>\n",
       "      <td>0.080157</td>\n",
       "      <td>...</td>\n",
       "      <td>Week10_200907_B02_s1_w18E215662-2CF7-4739-93F3...</td>\n",
       "      <td>Week10_200907_B02_s1_w2D492FCE4-15C2-4C66-99A5...</td>\n",
       "      <td>Week10_200907_B02_s1_w436D0A3BC-098D-4271-B5AA...</td>\n",
       "      <td>Week10_200907_B02_s1_w18E215662-2CF7-4739-93F3...</td>\n",
       "      <td>Week10_40111_B02</td>\n",
       "      <td>Week10_40111</td>\n",
       "      <td>B02</td>\n",
       "      <td>DMSO</td>\n",
       "      <td>0.0</td>\n",
       "      <td>DMSO</td>\n",
       "    </tr>\n",
       "    <tr>\n",
       "      <th>3</th>\n",
       "      <td>1.0</td>\n",
       "      <td>10.0</td>\n",
       "      <td>Week10_40111</td>\n",
       "      <td>B02</td>\n",
       "      <td>0.017374</td>\n",
       "      <td>-0.441177</td>\n",
       "      <td>0.427112</td>\n",
       "      <td>-0.475127</td>\n",
       "      <td>-1.047884</td>\n",
       "      <td>-0.305084</td>\n",
       "      <td>...</td>\n",
       "      <td>Week10_200907_B02_s1_w18E215662-2CF7-4739-93F3...</td>\n",
       "      <td>Week10_200907_B02_s1_w2D492FCE4-15C2-4C66-99A5...</td>\n",
       "      <td>Week10_200907_B02_s1_w436D0A3BC-098D-4271-B5AA...</td>\n",
       "      <td>Week10_200907_B02_s1_w18E215662-2CF7-4739-93F3...</td>\n",
       "      <td>Week10_40111_B02</td>\n",
       "      <td>Week10_40111</td>\n",
       "      <td>B02</td>\n",
       "      <td>DMSO</td>\n",
       "      <td>0.0</td>\n",
       "      <td>DMSO</td>\n",
       "    </tr>\n",
       "    <tr>\n",
       "      <th>4</th>\n",
       "      <td>1.0</td>\n",
       "      <td>11.0</td>\n",
       "      <td>Week10_40111</td>\n",
       "      <td>B02</td>\n",
       "      <td>-0.226017</td>\n",
       "      <td>-1.698008</td>\n",
       "      <td>-2.737971</td>\n",
       "      <td>0.912409</td>\n",
       "      <td>1.299734</td>\n",
       "      <td>-1.537763</td>\n",
       "      <td>...</td>\n",
       "      <td>Week10_200907_B02_s1_w18E215662-2CF7-4739-93F3...</td>\n",
       "      <td>Week10_200907_B02_s1_w2D492FCE4-15C2-4C66-99A5...</td>\n",
       "      <td>Week10_200907_B02_s1_w436D0A3BC-098D-4271-B5AA...</td>\n",
       "      <td>Week10_200907_B02_s1_w18E215662-2CF7-4739-93F3...</td>\n",
       "      <td>Week10_40111_B02</td>\n",
       "      <td>Week10_40111</td>\n",
       "      <td>B02</td>\n",
       "      <td>DMSO</td>\n",
       "      <td>0.0</td>\n",
       "      <td>DMSO</td>\n",
       "    </tr>\n",
       "  </tbody>\n",
       "</table>\n",
       "<p>5 rows × 467 columns</p>\n",
       "</div>"
      ],
      "text/plain": [
       "   ImageNumber  ObjectNumber Metadata_folder Metadata_well  \\\n",
       "0          1.0           7.0    Week10_40111           B02   \n",
       "1          1.0           8.0    Week10_40111           B02   \n",
       "2          1.0           9.0    Week10_40111           B02   \n",
       "3          1.0          10.0    Week10_40111           B02   \n",
       "4          1.0          11.0    Week10_40111           B02   \n",
       "\n",
       "   Cytoplasm_AreaShape_Area  Cytoplasm_AreaShape_Center_X  \\\n",
       "0                  0.193999                     -2.057102   \n",
       "1                 -0.562693                      1.533842   \n",
       "2                  0.717717                     -1.877555   \n",
       "3                  0.017374                     -0.441177   \n",
       "4                 -0.226017                     -1.698008   \n",
       "\n",
       "   Cytoplasm_AreaShape_Center_Y  Cytoplasm_AreaShape_Compactness  \\\n",
       "0                     -0.689976                        -0.104216   \n",
       "1                     -0.876157                        -0.486278   \n",
       "2                     -0.317613                        -0.660598   \n",
       "3                      0.427112                        -0.475127   \n",
       "4                     -2.737971                         0.912409   \n",
       "\n",
       "   Cytoplasm_AreaShape_Eccentricity  Cytoplasm_AreaShape_Extent  ...  \\\n",
       "0                          0.646993                    1.125279  ...   \n",
       "1                         -0.768380                    0.803726  ...   \n",
       "2                         -1.629161                    0.080157  ...   \n",
       "3                         -1.047884                   -0.305084  ...   \n",
       "4                          1.299734                   -1.537763  ...   \n",
       "\n",
       "                                           dapi_name  \\\n",
       "0  Week10_200907_B02_s1_w18E215662-2CF7-4739-93F3...   \n",
       "1  Week10_200907_B02_s1_w18E215662-2CF7-4739-93F3...   \n",
       "2  Week10_200907_B02_s1_w18E215662-2CF7-4739-93F3...   \n",
       "3  Week10_200907_B02_s1_w18E215662-2CF7-4739-93F3...   \n",
       "4  Week10_200907_B02_s1_w18E215662-2CF7-4739-93F3...   \n",
       "\n",
       "                                          actin_name  \\\n",
       "0  Week10_200907_B02_s1_w2D492FCE4-15C2-4C66-99A5...   \n",
       "1  Week10_200907_B02_s1_w2D492FCE4-15C2-4C66-99A5...   \n",
       "2  Week10_200907_B02_s1_w2D492FCE4-15C2-4C66-99A5...   \n",
       "3  Week10_200907_B02_s1_w2D492FCE4-15C2-4C66-99A5...   \n",
       "4  Week10_200907_B02_s1_w2D492FCE4-15C2-4C66-99A5...   \n",
       "\n",
       "                                        tubulin_name  \\\n",
       "0  Week10_200907_B02_s1_w436D0A3BC-098D-4271-B5AA...   \n",
       "1  Week10_200907_B02_s1_w436D0A3BC-098D-4271-B5AA...   \n",
       "2  Week10_200907_B02_s1_w436D0A3BC-098D-4271-B5AA...   \n",
       "3  Week10_200907_B02_s1_w436D0A3BC-098D-4271-B5AA...   \n",
       "4  Week10_200907_B02_s1_w436D0A3BC-098D-4271-B5AA...   \n",
       "\n",
       "                                     single_img_name        plate_well  \\\n",
       "0  Week10_200907_B02_s1_w18E215662-2CF7-4739-93F3...  Week10_40111_B02   \n",
       "1  Week10_200907_B02_s1_w18E215662-2CF7-4739-93F3...  Week10_40111_B02   \n",
       "2  Week10_200907_B02_s1_w18E215662-2CF7-4739-93F3...  Week10_40111_B02   \n",
       "3  Week10_200907_B02_s1_w18E215662-2CF7-4739-93F3...  Week10_40111_B02   \n",
       "4  Week10_200907_B02_s1_w18E215662-2CF7-4739-93F3...  Week10_40111_B02   \n",
       "\n",
       "   Image_Metadata_Plate_DAPI  Image_Metadata_Well_DAPI  \\\n",
       "0               Week10_40111                       B02   \n",
       "1               Week10_40111                       B02   \n",
       "2               Week10_40111                       B02   \n",
       "3               Week10_40111                       B02   \n",
       "4               Week10_40111                       B02   \n",
       "\n",
       "   Image_Metadata_Compound  Image_Metadata_Concentration   moa  \n",
       "0                     DMSO                           0.0  DMSO  \n",
       "1                     DMSO                           0.0  DMSO  \n",
       "2                     DMSO                           0.0  DMSO  \n",
       "3                     DMSO                           0.0  DMSO  \n",
       "4                     DMSO                           0.0  DMSO  \n",
       "\n",
       "[5 rows x 467 columns]"
      ]
     },
     "execution_count": 21,
     "metadata": {},
     "output_type": "execute_result"
    }
   ],
   "source": [
    "df_metadata.head()\n",
    "df_features.head()"
   ]
  }
 ],
 "metadata": {
  "kernelspec": {
   "display_name": "Python 3",
   "language": "python",
   "name": "python3"
  },
  "language_info": {
   "codemirror_mode": {
    "name": "ipython",
    "version": 3
   },
   "file_extension": ".py",
   "mimetype": "text/x-python",
   "name": "python",
   "nbconvert_exporter": "python",
   "pygments_lexer": "ipython3",
   "version": "3.9.13"
  }
 },
 "nbformat": 4,
 "nbformat_minor": 2
}
