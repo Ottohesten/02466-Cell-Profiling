{
 "cells": [
  {
   "cell_type": "code",
   "execution_count": 1,
   "metadata": {},
   "outputs": [
    {
     "name": "stdout",
     "output_type": "stream",
     "text": [
      "True\n"
     ]
    }
   ],
   "source": [
    "import numpy as np\n",
    "import pandas as pd\n",
    "import torch\n",
    "import torch.nn as nn\n",
    "import torch.optim as optim\n",
    "import torch.nn.functional as F\n",
    "from torch.utils.data import DataLoader, Dataset\n",
    "from sklearn.model_selection import train_test_split\n",
    "from sklearn.preprocessing import StandardScaler\n",
    "from sklearn.metrics import accuracy_score\n",
    "from sklearn.metrics import confusion_matrix\n",
    "from sklearn.manifold import TSNE\n",
    "import matplotlib.pyplot as plt\n",
    "\n",
    "# mnist dataset\n",
    "from torchvision import datasets\n",
    "from torchvision.transforms import ToTensor\n",
    "from torchvision import transforms\n",
    "\n",
    "from dataset_tools import OwnDataset, make_train_test_val_split\n",
    "from plotting import show_img, loss_plots, plot_random_images, plot_image_comparison, plot_latent\n",
    "from collections import defaultdict\n",
    "\n",
    "\n",
    "cuda = torch.cuda.is_available()\n",
    "print(cuda)"
   ]
  },
  {
   "cell_type": "markdown",
   "metadata": {},
   "source": [
    "# Data"
   ]
  },
  {
   "cell_type": "code",
   "execution_count": 2,
   "metadata": {},
   "outputs": [
    {
     "name": "stdout",
     "output_type": "stream",
     "text": [
      "488396 4884 1527 1221\n"
     ]
    }
   ],
   "source": [
    "val = True\n",
    "tf = transforms.Compose([\n",
    "    transforms.ToPILImage(),\n",
    "    transforms.ToTensor(),\n",
    "    # transforms.Lambda(lambda x: x.view(-1)) # notice that we dont flatten when we are going to use CNN\n",
    "])\n",
    "dataset = OwnDataset(transform=tf, path=r\"C:\\Users\\Otto\\Desktop\\Fagprojekt_data\\labelled_data\")\n",
    "# dataset = OwnDataset(transform=tf)\n",
    "train_subset, test_subset, val_subset = make_train_test_val_split(dataset)\n",
    "\n",
    "\n",
    "\n",
    "\n",
    "train_loader = DataLoader(train_subset, batch_size=64, shuffle=True, pin_memory=cuda)\n",
    "test_loader = DataLoader(test_subset, batch_size=64, shuffle=True, pin_memory=cuda)\n",
    "val_loader = DataLoader(val_subset, batch_size=64, shuffle=True, pin_memory=cuda)\n",
    "\n",
    "print(len(dataset), len(train_loader), len(test_loader), len(val_loader))"
   ]
  },
  {
   "cell_type": "code",
   "execution_count": 3,
   "metadata": {},
   "outputs": [],
   "source": [
    "# # get breakdown of different classes present in the dataset\n",
    "# class_count = defaultdict(int)\n",
    "# for i in range(len(dataset)):\n",
    "#     class_count[dataset[i][1]] += 1"
   ]
  },
  {
   "cell_type": "code",
   "execution_count": 4,
   "metadata": {},
   "outputs": [],
   "source": [
    "# print(class_count.keys())\n",
    "# # data_train.dataset.class_to_idx\n",
    "\n",
    "# # plot\n",
    "# plt.bar(class_count.keys(), class_count.values())"
   ]
  },
  {
   "cell_type": "code",
   "execution_count": 5,
   "metadata": {},
   "outputs": [],
   "source": [
    "# class_count.keys()"
   ]
  },
  {
   "cell_type": "code",
   "execution_count": 6,
   "metadata": {},
   "outputs": [
    {
     "data": {
      "image/png": "[encoded data removed]",
      "text/plain": [
       "<Figure size 640x480 with 1 Axes>"
      ]
     },
     "metadata": {},
     "output_type": "display_data"
    },
    {
     "data": {
      "text/plain": [
       "'Actin disruptors'"
      ]
     },
     "execution_count": 6,
     "metadata": {},
     "output_type": "execute_result"
    }
   ],
   "source": [
    "# get a sample image from the dataset\n",
    "sample = dataset[612][0]\n",
    "label = dataset[612][1]\n",
    "\n",
    "# show the image\n",
    "show_img(sample.view(3,68,68))\n",
    "\n",
    "# moa\n",
    "# data_train.dataset.class_to_idx\n",
    "dataset.dataset.classes[label]\n"
   ]
  },
  {
   "cell_type": "markdown",
   "metadata": {},
   "source": [
    "# Classifier"
   ]
  },
  {
   "cell_type": "code",
   "execution_count": 7,
   "metadata": {},
   "outputs": [
    {
     "name": "stdout",
     "output_type": "stream",
     "text": [
      "CELL_CNN_CLASSIFIER(\n",
      "  (net): Sequential(\n",
      "    (0): Conv2d(3, 32, kernel_size=(3, 3), stride=(2, 2), padding=(1, 1))\n",
      "    (1): LeakyReLU(negative_slope=0.01)\n",
      "    (2): Conv2d(32, 64, kernel_size=(3, 3), stride=(2, 2), padding=(1, 1))\n",
      "    (3): LeakyReLU(negative_slope=0.01)\n",
      "    (4): Conv2d(64, 128, kernel_size=(3, 3), stride=(2, 2), padding=(1, 1))\n",
      "    (5): LeakyReLU(negative_slope=0.01)\n",
      "    (6): Conv2d(128, 256, kernel_size=(3, 3), stride=(1, 1), padding=(1, 1))\n",
      "    (7): LeakyReLU(negative_slope=0.01)\n",
      "    (8): Flatten(start_dim=1, end_dim=-1)\n",
      "    (9): Linear(in_features=20736, out_features=128, bias=True)\n",
      "    (10): LeakyReLU(negative_slope=0.01)\n",
      "    (11): Linear(in_features=128, out_features=13, bias=True)\n",
      "  )\n",
      ")\n",
      "The model has 3,044,429 trainable parameters\n"
     ]
    }
   ],
   "source": [
    "from models import CELL_CNN_CLASSIFIER, CELL_CNN_CLASSIFIER_2\n",
    "\n",
    "model = CELL_CNN_CLASSIFIER(input_dim=(3, 68, 68), hidden_dim=128, num_classes=len(dataset.dataset.classes))\n",
    "# model = CELL_CNN_CLASSIFIER_2(input_dim=(3, 68, 68), hidden_dim=128, num_classes=13)\n",
    "print(model)\n",
    "\n",
    "if cuda:\n",
    "    model = model.cuda()\n",
    "\n",
    "optimizer = optim.Adam(model.parameters(), lr=0.001)\n",
    "loss_function = nn.CrossEntropyLoss()\n",
    "\n",
    "\n",
    "# number of trainable parameters\n",
    "def count_parameters(model):\n",
    "    return sum(p.numel() for p in model.parameters() if p.requires_grad)\n",
    "\n",
    "print(f'The model has {count_parameters(model):,} trainable parameters')\n",
    "\n"
   ]
  },
  {
   "cell_type": "code",
   "execution_count": 8,
   "metadata": {},
   "outputs": [
    {
     "name": "stdout",
     "output_type": "stream",
     "text": [
      "x.shape: torch.Size([64, 3, 68, 68])\n"
     ]
    },
    {
     "data": {
      "text/plain": [
       "torch.Size([64, 13])"
      ]
     },
     "execution_count": 8,
     "metadata": {},
     "output_type": "execute_result"
    }
   ],
   "source": [
    "# test forward pass\n",
    "x, y = next(iter(train_loader))\n",
    "print(f\"x.shape: {x.shape}\")\n",
    "\n",
    "if cuda:\n",
    "    x = x.cuda()\n",
    "\n",
    "output = model(x)\n",
    "output.shape"
   ]
  },
  {
   "cell_type": "code",
   "execution_count": 9,
   "metadata": {},
   "outputs": [
    {
     "name": "stdout",
     "output_type": "stream",
     "text": [
      "CELL_CNN_CLASSIFIER_\n"
     ]
    }
   ],
   "source": [
    "# define dirs for the saving of model / data\n",
    "MODEL_NAME = f\"{model.__class__.__name__}_\"\n",
    "MODEL_DIR = \"trained_models/\"\n",
    "TRAIN_DATA_DIR = \"train_data/\"\n",
    "\n",
    "print(MODEL_NAME)\n"
   ]
  },
  {
   "cell_type": "code",
   "execution_count": 10,
   "metadata": {},
   "outputs": [
    {
     "name": "stdout",
     "output_type": "stream",
     "text": [
      "Epoch 1/50, Loss: 0.8204292749938762, Accuracy: 0.7462995666120665, Val Loss: 0.6908568402570745, Val Accuracy: 0.7811476248976249\n",
      "Epoch 2/50, Loss: 0.6286704922544966, Accuracy: 0.7986264673764674, Val Loss: 0.6289578901998925, Val Accuracy: 0.7954801392301393\n",
      "Epoch 3/50, Loss: 0.5410477071969994, Accuracy: 0.8221966284466284, Val Loss: 0.6085965486333372, Val Accuracy: 0.8014050982800983\n",
      "Epoch 4/50, Loss: 0.4673347670270662, Accuracy: 0.8424238158613159, Val Loss: 0.5944746705496731, Val Accuracy: 0.8115658271908271\n",
      "Epoch 5/50, Loss: 0.39675105441846775, Accuracy: 0.8634241485803986, Val Loss: 0.6505286867847021, Val Accuracy: 0.8021345208845209\n",
      "Epoch 6/50, Loss: 0.3334185807316592, Accuracy: 0.8831471386158886, Val Loss: 0.6907461678684002, Val Accuracy: 0.807713963963964\n",
      "Epoch 7/50, Loss: 0.2742990449125849, Accuracy: 0.9020415301665301, Val Loss: 0.795503208497623, Val Accuracy: 0.8002021908271908\n",
      "Epoch 8/50, Loss: 0.2311254647426173, Accuracy: 0.9169985326235326, Val Loss: 0.8803047901850856, Val Accuracy: 0.7870213963963963\n",
      "Epoch 9/50, Loss: 0.1985966687431646, Accuracy: 0.9278558387933388, Val Loss: 1.0150526151683466, Val Accuracy: 0.7918202293202293\n",
      "Epoch 10/50, Loss: 0.17131751277167456, Accuracy: 0.9382703726453726, Val Loss: 1.137828027172034, Val Accuracy: 0.787750819000819\n",
      "Epoch 11/50, Loss: 0.15446312204678372, Accuracy: 0.944438685844936, Val Loss: 1.1665030857220133, Val Accuracy: 0.7850250819000819\n",
      "Epoch 12/50, Loss: 0.13946488892564582, Accuracy: 0.9503506347256346, Val Loss: 1.3521488642443602, Val Accuracy: 0.7896703521703522\n",
      "Epoch 13/50, Loss: 0.1305388643592825, Accuracy: 0.9542317175129675, Val Loss: 1.3094711330803959, Val Accuracy: 0.775325040950041\n",
      "Epoch 14/50, Loss: 0.12005054469349627, Accuracy: 0.9579583845208844, Val Loss: 1.442506330385255, Val Accuracy: 0.784551597051597\n",
      "Epoch 15/50, Loss: 0.1132364278827221, Accuracy: 0.9609110530985531, Val Loss: 1.4769812453291047, Val Accuracy: 0.7823761261261262\n",
      "Epoch 16/50, Loss: 0.10681861921022498, Accuracy: 0.9634070860633361, Val Loss: 1.5791455774303345, Val Accuracy: 0.7843724406224406\n",
      "Epoch 17/50, Loss: 0.1046587914596182, Accuracy: 0.9648531343843845, Val Loss: 1.7043760501147294, Val Accuracy: 0.7868806306306306\n",
      "Epoch 18/50, Loss: 0.09970397597914302, Accuracy: 0.9668428371553373, Val Loss: 1.7397519054103348, Val Accuracy: 0.7767582923832924\n",
      "Epoch 19/50, Loss: 0.09570727236262873, Accuracy: 0.968208904927655, Val Loss: 1.8095344222783065, Val Accuracy: 0.7828880016380017\n",
      "Epoch 20/50, Loss: 0.09454614659960105, Accuracy: 0.9693800334425335, Val Loss: 1.7625354066869452, Val Accuracy: 0.7806229524979525\n",
      "Epoch 21/50, Loss: 0.09348324558883896, Accuracy: 0.9699364847802349, Val Loss: 1.8311414284529401, Val Accuracy: 0.7866886773136773\n",
      "Epoch 22/50, Loss: 0.08940671770988844, Accuracy: 0.9714940793065793, Val Loss: 2.057217758762163, Val Accuracy: 0.7774621212121212\n",
      "Epoch 23/50, Loss: 0.11286711250015896, Accuracy: 0.9659570792383292, Val Loss: 2.0662314903164964, Val Accuracy: 0.7760160728910729\n",
      "Epoch 24/50, Loss: 0.08322135346972899, Accuracy: 0.9736377712940213, Val Loss: 2.0128948928927124, Val Accuracy: 0.7853833947583948\n",
      "Epoch 25/50, Loss: 0.08620069657424421, Accuracy: 0.9730619113431613, Val Loss: 2.0615867229146514, Val Accuracy: 0.780456592956593\n",
      "Epoch 26/50, Loss: 0.08407634970795247, Accuracy: 0.9739992833742833, Val Loss: 2.0402342042505106, Val Accuracy: 0.7804693898443898\n",
      "Epoch 27/50, Loss: 0.08272033404274247, Accuracy: 0.9746973536036037, Val Loss: 2.200994615277533, Val Accuracy: 0.7667127354627354\n",
      "Epoch 28/50, Loss: 0.08314056033862566, Accuracy: 0.9748632865820367, Val Loss: 2.1430424780117305, Val Accuracy: 0.7823377354627354\n",
      "Epoch 29/50, Loss: 0.08027577643849008, Accuracy: 0.9759951713076713, Val Loss: 2.402947296064277, Val Accuracy: 0.7816850941850941\n",
      "Epoch 30/50, Loss: 0.07979796275540257, Accuracy: 0.976078990922741, Val Loss: 2.2020046272109903, Val Accuracy: 0.7779228091728092\n",
      "Epoch 31/50, Loss: 0.10049365857508877, Accuracy: 0.9728610002047502, Val Loss: 2.3443763404474405, Val Accuracy: 0.7743652743652744\n",
      "Epoch 32/50, Loss: 0.09550435760083228, Accuracy: 0.9722749027436527, Val Loss: 2.47360232091653, Val Accuracy: 0.7838477682227682\n",
      "Epoch 33/50, Loss: 0.07473335056298917, Accuracy: 0.9780140936390936, Val Loss: 2.197128103904115, Val Accuracy: 0.7758497133497133\n",
      "Epoch 34/50, Loss: 0.0776163852498342, Accuracy: 0.9773138905951407, Val Loss: 2.742172031447499, Val Accuracy: 0.7852298321048321\n",
      "Epoch 35/50, Loss: 0.07626176250217032, Accuracy: 0.977902973996724, Val Loss: 2.611181042459927, Val Accuracy: 0.7839757371007371\n",
      "Epoch 36/50, Loss: 0.0890314458788054, Accuracy: 0.9748184974747476, Val Loss: 2.900819441268524, Val Accuracy: 0.7829007985257985\n",
      "Epoch 37/50, Loss: 0.07138159548867332, Accuracy: 0.9793935981435982, Val Loss: 2.506350853861013, Val Accuracy: 0.7803670147420148\n",
      "Epoch 38/50, Loss: 0.08040030818900036, Accuracy: 0.9775860377422878, Val Loss: 2.7780353791102534, Val Accuracy: 0.7803670147420148\n",
      "Epoch 39/50, Loss: 0.07474614801195993, Accuracy: 0.9793296137046138, Val Loss: 2.6023074926459135, Val Accuracy: 0.781595515970516\n",
      "Epoch 40/50, Loss: 0.07522544994626768, Accuracy: 0.9790608790608791, Val Loss: 2.339833578010937, Val Accuracy: 0.7794840294840295\n",
      "Epoch 41/50, Loss: 0.07648532563057263, Accuracy: 0.9789228859541359, Val Loss: 2.5149500492066266, Val Accuracy: 0.7714091932841933\n",
      "Epoch 42/50, Loss: 0.07332255241966447, Accuracy: 0.9799788424788426, Val Loss: 2.704780344612573, Val Accuracy: 0.772919226044226\n",
      "Epoch 43/50, Loss: 0.09828753137309792, Accuracy: 0.9743002235189736, Val Loss: 2.7208628519991205, Val Accuracy: 0.7800982800982801\n",
      "Epoch 44/50, Loss: 0.07532915258841962, Accuracy: 0.9796113585176085, Val Loss: 3.071945192431154, Val Accuracy: 0.777948402948403\n",
      "Epoch 45/50, Loss: 0.07316036086663029, Accuracy: 0.9801006261943762, Val Loss: 2.990304863862968, Val Accuracy: 0.7815059377559378\n",
      "Epoch 46/50, Loss: 0.07587659732271358, Accuracy: 0.9800298167485667, Val Loss: 3.2034864878185845, Val Accuracy: 0.7839245495495496\n",
      "Epoch 47/50, Loss: 0.07435768086642765, Accuracy: 0.9804523273273275, Val Loss: 3.173129430713466, Val Accuracy: 0.7845388001638002\n",
      "Epoch 48/50, Loss: 0.07101295994297166, Accuracy: 0.9815274791837292, Val Loss: 3.1137439145795835, Val Accuracy: 0.7778588247338247\n",
      "Epoch 49/50, Loss: 0.07632098159675248, Accuracy: 0.9802027880152882, Val Loss: 3.773053199858279, Val Accuracy: 0.7784858722358723\n",
      "Epoch 50/50, Loss: 0.07745563701063862, Accuracy: 0.9799918526481027, Val Loss: 3.114242198572698, Val Accuracy: 0.7838477682227682\n"
     ]
    }
   ],
   "source": [
    "num_epochs = 50\n",
    "train_loss = []\n",
    "train_accuracy = []\n",
    "val_loss = []\n",
    "val_accuracy = []\n",
    "best_loss = np.inf\n",
    "\n",
    "for epoch in range(num_epochs):\n",
    "    batch_loss = []\n",
    "    batch_accuracy = []\n",
    "    model.train()\n",
    "\n",
    "    for x, y in train_loader:\n",
    "        if cuda:\n",
    "            x, y = x.cuda(), y.cuda()\n",
    "\n",
    "        optimizer.zero_grad()\n",
    "        output = model(x)\n",
    "        loss = loss_function(output, y)\n",
    "        loss.backward()\n",
    "        optimizer.step()\n",
    "\n",
    "        batch_loss.append(loss.item())\n",
    "        batch_accuracy.append((output.argmax(1) == y).float().mean().item())\n",
    "\n",
    "    train_loss.append(np.mean(batch_loss))\n",
    "    train_accuracy.append(np.mean(batch_accuracy))\n",
    "    if val:\n",
    "        model.eval()\n",
    "        with torch.no_grad():\n",
    "            batch_loss = []\n",
    "            batch_accuracy = []\n",
    "            for x, y in val_loader:\n",
    "                if cuda:\n",
    "                    x, y = x.cuda(), y.cuda()\n",
    "\n",
    "                output = model(x)\n",
    "                loss = loss_function(output, y)\n",
    "\n",
    "                batch_loss.append(loss.item())\n",
    "                batch_accuracy.append((output.argmax(1) == y).float().mean().item())\n",
    "\n",
    "            val_loss.append(np.mean(batch_loss))\n",
    "            val_accuracy.append(np.mean(batch_accuracy))\n",
    "\n",
    "            if val_loss[-1] < best_loss:\n",
    "                best_loss = val_loss[-1]\n",
    "                torch.save(model.state_dict(), MODEL_DIR + MODEL_NAME + \"best_model.pth\")\n",
    "\n",
    "    print(f\"Epoch {epoch+1}/{num_epochs}, Loss: {train_loss[-1]}, Accuracy: {train_accuracy[-1]}, Val Loss: {val_loss[-1] if val else None}, Val Accuracy: {val_accuracy[-1] if val else None}\")"
   ]
  },
  {
   "cell_type": "markdown",
   "metadata": {},
   "source": [
    "# Evaluate performance on test set"
   ]
  },
  {
   "cell_type": "code",
   "execution_count": 17,
   "metadata": {},
   "outputs": [
    {
     "name": "stdout",
     "output_type": "stream",
     "text": [
      "Test Loss: 3.012038831080029, Test Accuracy: 0.7880239030779306\n"
     ]
    }
   ],
   "source": [
    "test_loss = []\n",
    "test_accuracy = []\n",
    "\n",
    "model.eval()\n",
    "\n",
    "with torch.no_grad():\n",
    "    for x, y in test_loader:\n",
    "        if cuda:\n",
    "            x, y = x.cuda(), y.cuda()\n",
    "\n",
    "        output = model(x)\n",
    "        loss = loss_function(output, y)\n",
    "\n",
    "        test_loss.append(loss.item())\n",
    "        test_accuracy.append((output.argmax(1) == y).cpu().numpy().mean())\n",
    "    \n",
    "    print(f\"Test Loss: {np.mean(test_loss)}, Test Accuracy: {np.mean(test_accuracy)}\")"
   ]
  },
  {
   "cell_type": "code",
   "execution_count": 18,
   "metadata": {},
   "outputs": [
    {
     "data": {
      "image/png": "[encoded data removed]",
      "text/plain": [
       "<Figure size 640x480 with 1 Axes>"
      ]
     },
     "metadata": {},
     "output_type": "display_data"
    },
    {
     "data": {
      "image/png": "[encoded data removed]",
      "text/plain": [
       "<Figure size 640x480 with 1 Axes>"
      ]
     },
     "metadata": {},
     "output_type": "display_data"
    },
    {
     "data": {
      "image/png": "[encoded data removed]",
      "text/plain": [
       "<Figure size 640x480 with 1 Axes>"
      ]
     },
     "metadata": {},
     "output_type": "display_data"
    }
   ],
   "source": [
    "# make a dictionary with the losses as keys and the values as lists\n",
    "loss_data = {}\n",
    "loss_data[\"train_loss\"] = train_loss\n",
    "loss_data[\"val_loss\"] = val_loss\n",
    "loss_data[\"test_loss\"] = np.mean(test_loss)\n",
    "\n",
    "accuracy_data = {}\n",
    "accuracy_data[\"train_accuracy\"] = train_accuracy\n",
    "accuracy_data[\"val_accuracy\"] = val_accuracy\n",
    "accuracy_data[\"test_accuracy\"] = np.mean(test_accuracy)\n",
    "\n",
    "loss_plots(loss_data, invidual_plots=True)\n",
    "# accuracy_plots(accuracy_data)\n",
    "\n",
    "# combine to one dict\n",
    "data = loss_data | accuracy_data\n",
    "\n",
    "# save the data\n",
    "df = pd.DataFrame(data)\n",
    "try:\n",
    "    old_df = pd.read_csv(TRAIN_DATA_DIR + MODEL_NAME + \"data.csv\")\n",
    "    df = pd.concat([old_df, df])\n",
    "except:\n",
    "    pass\n",
    "df.to_csv(TRAIN_DATA_DIR + MODEL_NAME + \"data.csv\", index=False)\n"
   ]
  },
  {
   "cell_type": "markdown",
   "metadata": {},
   "source": [
    "## Test model"
   ]
  },
  {
   "cell_type": "code",
   "execution_count": 12,
   "metadata": {},
   "outputs": [
    {
     "name": "stdout",
     "output_type": "stream",
     "text": [
      "Test accuracy: 0.7880239030779306\n"
     ]
    }
   ],
   "source": [
    "# test model on test data\n",
    "model.eval()\n",
    "test_accuracy = []\n",
    "for x, y in test_loader:\n",
    "    if cuda:\n",
    "        x, y = x.cuda(), y.cuda()\n",
    "\n",
    "    with torch.no_grad():\n",
    "        output = model(x)\n",
    "        test_accuracy.append((output.argmax(1) == y).float().mean().item())\n",
    "\n",
    "print(f\"Test accuracy: {np.mean(test_accuracy)}\")\n",
    "\n"
   ]
  },
  {
   "cell_type": "code",
   "execution_count": 14,
   "metadata": {},
   "outputs": [],
   "source": [
    "# calculate prediction accuracy for each class\n",
    "class_correct = defaultdict(int)\n",
    "class_total = defaultdict(int)\n",
    "\n",
    "model.eval()\n",
    "\n",
    "for x, y in test_loader:\n",
    "    if cuda:\n",
    "        x, y = x.cuda(), y.cuda()\n",
    "\n",
    "    with torch.no_grad():\n",
    "        output = model(x)\n",
    "        correct = (output.argmax(1) == y).float()\n",
    "\n",
    "        for i in range(len(y)):\n",
    "            label = y[i].item()\n",
    "            class_correct[label] += correct[i].item()\n",
    "            class_total[label] += 1\n"
   ]
  },
  {
   "cell_type": "code",
   "execution_count": 15,
   "metadata": {},
   "outputs": [
    {
     "name": "stdout",
     "output_type": "stream",
     "text": [
      "Accuracy for class Actin disruptors: 0.7968021319120586\n",
      "Accuracy for class Aurora kinase inhibitors: 0.6268833087149187\n",
      "Accuracy for class Cholesterol-lowering: 0.3912231559290383\n",
      "Accuracy for class DMSO: 0.9066722057654794\n",
      "Accuracy for class DNA damage: 0.2020414290003002\n",
      "Accuracy for class DNA replication: 0.24547101449275363\n",
      "Accuracy for class Eg5 inhibitors: 0.5670347003154574\n",
      "Accuracy for class Epithelial: 0.3466981132075472\n",
      "Accuracy for class Kinase inhibitors: 0.13200173686495875\n",
      "Accuracy for class Microtubule destabilizers: 0.5648208469055375\n",
      "Accuracy for class Microtubule stabilizers: 0.905575791538246\n",
      "Accuracy for class Protein degradation: 0.23567393058918482\n",
      "Accuracy for class Protein synthesis: 0.5781966377992868\n"
     ]
    }
   ],
   "source": [
    "class_accuracies = {k: class_correct[k] / class_total[k] for k in class_correct.keys()}\n",
    "\n",
    "for i in range(len(class_accuracies)):\n",
    "    print(f\"Accuracy for class {dataset.dataset.classes[i]}: {class_accuracies[i]}\")\n",
    "\n"
   ]
  },
  {
   "cell_type": "code",
   "execution_count": 16,
   "metadata": {},
   "outputs": [
    {
     "data": {
      "application/vnd.plotly.v1+json": {
       "config": {
        "plotlyServerURL": "https://plot.ly"
       },
       "data": [
        {
         "alignmentgroup": "True",
         "hovertemplate": "x=%{x}<br>y=%{y}<extra></extra>",
         "legendgroup": "",
         "marker": {
          "color": "#636efa",
          "pattern": {
           "shape": ""
          }
         },
         "name": "",
         "offsetgroup": "",
         "orientation": "v",
         "showlegend": false,
         "textposition": "auto",
         "type": "bar",
         "x": [
          "Microtubule stabilizers",
          "DMSO",
          "Kinase inhibitors",
          "Protein synthesis",
          "Microtubule destabilizers",
          "Cholesterol-lowering",
          "DNA damage",
          "Actin disruptors",
          "Epithelial",
          "Eg5 inhibitors",
          "Aurora kinase inhibitors",
          "Protein degradation",
          "DNA replication"
         ],
         "xaxis": "x",
         "y": [
          0.905575791538246,
          0.9066722057654794,
          0.13200173686495875,
          0.5781966377992868,
          0.5648208469055375,
          0.3912231559290383,
          0.2020414290003002,
          0.7968021319120586,
          0.3466981132075472,
          0.5670347003154574,
          0.6268833087149187,
          0.23567393058918482,
          0.24547101449275363
         ],
         "yaxis": "y"
        }
       ],
       "layout": {
        "barmode": "relative",
        "legend": {
         "tracegroupgap": 0
        },
        "margin": {
         "t": 60
        },
        "template": {
         "data": {
          "bar": [
           {
            "error_x": {
             "color": "#2a3f5f"
            },
            "error_y": {
             "color": "#2a3f5f"
            },
            "marker": {
             "line": {
              "color": "#E5ECF6",
              "width": 0.5
             },
             "pattern": {
              "fillmode": "overlay",
              "size": 10,
              "solidity": 0.2
             }
            },
            "type": "bar"
           }
          ],
          "barpolar": [
           {
            "marker": {
             "line": {
              "color": "#E5ECF6",
              "width": 0.5
             },
             "pattern": {
              "fillmode": "overlay",
              "size": 10,
              "solidity": 0.2
             }
            },
            "type": "barpolar"
           }
          ],
          "carpet": [
           {
            "aaxis": {
             "endlinecolor": "#2a3f5f",
             "gridcolor": "white",
             "linecolor": "white",
             "minorgridcolor": "white",
             "startlinecolor": "#2a3f5f"
            },
            "baxis": {
             "endlinecolor": "#2a3f5f",
             "gridcolor": "white",
             "linecolor": "white",
             "minorgridcolor": "white",
             "startlinecolor": "#2a3f5f"
            },
            "type": "carpet"
           }
          ],
          "choropleth": [
           {
            "colorbar": {
             "outlinewidth": 0,
             "ticks": ""
            },
            "type": "choropleth"
           }
          ],
          "contour": [
           {
            "colorbar": {
             "outlinewidth": 0,
             "ticks": ""
            },
            "colorscale": [
             [
              0,
              "#0d0887"
             ],
             [
              0.1111111111111111,
              "#46039f"
             ],
             [
              0.2222222222222222,
              "#7201a8"
             ],
             [
              0.3333333333333333,
              "#9c179e"
             ],
             [
              0.4444444444444444,
              "#bd3786"
             ],
             [
              0.5555555555555556,
              "#d8576b"
             ],
             [
              0.6666666666666666,
              "#ed7953"
             ],
             [
              0.7777777777777778,
              "#fb9f3a"
             ],
             [
              0.8888888888888888,
              "#fdca26"
             ],
             [
              1,
              "#f0f921"
             ]
            ],
            "type": "contour"
           }
          ],
          "contourcarpet": [
           {
            "colorbar": {
             "outlinewidth": 0,
             "ticks": ""
            },
            "type": "contourcarpet"
           }
          ],
          "heatmap": [
           {
            "colorbar": {
             "outlinewidth": 0,
             "ticks": ""
            },
            "colorscale": [
             [
              0,
              "#0d0887"
             ],
             [
              0.1111111111111111,
              "#46039f"
             ],
             [
              0.2222222222222222,
              "#7201a8"
             ],
             [
              0.3333333333333333,
              "#9c179e"
             ],
             [
              0.4444444444444444,
              "#bd3786"
             ],
             [
              0.5555555555555556,
              "#d8576b"
             ],
             [
              0.6666666666666666,
              "#ed7953"
             ],
             [
              0.7777777777777778,
              "#fb9f3a"
             ],
             [
              0.8888888888888888,
              "#fdca26"
             ],
             [
              1,
              "#f0f921"
             ]
            ],
            "type": "heatmap"
           }
          ],
          "heatmapgl": [
           {
            "colorbar": {
             "outlinewidth": 0,
             "ticks": ""
            },
            "colorscale": [
             [
              0,
              "#0d0887"
             ],
             [
              0.1111111111111111,
              "#46039f"
             ],
             [
              0.2222222222222222,
              "#7201a8"
             ],
             [
              0.3333333333333333,
              "#9c179e"
             ],
             [
              0.4444444444444444,
              "#bd3786"
             ],
             [
              0.5555555555555556,
              "#d8576b"
             ],
             [
              0.6666666666666666,
              "#ed7953"
             ],
             [
              0.7777777777777778,
              "#fb9f3a"
             ],
             [
              0.8888888888888888,
              "#fdca26"
             ],
             [
              1,
              "#f0f921"
             ]
            ],
            "type": "heatmapgl"
           }
          ],
          "histogram": [
           {
            "marker": {
             "pattern": {
              "fillmode": "overlay",
              "size": 10,
              "solidity": 0.2
             }
            },
            "type": "histogram"
           }
          ],
          "histogram2d": [
           {
            "colorbar": {
             "outlinewidth": 0,
             "ticks": ""
            },
            "colorscale": [
             [
              0,
              "#0d0887"
             ],
             [
              0.1111111111111111,
              "#46039f"
             ],
             [
              0.2222222222222222,
              "#7201a8"
             ],
             [
              0.3333333333333333,
              "#9c179e"
             ],
             [
              0.4444444444444444,
              "#bd3786"
             ],
             [
              0.5555555555555556,
              "#d8576b"
             ],
             [
              0.6666666666666666,
              "#ed7953"
             ],
             [
              0.7777777777777778,
              "#fb9f3a"
             ],
             [
              0.8888888888888888,
              "#fdca26"
             ],
             [
              1,
              "#f0f921"
             ]
            ],
            "type": "histogram2d"
           }
          ],
          "histogram2dcontour": [
           {
            "colorbar": {
             "outlinewidth": 0,
             "ticks": ""
            },
            "colorscale": [
             [
              0,
              "#0d0887"
             ],
             [
              0.1111111111111111,
              "#46039f"
             ],
             [
              0.2222222222222222,
              "#7201a8"
             ],
             [
              0.3333333333333333,
              "#9c179e"
             ],
             [
              0.4444444444444444,
              "#bd3786"
             ],
             [
              0.5555555555555556,
              "#d8576b"
             ],
             [
              0.6666666666666666,
              "#ed7953"
             ],
             [
              0.7777777777777778,
              "#fb9f3a"
             ],
             [
              0.8888888888888888,
              "#fdca26"
             ],
             [
              1,
              "#f0f921"
             ]
            ],
            "type": "histogram2dcontour"
           }
          ],
          "mesh3d": [
           {
            "colorbar": {
             "outlinewidth": 0,
             "ticks": ""
            },
            "type": "mesh3d"
           }
          ],
          "parcoords": [
           {
            "line": {
             "colorbar": {
              "outlinewidth": 0,
              "ticks": ""
             }
            },
            "type": "parcoords"
           }
          ],
          "pie": [
           {
            "automargin": true,
            "type": "pie"
           }
          ],
          "scatter": [
           {
            "fillpattern": {
             "fillmode": "overlay",
             "size": 10,
             "solidity": 0.2
            },
            "type": "scatter"
           }
          ],
          "scatter3d": [
           {
            "line": {
             "colorbar": {
              "outlinewidth": 0,
              "ticks": ""
             }
            },
            "marker": {
             "colorbar": {
              "outlinewidth": 0,
              "ticks": ""
             }
            },
            "type": "scatter3d"
           }
          ],
          "scattercarpet": [
           {
            "marker": {
             "colorbar": {
              "outlinewidth": 0,
              "ticks": ""
             }
            },
            "type": "scattercarpet"
           }
          ],
          "scattergeo": [
           {
            "marker": {
             "colorbar": {
              "outlinewidth": 0,
              "ticks": ""
             }
            },
            "type": "scattergeo"
           }
          ],
          "scattergl": [
           {
            "marker": {
             "colorbar": {
              "outlinewidth": 0,
              "ticks": ""
             }
            },
            "type": "scattergl"
           }
          ],
          "scattermapbox": [
           {
            "marker": {
             "colorbar": {
              "outlinewidth": 0,
              "ticks": ""
             }
            },
            "type": "scattermapbox"
           }
          ],
          "scatterpolar": [
           {
            "marker": {
             "colorbar": {
              "outlinewidth": 0,
              "ticks": ""
             }
            },
            "type": "scatterpolar"
           }
          ],
          "scatterpolargl": [
           {
            "marker": {
             "colorbar": {
              "outlinewidth": 0,
              "ticks": ""
             }
            },
            "type": "scatterpolargl"
           }
          ],
          "scatterternary": [
           {
            "marker": {
             "colorbar": {
              "outlinewidth": 0,
              "ticks": ""
             }
            },
            "type": "scatterternary"
           }
          ],
          "surface": [
           {
            "colorbar": {
             "outlinewidth": 0,
             "ticks": ""
            },
            "colorscale": [
             [
              0,
              "#0d0887"
             ],
             [
              0.1111111111111111,
              "#46039f"
             ],
             [
              0.2222222222222222,
              "#7201a8"
             ],
             [
              0.3333333333333333,
              "#9c179e"
             ],
             [
              0.4444444444444444,
              "#bd3786"
             ],
             [
              0.5555555555555556,
              "#d8576b"
             ],
             [
              0.6666666666666666,
              "#ed7953"
             ],
             [
              0.7777777777777778,
              "#fb9f3a"
             ],
             [
              0.8888888888888888,
              "#fdca26"
             ],
             [
              1,
              "#f0f921"
             ]
            ],
            "type": "surface"
           }
          ],
          "table": [
           {
            "cells": {
             "fill": {
              "color": "#EBF0F8"
             },
             "line": {
              "color": "white"
             }
            },
            "header": {
             "fill": {
              "color": "#C8D4E3"
             },
             "line": {
              "color": "white"
             }
            },
            "type": "table"
           }
          ]
         },
         "layout": {
          "annotationdefaults": {
           "arrowcolor": "#2a3f5f",
           "arrowhead": 0,
           "arrowwidth": 1
          },
          "autotypenumbers": "strict",
          "coloraxis": {
           "colorbar": {
            "outlinewidth": 0,
            "ticks": ""
           }
          },
          "colorscale": {
           "diverging": [
            [
             0,
             "#8e0152"
            ],
            [
             0.1,
             "#c51b7d"
            ],
            [
             0.2,
             "#de77ae"
            ],
            [
             0.3,
             "#f1b6da"
            ],
            [
             0.4,
             "#fde0ef"
            ],
            [
             0.5,
             "#f7f7f7"
            ],
            [
             0.6,
             "#e6f5d0"
            ],
            [
             0.7,
             "#b8e186"
            ],
            [
             0.8,
             "#7fbc41"
            ],
            [
             0.9,
             "#4d9221"
            ],
            [
             1,
             "#276419"
            ]
           ],
           "sequential": [
            [
             0,
             "#0d0887"
            ],
            [
             0.1111111111111111,
             "#46039f"
            ],
            [
             0.2222222222222222,
             "#7201a8"
            ],
            [
             0.3333333333333333,
             "#9c179e"
            ],
            [
             0.4444444444444444,
             "#bd3786"
            ],
            [
             0.5555555555555556,
             "#d8576b"
            ],
            [
             0.6666666666666666,
             "#ed7953"
            ],
            [
             0.7777777777777778,
             "#fb9f3a"
            ],
            [
             0.8888888888888888,
             "#fdca26"
            ],
            [
             1,
             "#f0f921"
            ]
           ],
           "sequentialminus": [
            [
             0,
             "#0d0887"
            ],
            [
             0.1111111111111111,
             "#46039f"
            ],
            [
             0.2222222222222222,
             "#7201a8"
            ],
            [
             0.3333333333333333,
             "#9c179e"
            ],
            [
             0.4444444444444444,
             "#bd3786"
            ],
            [
             0.5555555555555556,
             "#d8576b"
            ],
            [
             0.6666666666666666,
             "#ed7953"
            ],
            [
             0.7777777777777778,
             "#fb9f3a"
            ],
            [
             0.8888888888888888,
             "#fdca26"
            ],
            [
             1,
             "#f0f921"
            ]
           ]
          },
          "colorway": [
           "#636efa",
           "#EF553B",
           "#00cc96",
           "#ab63fa",
           "#FFA15A",
           "#19d3f3",
           "#FF6692",
           "#B6E880",
           "#FF97FF",
           "#FECB52"
          ],
          "font": {
           "color": "#2a3f5f"
          },
          "geo": {
           "bgcolor": "white",
           "lakecolor": "white",
           "landcolor": "#E5ECF6",
           "showlakes": true,
           "showland": true,
           "subunitcolor": "white"
          },
          "hoverlabel": {
           "align": "left"
          },
          "hovermode": "closest",
          "mapbox": {
           "style": "light"
          },
          "paper_bgcolor": "white",
          "plot_bgcolor": "#E5ECF6",
          "polar": {
           "angularaxis": {
            "gridcolor": "white",
            "linecolor": "white",
            "ticks": ""
           },
           "bgcolor": "#E5ECF6",
           "radialaxis": {
            "gridcolor": "white",
            "linecolor": "white",
            "ticks": ""
           }
          },
          "scene": {
           "xaxis": {
            "backgroundcolor": "#E5ECF6",
            "gridcolor": "white",
            "gridwidth": 2,
            "linecolor": "white",
            "showbackground": true,
            "ticks": "",
            "zerolinecolor": "white"
           },
           "yaxis": {
            "backgroundcolor": "#E5ECF6",
            "gridcolor": "white",
            "gridwidth": 2,
            "linecolor": "white",
            "showbackground": true,
            "ticks": "",
            "zerolinecolor": "white"
           },
           "zaxis": {
            "backgroundcolor": "#E5ECF6",
            "gridcolor": "white",
            "gridwidth": 2,
            "linecolor": "white",
            "showbackground": true,
            "ticks": "",
            "zerolinecolor": "white"
           }
          },
          "shapedefaults": {
           "line": {
            "color": "#2a3f5f"
           }
          },
          "ternary": {
           "aaxis": {
            "gridcolor": "white",
            "linecolor": "white",
            "ticks": ""
           },
           "baxis": {
            "gridcolor": "white",
            "linecolor": "white",
            "ticks": ""
           },
           "bgcolor": "#E5ECF6",
           "caxis": {
            "gridcolor": "white",
            "linecolor": "white",
            "ticks": ""
           }
          },
          "title": {
           "x": 0.05
          },
          "xaxis": {
           "automargin": true,
           "gridcolor": "white",
           "linecolor": "white",
           "ticks": "",
           "title": {
            "standoff": 15
           },
           "zerolinecolor": "white",
           "zerolinewidth": 2
          },
          "yaxis": {
           "automargin": true,
           "gridcolor": "white",
           "linecolor": "white",
           "ticks": "",
           "title": {
            "standoff": 15
           },
           "zerolinecolor": "white",
           "zerolinewidth": 2
          }
         }
        },
        "xaxis": {
         "anchor": "y",
         "domain": [
          0,
          1
         ],
         "title": {
          "text": "x"
         }
        },
        "yaxis": {
         "anchor": "x",
         "domain": [
          0,
          1
         ],
         "title": {
          "text": "y"
         }
        }
       }
      }
     },
     "metadata": {},
     "output_type": "display_data"
    }
   ],
   "source": [
    "import plotly.express as px\n",
    "\n",
    "# bar plot of class accuracies\n",
    "fig = px.bar(x=[dataset.dataset.classes[i] for i in class_accuracies.keys()], y=list(class_accuracies.values()))\n",
    "fig.show()"
   ]
  }
 ],
 "metadata": {
  "kernelspec": {
   "display_name": "Python 3",
   "language": "python",
   "name": "python3"
  },
  "language_info": {
   "codemirror_mode": {
    "name": "ipython",
    "version": 3
   },
   "file_extension": ".py",
   "mimetype": "text/x-python",
   "name": "python",
   "nbconvert_exporter": "python",
   "pygments_lexer": "ipython3",
   "version": "3.9.13"
  }
 },
 "nbformat": 4,
 "nbformat_minor": 2
}
